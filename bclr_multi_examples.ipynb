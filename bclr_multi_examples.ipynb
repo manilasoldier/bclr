{
 "cells": [
  {
   "cell_type": "code",
   "execution_count": 261,
   "id": "42bbf83e",
   "metadata": {},
   "outputs": [],
   "source": [
    "import bclr\n",
    "import ruptures as rpt\n",
    "import numpy as np\n",
    "from ruptures.metrics import randindex\n",
    "from sklearn.preprocessing import StandardScaler, PolynomialFeatures\n",
    "from scipy.stats import multivariate_normal, binom\n",
    "import matplotlib.pyplot as plt\n",
    "import pandas as pd\n",
    "import changeforest\n",
    "from sklearn.linear_model import LogisticRegression, LinearRegression\n",
    "from ecp import e_divisive\n",
    "\n",
    "from scipy.special import comb\n",
    "from scipy.stats import median_abs_deviation as mad\n",
    "from sklearn.metrics import adjusted_rand_score\n",
    "\n",
    "pf = PolynomialFeatures(include_bias=False)\n",
    "ss = StandardScaler()"
   ]
  },
  {
   "cell_type": "code",
   "execution_count": 327,
   "id": "7639428d-a64f-4029-b937-0c4c34c8f5cd",
   "metadata": {},
   "outputs": [],
   "source": [
    "def kcp_slhr(signal, Dmax = 100, div_med = True, gamma=0.02, alpha=2):\n",
    "    \"Implements slope heuristic of Arlot, Celisse, and Harchaoui (2019)\"\n",
    "    mads = mad(np.abs(np.diff(signal, axis=0)), axis=0)\n",
    "    if div_med:\n",
    "        signal = signal/mads\n",
    "    \n",
    "    kcp_obj = rpt.KernelCPD(kernel='rbf', params={'gamma': gamma})\n",
    "    cost_obj = rpt.costs.CostRbf(gamma=gamma)\n",
    "\n",
    "    kcp_obj.fit(signal)\n",
    "    cost_obj.fit(signal)\n",
    "    \n",
    "    Dlow = int(0.6*Dmax)\n",
    "    y = []\n",
    "    n = len(signal)\n",
    "    for k in range(1, Dmax+1):\n",
    "        bkps_k = kcp_obj.predict(n_bkps=k)\n",
    "        y.append(cost_obj.sum_of_costs(bkps_k))\n",
    "    \n",
    "    x1 = np.log(comb(np.repeat(n-1, Dmax), np.arange(1, Dmax+1)-1))/n\n",
    "    x2 = np.arange(1, Dmax+1)/n\n",
    "    X = np.c_[x1, x2]\n",
    "    lrs = LinearRegression()\n",
    "    lrs.fit(X[(Dlow-1):,:], y[(Dlow-1):])\n",
    "    pen = (X @ np.expand_dims(-alpha*lrs.coef_, axis=1))[:,0]\n",
    "    ncps = np.argmin(y + pen)\n",
    "    return kcp_obj.predict(n_bkps=ncps+1)\n"
   ]
  },
  {
   "cell_type": "markdown",
   "id": "b5e575c8",
   "metadata": {},
   "source": [
    "Multiple changepoint demo"
   ]
  },
  {
   "cell_type": "code",
   "execution_count": 368,
   "id": "f1ceed77",
   "metadata": {},
   "outputs": [],
   "source": [
    "np.random.seed(191293)\n",
    "n, dim = 1000, 5 # number of samples, dimension\n",
    "n_bkps, sigma = 10, 3 # number of change points, noise standard deviation\n",
    "signal, bkps = rpt.pw_constant(n, dim, n_bkps, noise_std=sigma)"
   ]
  },
  {
   "cell_type": "code",
   "execution_count": 369,
   "id": "1b22d7b9",
   "metadata": {
    "scrolled": true
   },
   "outputs": [
    {
     "name": "stderr",
     "output_type": "stream",
     "text": [
      "bclr_multi.py:192: SegmentationWarning: Number of changepoints reduced due to nan values owing to min_size constraints specified in MultiBayesCC... \n",
      "\n",
      "bclr_multi.py:192: SegmentationWarning: Number of changepoints reduced due to nan values owing to min_size constraints specified in MultiBayesCC... \n",
      "\n"
     ]
    }
   ],
   "source": [
    "prior_cov=np.diag(np.repeat(10, 5))\n",
    "rng = np.random.default_rng(199239)\n",
    "bclrM = bclr.MultiBayesCC(signal, cps=20, prior_cov=prior_cov, min_size=10, rng=rng)\n",
    "cps_df = bclrM.predict()"
   ]
  },
  {
   "cell_type": "code",
   "execution_count": 370,
   "id": "3e4e72d2",
   "metadata": {},
   "outputs": [
    {
     "data": {
      "text/plain": [
       "1.0"
      ]
     },
     "execution_count": 370,
     "metadata": {},
     "output_type": "execute_result"
    }
   ],
   "source": [
    "cps = cps_df['Location'].to_list() + [n]\n",
    "randindex(cps, bkps)"
   ]
  },
  {
   "cell_type": "markdown",
   "id": "8e815a2d",
   "metadata": {
    "jp-MarkdownHeadingCollapsed": true
   },
   "source": [
    "### Correctly identifies the changes in each coordinate!!!"
   ]
  },
  {
   "cell_type": "code",
   "execution_count": 307,
   "id": "4ec2eca3",
   "metadata": {
    "scrolled": true
   },
   "outputs": [
    {
     "data": {
      "text/plain": [
       "[array([0.542, 0.768, 0.78 , 0.46 , 0.126, 0.928, 0.3  , 0.91 , 0.92 ,\n",
       "        0.864, 0.926, 0.864, 0.854, 0.876, 0.146, 0.908, 0.654, 0.17 ,\n",
       "        0.744, 0.166]),\n",
       " array([0.284, 0.766, 0.878, 0.892, 0.834, 0.898, 0.764, 0.156, 0.894,\n",
       "        0.87 , 0.896, 0.908, 0.754, 0.256, 0.604, 0.622, 0.914, 0.802,\n",
       "        0.88 , 0.882]),\n",
       " array([0.802, 0.542, 0.596, 0.116, 0.352, 0.886, 0.744, 0.524, 0.144,\n",
       "        0.072, 0.668, 0.984, 0.106, 0.048, 0.066, 0.152, 0.176, 0.05 ,\n",
       "        0.226, 0.032]),\n",
       " array([0.066, 0.928, 0.164, 0.152, 0.278, 0.086, 0.074, 0.68 , 0.934,\n",
       "        0.236, 0.924, 0.756, 0.096, 0.294, 0.114, 0.484, 0.866, 0.066,\n",
       "        0.452, 0.246]),\n",
       " array([0.922, 0.168, 0.154, 0.918, 0.084, 0.06 , 0.864, 0.584, 0.238,\n",
       "        0.17 , 0.394, 0.766, 0.952, 0.714, 0.056, 0.116, 0.198, 0.394,\n",
       "        0.902, 0.128]),\n",
       " array([0.53 , 0.086, 0.21 , 0.748, 0.884, 0.856, 0.956, 0.604, 0.136,\n",
       "        0.954, 0.102, 0.178, 0.302, 0.786, 0.132, 0.732, 0.072, 0.894,\n",
       "        0.134, 0.936]),\n",
       " array([0.138, 0.396, 0.884, 0.91 , 0.808, 0.602, 0.696, 0.826, 0.892,\n",
       "        0.786, 0.25 , 0.9  , 0.88 , 0.926, 0.83 , 0.272, 0.826, 0.326,\n",
       "        0.758, 0.88 ]),\n",
       " array([0.66 , 0.122, 0.39 , 0.106, 0.14 , 0.754, 0.26 , 0.132, 0.292,\n",
       "        0.846, 0.138, 0.786, 0.89 , 0.318, 0.792, 0.902, 0.314, 0.236,\n",
       "        0.862, 0.132]),\n",
       " array([0.894, 0.136, 0.596, 0.358, 0.114, 0.896, 0.162, 0.328, 0.924,\n",
       "        0.868, 0.19 , 0.402, 0.052, 0.938, 0.956, 0.942, 0.9  , 0.86 ,\n",
       "        0.216, 0.572]),\n",
       " array([0.896, 0.108, 0.178, 0.834, 0.904, 0.928, 0.864, 0.702, 0.63 ,\n",
       "        0.052, 0.102, 0.726, 0.938, 0.278, 0.09 , 0.22 , 0.712, 0.858,\n",
       "        0.968, 0.73 ])]"
      ]
     },
     "execution_count": 307,
     "metadata": {},
     "output_type": "execute_result"
    }
   ],
   "source": [
    "[np.mean(bc.post_beta > 0, axis=0) for bc in bclrM.bccs_]"
   ]
  },
  {
   "cell_type": "code",
   "execution_count": 308,
   "id": "49ce491f",
   "metadata": {},
   "outputs": [
    {
     "data": {
      "text/plain": [
       "[array([ 0.04285628,  0.25965786,  0.31934708, -0.03368663, -0.45971412,\n",
       "         0.50527168, -0.17231063,  0.55381218,  0.56464163,  0.3747544 ,\n",
       "         0.5896284 ,  0.40378793,  0.40243494,  0.4221535 , -0.41194137,\n",
       "         0.54316387,  0.14263114, -0.36739531,  0.24279636, -0.37451043]),\n",
       " array([-0.21205914,  0.28447977,  0.49453249,  0.38695334,  0.37110396,\n",
       "         0.49033095,  0.26688294, -0.41816814,  0.48062046,  0.39413704,\n",
       "         0.54390906,  0.5033245 ,  0.23127901, -0.22797014,  0.11490761,\n",
       "         0.12171266,  0.53749926,  0.32536783,  0.49163307,  0.45737383]),\n",
       " array([ 0.30070513,  0.02042758,  0.08953816, -0.48578175, -0.11820451,\n",
       "         0.41199931,  0.21507855,  0.03477654, -0.36161415, -0.49934672,\n",
       "         0.13649209,  0.73557918, -0.45566444, -0.62729994, -0.58380001,\n",
       "        -0.37283586, -0.32857464, -0.65641   , -0.23868091, -0.64582281]),\n",
       " array([-0.58777152,  0.5444239 , -0.36428588, -0.38967863, -0.22286742,\n",
       "        -0.48490151, -0.54375963,  0.13090693,  0.53375084, -0.23842896,\n",
       "         0.56449578,  0.22059022, -0.45898031, -0.20454771, -0.45874303,\n",
       "        -0.00422009,  0.45040966, -0.5963957 , -0.04056036, -0.23276605]),\n",
       " array([ 0.54732654, -0.3602867 , -0.38155637,  0.50658921, -0.51284037,\n",
       "        -0.60641257,  0.42644682,  0.09134178, -0.22419856, -0.35827305,\n",
       "        -0.1000874 ,  0.28196704,  0.60711571,  0.22386266, -0.53937402,\n",
       "        -0.42144263, -0.29542874, -0.10452498,  0.51669672, -0.45837955]),\n",
       " array([ 0.01576776, -0.51129775, -0.27205454,  0.25767434,  0.45562384,\n",
       "         0.37008571,  0.67576502,  0.12609983, -0.41924011,  0.62579231,\n",
       "        -0.54395937, -0.36705462, -0.15730381,  0.28934591, -0.35735059,\n",
       "         0.22292546, -0.5201515 ,  0.48399111, -0.39491028,  0.62390045]),\n",
       " array([-0.48175713, -0.117224  ,  0.47830539,  0.54594011,  0.35734539,\n",
       "         0.10926652,  0.21767264,  0.35301391,  0.49685523,  0.32969437,\n",
       "        -0.24559608,  0.47574164,  0.44892944,  0.54957289,  0.35692376,\n",
       "        -0.25570928,  0.38966873, -0.18106229,  0.25790162,  0.46019579]),\n",
       " array([ 0.16799318, -0.43855259, -0.0971224 , -0.47634297, -0.44025388,\n",
       "         0.29353754, -0.21572405, -0.41354033, -0.19648021,  0.42090312,\n",
       "        -0.4369636 ,  0.32243465,  0.4585468 , -0.16278586,  0.30142299,\n",
       "         0.48036457, -0.18242344, -0.29913906,  0.41542634, -0.44996104]),\n",
       " array([ 0.47932209, -0.3666158 ,  0.07955657, -0.14925165, -0.43288788,\n",
       "         0.51589371, -0.33734336, -0.15790124,  0.50753151,  0.40543995,\n",
       "        -0.30957739, -0.06382659, -0.60303977,  0.58604057,  0.62179508,\n",
       "         0.57964044,  0.53883935,  0.37820727, -0.3011436 ,  0.06107729]),\n",
       " array([ 0.47472501, -0.51483756, -0.34020603,  0.33273833,  0.47985141,\n",
       "         0.5743717 ,  0.39929566,  0.22755328,  0.11521855, -0.60740914,\n",
       "        -0.41548152,  0.21448937,  0.60112756, -0.20394436, -0.4929863 ,\n",
       "        -0.31132484,  0.18567343,  0.36730879,  0.69969976,  0.2191456 ])]"
      ]
     },
     "execution_count": 308,
     "metadata": {},
     "output_type": "execute_result"
    }
   ],
   "source": [
    "[bc.post_beta_mean for bc in bclrM.bccs_]"
   ]
  },
  {
   "cell_type": "code",
   "execution_count": 10,
   "id": "a6b2bd7f",
   "metadata": {
    "scrolled": true
   },
   "outputs": [
    {
     "name": "stdout",
     "output_type": "stream",
     "text": [
      "[4.85896743 7.09654116 1.66628311]\n",
      "[0.75197459 2.18377263 8.08471679]\n",
      "[ 4.0136651  -6.08451579  3.02110253]\n",
      "[ -2.11727663 -10.87766866  -6.32345238]\n",
      "[ -8.85192302 -18.9546945    2.23322792]\n",
      "[-16.41716849 -22.84898953   5.15605168]\n"
     ]
    }
   ],
   "source": [
    "bkps2 = [0]+bkps\n",
    "for i in range(len(bkps2)-1):\n",
    "    print(np.mean(signal[bkps2[i]:bkps2[i+1], :], axis=0))"
   ]
  },
  {
   "cell_type": "markdown",
   "id": "cb9d0ba7-fcf4-4199-9930-9d4ab948071d",
   "metadata": {},
   "source": [
    "### Other methods..."
   ]
  },
  {
   "cell_type": "code",
   "execution_count": 371,
   "id": "5093264b-f1d6-44d7-ab3c-4b1040614d84",
   "metadata": {},
   "outputs": [
    {
     "data": {
      "text/plain": [
       "0.9977177177177177"
      ]
     },
     "execution_count": 371,
     "metadata": {},
     "output_type": "execute_result"
    }
   ],
   "source": [
    "cps_cf = changeforest.changeforest(signal).split_points() + [n]\n",
    "randindex(cps_cf, bkps)"
   ]
  },
  {
   "cell_type": "code",
   "execution_count": 372,
   "id": "c63acc95-1c78-457f-bd0a-d1a64c45af29",
   "metadata": {},
   "outputs": [
    {
     "data": {
      "text/plain": [
       "0.9996476476476477"
      ]
     },
     "execution_count": 372,
     "metadata": {},
     "output_type": "execute_result"
    }
   ],
   "source": [
    "cps_kcp = kcp_slhr(signal)\n",
    "randindex(cps_kcp, bkps)"
   ]
  },
  {
   "cell_type": "markdown",
   "id": "53c25996",
   "metadata": {},
   "source": [
    "## What if we looked at changes of differing nature?"
   ]
  },
  {
   "cell_type": "code",
   "execution_count": 412,
   "id": "125fbdbc",
   "metadata": {},
   "outputs": [],
   "source": [
    "np.random.seed(881910)\n",
    "h1 = np.array([[1, 0.2, 0.1], [0.2, 1, 0], [0.1, 0, 1]])\n",
    "h2 = np.array([[4, 0.4, 0.1], [0.4, 1, 0], [0.1, 0, 1]])\n",
    "h3 = np.array([[4, 0.4, -1.7], [0.4, 1, 0], [-1.7, 0, 1]])\n",
    "L1 = np.linalg.cholesky(h1)\n",
    "L2 = np.linalg.cholesky(h2)\n",
    "L3 = np.linalg.cholesky(h3)\n",
    "\n",
    "a = np.random.randn(100, 3) @ L1\n",
    "b = np.random.randn(75, 3) @ L2\n",
    "c = np.random.randn(30, 3) @ L2 + np.broadcast_to([0, 3, 0], (30, 3))\n",
    "d = np.random.randn(45, 3) @ L3 + np.broadcast_to([0, 3, 0], (45, 3))\n",
    "\n",
    "X = np.r_[a,b,c,d]\n",
    "Xnew = ss.fit_transform(pf.fit_transform(np.r_[a,b,c,d]))\n",
    "prior_cov9 = np.diag(np.repeat(1, 9))"
   ]
  },
  {
   "cell_type": "code",
   "execution_count": 413,
   "id": "7b695760",
   "metadata": {},
   "outputs": [
    {
     "name": "stderr",
     "output_type": "stream",
     "text": [
      "bclr_multi.py:192: SegmentationWarning: Number of changepoints reduced due to nan values owing to min_size constraints specified in MultiBayesCC... \n",
      "\n",
      "bclr_multi.py:192: SegmentationWarning: Number of changepoints reduced due to nan values owing to min_size constraints specified in MultiBayesCC... \n",
      "\n"
     ]
    }
   ],
   "source": [
    "bclrM_new = bclr.MultiBayesCC(Xnew, cps=10, prior_cov=prior_cov9, min_size=10)\n",
    "cps=bclrM_new.predict()"
   ]
  },
  {
   "cell_type": "code",
   "execution_count": 414,
   "id": "86859d00-6a8b-4cf8-8d09-e3b982c517ba",
   "metadata": {},
   "outputs": [],
   "source": [
    "def seg_to_lab(cps):\n",
    "    K = len(cps)\n",
    "    vals = [np.repeat(0, cps[0])] + [np.repeat(i, cps[i]-cps[i-1]) for i in range(1, K)]\n",
    "    return np.concatenate(vals, axis=0)\n",
    "\n",
    "def adj_rand(bkps, bkps_true):\n",
    "    bkp_lab = seg_to_lab(bkps)\n",
    "    bkp_labt = seg_to_lab(bkps_true)\n",
    "    return adjusted_rand_score(bkp_lab, bkp_labt)"
   ]
  },
  {
   "cell_type": "code",
   "execution_count": 415,
   "id": "4483f856-419d-4e67-b6f1-dc123b54c903",
   "metadata": {},
   "outputs": [
    {
     "data": {
      "text/html": [
       "<div>\n",
       "<style scoped>\n",
       "    .dataframe tbody tr th:only-of-type {\n",
       "        vertical-align: middle;\n",
       "    }\n",
       "\n",
       "    .dataframe tbody tr th {\n",
       "        vertical-align: top;\n",
       "    }\n",
       "\n",
       "    .dataframe thead th {\n",
       "        text-align: right;\n",
       "    }\n",
       "</style>\n",
       "<table border=\"1\" class=\"dataframe\">\n",
       "  <thead>\n",
       "    <tr style=\"text-align: right;\">\n",
       "      <th></th>\n",
       "      <th>Location</th>\n",
       "      <th>Posterior Probability</th>\n",
       "      <th>Normalized Entropy</th>\n",
       "    </tr>\n",
       "  </thead>\n",
       "  <tbody>\n",
       "    <tr>\n",
       "      <th>0</th>\n",
       "      <td>77.0</td>\n",
       "      <td>0.132</td>\n",
       "      <td>0.813001</td>\n",
       "    </tr>\n",
       "    <tr>\n",
       "      <th>1</th>\n",
       "      <td>110.0</td>\n",
       "      <td>0.160</td>\n",
       "      <td>0.686257</td>\n",
       "    </tr>\n",
       "    <tr>\n",
       "      <th>2</th>\n",
       "      <td>176.0</td>\n",
       "      <td>0.512</td>\n",
       "      <td>0.160480</td>\n",
       "    </tr>\n",
       "  </tbody>\n",
       "</table>\n",
       "</div>"
      ],
      "text/plain": [
       "   Location  Posterior Probability  Normalized Entropy\n",
       "0      77.0                  0.132            0.813001\n",
       "1     110.0                  0.160            0.686257\n",
       "2     176.0                  0.512            0.160480"
      ]
     },
     "execution_count": 415,
     "metadata": {},
     "output_type": "execute_result"
    }
   ],
   "source": [
    "cps"
   ]
  },
  {
   "cell_type": "code",
   "execution_count": 416,
   "id": "9b26c27c-5c28-422a-a382-11a6216e120e",
   "metadata": {},
   "outputs": [],
   "source": [
    "changes = [100, 175, 205, 250]"
   ]
  },
  {
   "cell_type": "code",
   "execution_count": 417,
   "id": "d59768df-9e11-4455-9915-ddd0dfe60a70",
   "metadata": {},
   "outputs": [
    {
     "data": {
      "text/plain": [
       "0.6778042959427207"
      ]
     },
     "execution_count": 417,
     "metadata": {},
     "output_type": "execute_result"
    }
   ],
   "source": [
    "cps_bclr = cps['Location'].to_list()+[250]\n",
    "adj_rand(cps_bclr, changes)"
   ]
  },
  {
   "cell_type": "code",
   "execution_count": 418,
   "id": "20ff97bd-05db-4c9d-9bc3-206d8b8f6f7b",
   "metadata": {},
   "outputs": [
    {
     "data": {
      "text/plain": [
       "0.8698795180722891"
      ]
     },
     "execution_count": 418,
     "metadata": {},
     "output_type": "execute_result"
    }
   ],
   "source": [
    "randindex(cps_bclr, changes)"
   ]
  },
  {
   "cell_type": "markdown",
   "id": "46aa0686",
   "metadata": {},
   "source": [
    "### Now we can summarize the output of our algorithm..."
   ]
  },
  {
   "cell_type": "code",
   "execution_count": 419,
   "id": "b47fe39f",
   "metadata": {
    "scrolled": true
   },
   "outputs": [
    {
     "data": {
      "text/plain": [
       "[array([0.33 , 0.73 , 0.64 , 0.702, 0.356, 0.202, 0.508, 0.68 , 0.292]),\n",
       " array([0.726, 0.126, 0.234, 0.926, 0.754, 0.606, 0.008, 0.284, 0.31 ]),\n",
       " array([0.212, 1.   , 0.536, 0.562, 0.532, 0.382, 0.986, 0.368, 0.076])]"
      ]
     },
     "execution_count": 419,
     "metadata": {},
     "output_type": "execute_result"
    }
   ],
   "source": [
    "[np.mean(bc.post_beta > 0, axis=0) for bc in bclrM_new.bccs_]"
   ]
  },
  {
   "cell_type": "code",
   "execution_count": 420,
   "id": "93dcf2a9-20b4-48ab-b63e-979953a557b7",
   "metadata": {},
   "outputs": [
    {
     "name": "stdout",
     "output_type": "stream",
     "text": [
      "[176, 206, 250]\n",
      "0.7501365461847389\n"
     ]
    },
    {
     "data": {
      "text/plain": [
       "0.5158915047861785"
      ]
     },
     "execution_count": 420,
     "metadata": {},
     "output_type": "execute_result"
    }
   ],
   "source": [
    "cf_res = changeforest.changeforest(Xnew).split_points()+[250]\n",
    "print(cf_res)\n",
    "print(randindex(cf_res, changes))\n",
    "\n",
    "adj_rand(cf_res, changes)"
   ]
  },
  {
   "cell_type": "code",
   "execution_count": 425,
   "id": "2cd1ed2b",
   "metadata": {
    "scrolled": true
   },
   "outputs": [
    {
     "data": {
      "text/plain": [
       "0.45756639696854023"
      ]
     },
     "execution_count": 425,
     "metadata": {},
     "output_type": "execute_result"
    }
   ],
   "source": [
    "cf_ecp = e_divisive.e_divisive(Xnew)['estimates'][1:]\n",
    "adj_rand(cf_ecp, changes)"
   ]
  },
  {
   "cell_type": "code",
   "execution_count": 424,
   "id": "a8094db8-fe46-4d1f-9e54-f71605508e88",
   "metadata": {},
   "outputs": [
    {
     "data": {
      "text/plain": [
       "0.45756639696854023"
      ]
     },
     "execution_count": 424,
     "metadata": {},
     "output_type": "execute_result"
    }
   ],
   "source": [
    "cf_kcp = kcp_slhr(Xnew)\n",
    "adj_rand(cf_kcp, changes)"
   ]
  },
  {
   "cell_type": "markdown",
   "id": "ce79ff75",
   "metadata": {},
   "source": [
    "### Central England temperature series"
   ]
  },
  {
   "cell_type": "code",
   "execution_count": 427,
   "id": "90e0bed8",
   "metadata": {},
   "outputs": [],
   "source": [
    "import re\n",
    "f = open(\"mean_temps_central_england.txt\", \"r\")\n",
    "lines = [re.sub(r\"\\n\", \"\", re.sub(r\"[ ]+\", \" \", a)).split(\" \") for a in f.readlines()]"
   ]
  },
  {
   "cell_type": "code",
   "execution_count": 428,
   "id": "446be67f",
   "metadata": {},
   "outputs": [],
   "source": [
    "mtu = pd.DataFrame([l[1:] for l in lines[5:]], columns=lines[4][1:])\n",
    "Xcet = mtu[['Annual']][:-1].to_numpy(dtype=np.double)"
   ]
  },
  {
   "cell_type": "code",
   "execution_count": 485,
   "id": "153f3c48",
   "metadata": {},
   "outputs": [
    {
     "name": "stderr",
     "output_type": "stream",
     "text": [
      "bclr_multi.py:192: SegmentationWarning: Number of changepoints reduced due to nan values owing to min_size constraints specified in MultiBayesCC... \n",
      "\n",
      "bclr_multi.py:192: SegmentationWarning: Number of changepoints reduced due to nan values owing to min_size constraints specified in MultiBayesCC... \n",
      "\n"
     ]
    }
   ],
   "source": [
    "prior_cov1 = np.diag(np.repeat(1,1))\n",
    "ncps = 7\n",
    "bclrM_cet = bclr.MultiBayesCC(Xcet, cps=ncps, prior_cov=prior_cov1, min_size=10, n_iter=5000)\n",
    "df_dis = bclrM_cet.predict(iter_sch = [300, 500], thr_sch = [0.9, 0.7], offset=1658)"
   ]
  },
  {
   "cell_type": "code",
   "execution_count": 487,
   "id": "fe52fb27",
   "metadata": {},
   "outputs": [
    {
     "name": "stdout",
     "output_type": "stream",
     "text": [
      "   Location  Posterior Probability  Normalized Entropy\n",
      "2    1987.0                 0.4372            0.299850\n",
      "0    1701.0                 0.0868            0.651271\n",
      "1    1892.0                 0.0620            0.705620\n"
     ]
    }
   ],
   "source": [
    "print(df_dis.sort_values(by=['Posterior Probability'], ascending=False))"
   ]
  },
  {
   "cell_type": "code",
   "execution_count": 488,
   "id": "22506ce8",
   "metadata": {
    "scrolled": true
   },
   "outputs": [
    {
     "data": {
      "text/plain": [
       "[<matplotlib.lines.Line2D at 0x120e4b710>,\n",
       " <matplotlib.lines.Line2D at 0x120e5f410>,\n",
       " <matplotlib.lines.Line2D at 0x120e5fa70>]"
      ]
     },
     "execution_count": 488,
     "metadata": {},
     "output_type": "execute_result"
    },
    {
     "data": {
      "image/png": "[encoded data removed]",
      "text/plain": [
       "<Figure size 800x300 with 1 Axes>"
      ]
     },
     "metadata": {},
     "output_type": "display_data"
    }
   ],
   "source": [
    "plt.figure(figsize=(8, 3))\n",
    "Xcet = mtu[['Annual']][:-1].to_numpy(dtype=np.double)\n",
    "years = mtu[['Year']][:-1].to_numpy(dtype=np.double)\n",
    "plt.plot(years[:], Xcet[:])\n",
    "[plt.axvline(df_dis['Location'].iloc[i], color='black', linestyle='--') for i in range(len(df_dis))]"
   ]
  },
  {
   "cell_type": "code",
   "execution_count": 494,
   "id": "a92ea4a9",
   "metadata": {
    "scrolled": true
   },
   "outputs": [
    {
     "data": {
      "text/plain": [
       "array([1690, 1698, 1726, 1738, 1892, 1988])"
      ]
     },
     "execution_count": 494,
     "metadata": {},
     "output_type": "execute_result"
    }
   ],
   "source": [
    "np.array(kcp_slhr(Xcet)[:-1])+1658"
   ]
  },
  {
   "cell_type": "code",
   "execution_count": 493,
   "id": "95ccc933",
   "metadata": {
    "scrolled": true
   },
   "outputs": [
    {
     "data": {
      "text/plain": [
       "array([1982, 1988])"
      ]
     },
     "execution_count": 493,
     "metadata": {},
     "output_type": "execute_result"
    }
   ],
   "source": [
    "op = changeforest.changeforest(Xcet)\n",
    "np.array(op.split_points())+1658"
   ]
  }
 ],
 "metadata": {
  "kernelspec": {
   "display_name": "Python 3 (ipykernel)",
   "language": "python",
   "name": "python3"
  },
  "language_info": {
   "codemirror_mode": {
    "name": "ipython",
    "version": 3
   },
   "file_extension": ".py",
   "mimetype": "text/x-python",
   "name": "python",
   "nbconvert_exporter": "python",
   "pygments_lexer": "ipython3",
   "version": "3.12.0"
  }
 },
 "nbformat": 4,
 "nbformat_minor": 5
}
