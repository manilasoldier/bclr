{
 "cells": [
  {
   "cell_type": "code",
   "execution_count": 3,
   "id": "42bbf83e",
   "metadata": {},
   "outputs": [],
   "source": [
    "import bclr\n",
    "import ruptures as rpt\n",
    "import numpy as np\n",
    "from ruptures.metrics import randindex\n",
    "from sklearn.preprocessing import StandardScaler, PolynomialFeatures\n",
    "from scipy.stats import multivariate_normal, binom\n",
    "import matplotlib.pyplot as plt\n",
    "import pandas as pd\n",
    "import changeforest\n",
    "from sklearn.linear_model import LogisticRegression, LinearRegression\n",
    "from ecp import e_divisive\n",
    "\n",
    "from scipy.special import comb\n",
    "from scipy.stats import median_abs_deviation as mad\n",
    "from sklearn.metrics import adjusted_rand_score\n",
    "\n",
    "pf = PolynomialFeatures(include_bias=False)\n",
    "ss = StandardScaler()"
   ]
  },
  {
   "cell_type": "code",
   "execution_count": 4,
   "id": "7639428d-a64f-4029-b937-0c4c34c8f5cd",
   "metadata": {},
   "outputs": [],
   "source": [
    "def kcp_slhr(signal, Dmax = 100, div_med = True, gamma=0.02, alpha=2):\n",
    "    \"Implements slope heuristic\"\n",
    "    mads = mad(np.abs(np.diff(signal, axis=0)), axis=0)\n",
    "    if div_med:\n",
    "        signal = signal/mads\n",
    "    \n",
    "    kcp_obj = rpt.KernelCPD(kernel='rbf', params={'gamma': gamma})\n",
    "    cost_obj = rpt.costs.CostRbf(gamma=gamma)\n",
    "\n",
    "    kcp_obj.fit(signal)\n",
    "    cost_obj.fit(signal)\n",
    "    \n",
    "    Dlow = int(0.6*Dmax)\n",
    "    y = []\n",
    "    for k in range(1, Dmax+1):\n",
    "        bkps_k = kcp_obj.predict(n_bkps=k)\n",
    "        y.append(cost_obj.sum_of_costs(bkps_k))\n",
    "    n = len(signal)\n",
    "    x1 = np.log(comb(np.repeat(n-1, Dmax), np.arange(1, Dmax+1)-1))/n\n",
    "    x2 = np.arange(1, Dmax+1)/n\n",
    "    X = np.c_[x1, x2]\n",
    "    lrs = LinearRegression()\n",
    "    lrs.fit(X[(Dlow-1):,:], y[(Dlow-1):])\n",
    "    pen = (X @ np.expand_dims(-alpha*lrs.coef_, axis=1))[:,0]\n",
    "    ncps = np.argmin(y + pen)\n",
    "    return kcp_obj.predict(n_bkps=ncps+1)\n"
   ]
  },
  {
   "cell_type": "markdown",
   "id": "b5e575c8",
   "metadata": {},
   "source": [
    "Multiple changepoint demo"
   ]
  },
  {
   "cell_type": "code",
   "execution_count": 179,
   "id": "f1ceed77",
   "metadata": {},
   "outputs": [],
   "source": [
    "np.random.seed(191293)\n",
    "n, dim = 500, 3  # number of samples, dimension\n",
    "n_bkps, sigma = 2, 3 # number of change points, noise standard deviation\n",
    "signal, bkps = rpt.pw_constant(n, dim, n_bkps, noise_std=sigma)\n",
    "prior_cov=np.diag(np.repeat(2, 3))"
   ]
  },
  {
   "cell_type": "code",
   "execution_count": 50,
   "id": "1b22d7b9",
   "metadata": {},
   "outputs": [
    {
     "name": "stderr",
     "output_type": "stream",
     "text": [
      "bclr_multi.py:192: SegmentationWarning: Number of changepoints reduced due to nan values owing to min_size constraints specified in MultiBayesCC... \n",
      "\n"
     ]
    }
   ],
   "source": [
    "rng = np.random.default_rng(199239)\n",
    "bclrM = bclr.MultiBayesCC(signal, cps=7, prior_cov=prior_cov, min_size=10, rng=rng)\n",
    "bclrM.warm_up()"
   ]
  },
  {
   "cell_type": "code",
   "execution_count": 51,
   "id": "b35b2f57",
   "metadata": {
    "scrolled": true
   },
   "outputs": [
    {
     "name": "stdout",
     "output_type": "stream",
     "text": [
      "[169, 338] \n",
      "\n",
      "Number of changepoints seeded for 'bkps': 5 \n",
      "\n",
      "[53, 162, 255, 338, 387]\n"
     ]
    }
   ],
   "source": [
    "print(bkps[:-1], \"\\n\")\n",
    "print(\"Number of changepoints seeded for 'bkps':\", len(bclrM.bkps)-2, \"\\n\")\n",
    "print(bclrM.bkps[1:-1])"
   ]
  },
  {
   "cell_type": "code",
   "execution_count": 52,
   "id": "98b36b2f",
   "metadata": {
    "scrolled": true
   },
   "outputs": [],
   "source": [
    "bclrM.fit()"
   ]
  },
  {
   "cell_type": "code",
   "execution_count": 53,
   "id": "459d0f4f",
   "metadata": {},
   "outputs": [
    {
     "data": {
      "text/html": [
       "<div>\n",
       "<style scoped>\n",
       "    .dataframe tbody tr th:only-of-type {\n",
       "        vertical-align: middle;\n",
       "    }\n",
       "\n",
       "    .dataframe tbody tr th {\n",
       "        vertical-align: top;\n",
       "    }\n",
       "\n",
       "    .dataframe thead th {\n",
       "        text-align: right;\n",
       "    }\n",
       "</style>\n",
       "<table border=\"1\" class=\"dataframe\">\n",
       "  <thead>\n",
       "    <tr style=\"text-align: right;\">\n",
       "      <th></th>\n",
       "      <th>Location</th>\n",
       "      <th>Posterior Probability</th>\n",
       "      <th>Normalized Entropy</th>\n",
       "    </tr>\n",
       "  </thead>\n",
       "  <tbody>\n",
       "    <tr>\n",
       "      <th>1</th>\n",
       "      <td>169.0</td>\n",
       "      <td>0.992</td>\n",
       "      <td>0.010354</td>\n",
       "    </tr>\n",
       "    <tr>\n",
       "      <th>3</th>\n",
       "      <td>338.0</td>\n",
       "      <td>0.948</td>\n",
       "      <td>0.052049</td>\n",
       "    </tr>\n",
       "  </tbody>\n",
       "</table>\n",
       "</div>"
      ],
      "text/plain": [
       "   Location  Posterior Probability  Normalized Entropy\n",
       "1     169.0                  0.992            0.010354\n",
       "3     338.0                  0.948            0.052049"
      ]
     },
     "execution_count": 53,
     "metadata": {},
     "output_type": "execute_result"
    }
   ],
   "source": [
    "bclrM.transform()\n",
    "# 50/50 binomial on the segment of minimum length.\n",
    "thr = 0.5\n",
    "dfM = bclrM.cps_df(thr=thr)\n",
    "dfM"
   ]
  },
  {
   "cell_type": "code",
   "execution_count": 54,
   "id": "3e4e72d2",
   "metadata": {},
   "outputs": [
    {
     "name": "stdout",
     "output_type": "stream",
     "text": [
      "[169.0, 338.0]\n",
      "1.0\n"
     ]
    }
   ],
   "source": [
    "est_change = dfM['Location'].to_list()\n",
    "print(est_change)\n",
    "print(randindex(est_change + [n], bkps))"
   ]
  },
  {
   "cell_type": "code",
   "execution_count": 307,
   "id": "0d695ce4-ecdc-4094-a4e7-27bc88add78a",
   "metadata": {},
   "outputs": [],
   "source": [
    "import seaborn as sns"
   ]
  },
  {
   "cell_type": "code",
   "execution_count": 319,
   "id": "0243b288-383d-4c2c-bc4f-a8d73e6dbdbe",
   "metadata": {},
   "outputs": [
    {
     "data": {
      "text/plain": [
       "(np.float64(0.0), np.float64(0.7104445830092965))"
      ]
     },
     "execution_count": 319,
     "metadata": {},
     "output_type": "execute_result"
    }
   ],
   "source": [
    "ax0.get_ylim()"
   ]
  },
  {
   "cell_type": "code",
   "execution_count": 331,
   "id": "b60201ec-9fed-49ba-9c01-eb0719ed7eb7",
   "metadata": {},
   "outputs": [
    {
     "data": {
      "image/png": "[encoded data removed]",
      "text/plain": [
       "<Figure size 640x480 with 1 Axes>"
      ]
     },
     "metadata": {},
     "output_type": "display_data"
    }
   ],
   "source": [
    "ax0 = sns.kdeplot(bclrM.bccs_[0].post_k, color='#D81B60')\n",
    "plt.ylim(-0.01, ax2.get_ylim()[1])\n",
    "plt.axis(\"off\")\n",
    "plt.savefig(\"ex_cp1.pdf\")"
   ]
  },
  {
   "cell_type": "code",
   "execution_count": 332,
   "id": "f510d9de-b0d2-4d86-aced-50247a803d4e",
   "metadata": {},
   "outputs": [
    {
     "data": {
      "image/png": "[encoded data removed]",
      "text/plain": [
       "<Figure size 640x480 with 1 Axes>"
      ]
     },
     "metadata": {},
     "output_type": "display_data"
    }
   ],
   "source": [
    "ax1 = sns.kdeplot(bclrM.bccs_[1].post_k, color=\"#1E88E5\", bw_adjust=0.5)\n",
    "plt.ylim(-0.01, ax2.get_ylim()[1])\n",
    "plt.axis(\"off\")\n",
    "plt.savefig(\"ex_cp2.pdf\")"
   ]
  },
  {
   "cell_type": "code",
   "execution_count": 333,
   "id": "55dac009-3205-4ba0-96b9-85b19a3c4d91",
   "metadata": {},
   "outputs": [
    {
     "data": {
      "image/png": "[encoded data removed]",
      "text/plain": [
       "<Figure size 640x480 with 1 Axes>"
      ]
     },
     "metadata": {},
     "output_type": "display_data"
    }
   ],
   "source": [
    "ax2 = sns.kdeplot(bclrM.bccs_[2].post_k, color=\"#004D40\")\n",
    "plt.ylim(-0.01, ax2.get_ylim()[1])\n",
    "plt.axis(\"off\")\n",
    "plt.savefig(\"ex_cp3.pdf\")"
   ]
  },
  {
   "cell_type": "markdown",
   "id": "8e815a2d",
   "metadata": {},
   "source": [
    "### Correctly identifies the changes in each coordinate!!!"
   ]
  },
  {
   "cell_type": "code",
   "execution_count": 8,
   "id": "4ec2eca3",
   "metadata": {
    "scrolled": true
   },
   "outputs": [
    {
     "data": {
      "text/plain": [
       "[array([0.024, 0.724, 0.422]),\n",
       " array([0., 0., 1.]),\n",
       " array([1., 0., 0.]),\n",
       " array([0.   , 0.002, 0.   ]),\n",
       " array([0.002, 0.   , 1.   ]),\n",
       " array([0.   , 0.002, 0.982]),\n",
       " array([0.202, 0.79 , 0.49 ])]"
      ]
     },
     "execution_count": 8,
     "metadata": {},
     "output_type": "execute_result"
    }
   ],
   "source": [
    "[np.mean(bc.post_beta > 0, axis=0) for bc in bclrM.bccs_]"
   ]
  },
  {
   "cell_type": "code",
   "execution_count": 9,
   "id": "49ce491f",
   "metadata": {},
   "outputs": [
    {
     "data": {
      "text/plain": [
       "[array([-0.53317169,  0.16270272, -0.053303  ]),\n",
       " array([-0.77699724, -0.70982083,  1.42944108]),\n",
       " array([ 0.78134183, -1.95331026, -1.15620742]),\n",
       " array([-1.28253309, -0.85249274, -2.2035087 ]),\n",
       " array([-1.01644611, -1.64653441,  1.94956903]),\n",
       " array([-1.02341994, -0.73527313,  0.49216439]),\n",
       " array([-0.22171242,  0.24595397, -0.01369015])]"
      ]
     },
     "execution_count": 9,
     "metadata": {},
     "output_type": "execute_result"
    }
   ],
   "source": [
    "[bc.post_beta_mean for bc in bclrM.bccs_]"
   ]
  },
  {
   "cell_type": "code",
   "execution_count": 10,
   "id": "a6b2bd7f",
   "metadata": {
    "scrolled": true
   },
   "outputs": [
    {
     "name": "stdout",
     "output_type": "stream",
     "text": [
      "[4.85896743 7.09654116 1.66628311]\n",
      "[0.75197459 2.18377263 8.08471679]\n",
      "[ 4.0136651  -6.08451579  3.02110253]\n",
      "[ -2.11727663 -10.87766866  -6.32345238]\n",
      "[ -8.85192302 -18.9546945    2.23322792]\n",
      "[-16.41716849 -22.84898953   5.15605168]\n"
     ]
    }
   ],
   "source": [
    "bkps2 = [0]+bkps\n",
    "for i in range(len(bkps2)-1):\n",
    "    print(np.mean(signal[bkps2[i]:bkps2[i+1], :], axis=0))"
   ]
  },
  {
   "cell_type": "code",
   "execution_count": 3,
   "id": "9f6f030b-638e-4105-8765-c9bacd00fada",
   "metadata": {},
   "outputs": [],
   "source": [
    "kern_cpd = rpt.KernelCPD(kernel='rbf')"
   ]
  },
  {
   "cell_type": "code",
   "execution_count": 180,
   "id": "15534e1b",
   "metadata": {},
   "outputs": [
    {
     "name": "stdout",
     "output_type": "stream",
     "text": [
      "[np.int32(173), np.int32(331)]\n",
      "1.0\n"
     ]
    }
   ],
   "source": [
    "kern_cpd = rpt.KernelCPD(kernel='rbf')\n",
    "cp_kcp = kern_cpd.fit_predict(signal, pen=2)\n",
    "print(cp_kcp[:-1])\n",
    "print(randindex(cp_kcp, bkps))"
   ]
  },
  {
   "cell_type": "code",
   "execution_count": 12,
   "id": "dabed7d9",
   "metadata": {
    "scrolled": true
   },
   "outputs": [
    {
     "name": "stdout",
     "output_type": "stream",
     "text": [
      "[85, 175, 252, 333, 411]\n",
      "0.9935390781563126\n"
     ]
    }
   ],
   "source": [
    "cp_cf = changeforest.changeforest(signal).split_points()\n",
    "print(cp_cf)\n",
    "print(randindex(cp_cf + [n], bkps))"
   ]
  },
  {
   "cell_type": "markdown",
   "id": "53c25996",
   "metadata": {},
   "source": [
    "## What if we looked at changes of differing nature?"
   ]
  },
  {
   "cell_type": "code",
   "execution_count": 164,
   "id": "125fbdbc",
   "metadata": {},
   "outputs": [],
   "source": [
    "np.random.seed(881923)\n",
    "h1 = np.array([[1, 0.2, 0.1], [0.2, 1, 0], [0.1, 0, 1]])\n",
    "h2 = np.array([[4, 0.4, 0.1], [0.4, 1, 0], [0.1, 0, 1]])\n",
    "h3 = np.array([[4, 0.4, -1.7], [0.4, 1, 0], [-1.7, 0, 1]])\n",
    "L1 = np.linalg.cholesky(h1)\n",
    "L2 = np.linalg.cholesky(h2)\n",
    "L3 = np.linalg.cholesky(h3)\n",
    "\n",
    "a = np.random.randn(100, 3) @ L1\n",
    "b = np.random.randn(75, 3) @ L2\n",
    "c = np.random.randn(30, 3) @ L2 + np.broadcast_to([0, 3, 0], (30, 3))\n",
    "d = np.random.randn(45, 3) @ L3 + np.broadcast_to([0, 3, 0], (45, 3))\n",
    "\n",
    "X = np.r_[a,b,c,d]\n",
    "Xnew = ss.fit_transform(pf.fit_transform(np.r_[a,b,c,d]))\n",
    "prior_cov9 = np.diag(np.repeat(1, 9))"
   ]
  },
  {
   "cell_type": "code",
   "execution_count": 165,
   "id": "7b695760",
   "metadata": {},
   "outputs": [
    {
     "name": "stderr",
     "output_type": "stream",
     "text": [
      "bclr_multi.py:192: SegmentationWarning: Number of changepoints reduced due to nan values owing to min_size constraints specified in MultiBayesCC... \n",
      "\n"
     ]
    }
   ],
   "source": [
    "bclrM_new = bclr.MultiBayesCC(Xnew, cps=6, prior_cov=prior_cov9, min_size=10)\n",
    "cps=bclrM_new.predict()"
   ]
  },
  {
   "cell_type": "code",
   "execution_count": 166,
   "id": "86859d00-6a8b-4cf8-8d09-e3b982c517ba",
   "metadata": {},
   "outputs": [],
   "source": [
    "def seg_to_lab(cps):\n",
    "    K = len(cps)\n",
    "    vals = [np.repeat(0, cps[0])] + [np.repeat(i, cps[i]-cps[i-1]) for i in range(1, K)]\n",
    "    return np.concatenate(vals, axis=0)\n",
    "\n",
    "def adj_rand(bkps, bkps_true):\n",
    "    bkp_lab = seg_to_lab(bkps)\n",
    "    bkp_labt = seg_to_lab(bkps_true)\n",
    "    return adjusted_rand_score(bkp_lab, bkp_labt)"
   ]
  },
  {
   "cell_type": "code",
   "execution_count": 167,
   "id": "3f4d68d0-ad23-4b99-961e-3fd1286709e8",
   "metadata": {},
   "outputs": [
    {
     "data": {
      "text/html": [
       "<div>\n",
       "<style scoped>\n",
       "    .dataframe tbody tr th:only-of-type {\n",
       "        vertical-align: middle;\n",
       "    }\n",
       "\n",
       "    .dataframe tbody tr th {\n",
       "        vertical-align: top;\n",
       "    }\n",
       "\n",
       "    .dataframe thead th {\n",
       "        text-align: right;\n",
       "    }\n",
       "</style>\n",
       "<table border=\"1\" class=\"dataframe\">\n",
       "  <thead>\n",
       "    <tr style=\"text-align: right;\">\n",
       "      <th></th>\n",
       "      <th>Location</th>\n",
       "      <th>Posterior Probability</th>\n",
       "      <th>Normalized Entropy</th>\n",
       "    </tr>\n",
       "  </thead>\n",
       "  <tbody>\n",
       "    <tr>\n",
       "      <th>0</th>\n",
       "      <td>103.0</td>\n",
       "      <td>0.434</td>\n",
       "      <td>0.324319</td>\n",
       "    </tr>\n",
       "    <tr>\n",
       "      <th>1</th>\n",
       "      <td>175.0</td>\n",
       "      <td>0.916</td>\n",
       "      <td>0.075357</td>\n",
       "    </tr>\n",
       "    <tr>\n",
       "      <th>2</th>\n",
       "      <td>203.0</td>\n",
       "      <td>0.318</td>\n",
       "      <td>0.513936</td>\n",
       "    </tr>\n",
       "  </tbody>\n",
       "</table>\n",
       "</div>"
      ],
      "text/plain": [
       "   Location  Posterior Probability  Normalized Entropy\n",
       "0     103.0                  0.434            0.324319\n",
       "1     175.0                  0.916            0.075357\n",
       "2     203.0                  0.318            0.513936"
      ]
     },
     "execution_count": 167,
     "metadata": {},
     "output_type": "execute_result"
    }
   ],
   "source": [
    "cps"
   ]
  },
  {
   "cell_type": "code",
   "execution_count": 168,
   "id": "9b26c27c-5c28-422a-a382-11a6216e120e",
   "metadata": {},
   "outputs": [],
   "source": [
    "changes = [100, 175, 205, 250]"
   ]
  },
  {
   "cell_type": "code",
   "execution_count": 169,
   "id": "d59768df-9e11-4455-9915-ddd0dfe60a70",
   "metadata": {},
   "outputs": [
    {
     "data": {
      "text/plain": [
       "0.948954660263192"
      ]
     },
     "execution_count": 169,
     "metadata": {},
     "output_type": "execute_result"
    }
   ],
   "source": [
    "cps_bclr = list(cps['Location'])+[250]\n",
    "adj_rand(cps_bclr, changes)"
   ]
  },
  {
   "cell_type": "code",
   "execution_count": 170,
   "id": "20ff97bd-05db-4c9d-9bc3-206d8b8f6f7b",
   "metadata": {},
   "outputs": [
    {
     "data": {
      "text/plain": [
       "0.9787309236947791"
      ]
     },
     "execution_count": 170,
     "metadata": {},
     "output_type": "execute_result"
    }
   ],
   "source": [
    "randindex(cps_bclr, changes)"
   ]
  },
  {
   "cell_type": "markdown",
   "id": "46aa0686",
   "metadata": {},
   "source": [
    "### Now we can summarize the output of our algorithm..."
   ]
  },
  {
   "cell_type": "code",
   "execution_count": 171,
   "id": "b47fe39f",
   "metadata": {
    "scrolled": true
   },
   "outputs": [
    {
     "data": {
      "text/plain": [
       "[array([0.486, 0.254, 0.436, 1.   , 0.708, 0.584, 0.77 , 0.518, 0.694]),\n",
       " array([0.378, 1.   , 0.736, 0.354, 0.308, 0.172, 1.   , 0.868, 0.242]),\n",
       " array([0.392, 0.518, 0.164, 0.728, 0.61 , 0.058, 0.136, 0.886, 0.   ])]"
      ]
     },
     "execution_count": 171,
     "metadata": {},
     "output_type": "execute_result"
    }
   ],
   "source": [
    "[np.mean(bc.post_beta > 0, axis=0) for bc in bclrM_new.bccs_]"
   ]
  },
  {
   "cell_type": "code",
   "execution_count": 195,
   "id": "7860862f",
   "metadata": {
    "scrolled": true
   },
   "outputs": [
    {
     "data": {
      "text/plain": [
       "[array([-0.00662118, -0.11575488, -0.03062079,  1.89756271,  0.14208189,\n",
       "         0.04281333,  0.15281017,  0.01049932,  0.10359137]),\n",
       " array([-0.17499382,  2.32207062,  0.32999107, -0.20296456, -0.32290921,\n",
       "        -0.44354844,  2.76939251,  0.63939743, -0.34411755]),\n",
       " array([-0.16360166,  0.02862344, -0.58390295,  0.17885505,  0.20588838,\n",
       "        -0.61266104, -0.7197588 ,  0.89413212, -1.44473674])]"
      ]
     },
     "execution_count": 195,
     "metadata": {},
     "output_type": "execute_result"
    }
   ],
   "source": [
    "# This indciates that the x_1^2 increases the most in the first instance, \n",
    "# and x_2 for the second changepoint, thought x_2^2 is close...\n",
    "[bc.post_beta_mean for bc in bclrM_new.bccs_]"
   ]
  },
  {
   "cell_type": "code",
   "execution_count": 196,
   "id": "93dcf2a9-20b4-48ab-b63e-979953a557b7",
   "metadata": {},
   "outputs": [
    {
     "name": "stdout",
     "output_type": "stream",
     "text": [
      "[101, 175, 209, 250]\n",
      "0.985285140562249\n"
     ]
    },
    {
     "data": {
      "text/plain": [
       "0.9645313839496815"
      ]
     },
     "execution_count": 196,
     "metadata": {},
     "output_type": "execute_result"
    }
   ],
   "source": [
    "cf_res = changeforest.changeforest(Xnew).split_points()+[250]\n",
    "print(cf_res)\n",
    "print(randindex(cf_res, changes))\n",
    "\n",
    "adj_rand(cf_res, changes)"
   ]
  },
  {
   "cell_type": "code",
   "execution_count": 197,
   "id": "2cd1ed2b",
   "metadata": {
    "scrolled": true
   },
   "outputs": [
    {
     "ename": "KeyboardInterrupt",
     "evalue": "",
     "output_type": "error",
     "traceback": [
      "\u001b[0;31m---------------------------------------------------------------------------\u001b[0m",
      "\u001b[0;31mKeyboardInterrupt\u001b[0m                         Traceback (most recent call last)",
      "Cell \u001b[0;32mIn[197], line 1\u001b[0m\n\u001b[0;32m----> 1\u001b[0m \u001b[43me_divisive\u001b[49m\u001b[38;5;241;43m.\u001b[39;49m\u001b[43me_divisive\u001b[49m\u001b[43m(\u001b[49m\u001b[43mXnew\u001b[49m\u001b[43m)\u001b[49m[\u001b[38;5;124m'\u001b[39m\u001b[38;5;124mestimates\u001b[39m\u001b[38;5;124m'\u001b[39m]\n",
      "File \u001b[0;32m~/Library/Python/3.12/lib/python/site-packages/ecp/e_divisive.py:47\u001b[0m, in \u001b[0;36me_divisive\u001b[0;34m(X, sig_lvl, R, k, min_size, alpha)\u001b[0m\n\u001b[1;32m     45\u001b[0m     \u001b[38;5;28;01mbreak\u001b[39;00m \n\u001b[1;32m     46\u001b[0m \u001b[38;5;66;03m#run permutation test\u001b[39;00m\n\u001b[0;32m---> 47\u001b[0m result \u001b[38;5;241m=\u001b[39m \u001b[43msig_test\u001b[49m\u001b[43m(\u001b[49m\u001b[43mD\u001b[49m\u001b[43m,\u001b[49m\u001b[43m \u001b[49m\u001b[43mR\u001b[49m\u001b[43m,\u001b[49m\u001b[43m \u001b[49m\u001b[43mchanges\u001b[49m\u001b[43m,\u001b[49m\u001b[43m \u001b[49m\u001b[43mmin_size\u001b[49m\u001b[43m,\u001b[49m\u001b[43m \u001b[49m\u001b[43me_stat\u001b[49m\u001b[43m)\u001b[49m\n\u001b[1;32m     49\u001b[0m pval \u001b[38;5;241m=\u001b[39m result[\u001b[38;5;241m0\u001b[39m] \u001b[38;5;66;03m#approximate p-value\u001b[39;00m\n\u001b[1;32m     50\u001b[0m permutations\u001b[38;5;241m.\u001b[39mappend(result[\u001b[38;5;241m1\u001b[39m]) \u001b[38;5;66;03m#number of permutations performed\u001b[39;00m\n",
      "File \u001b[0;32m~/Library/Python/3.12/lib/python/site-packages/ecp/e_divisive.py:193\u001b[0m, in \u001b[0;36msig_test\u001b[0;34m(D, R, changes, min_size, obs)\u001b[0m\n\u001b[1;32m    191\u001b[0m changes_copy2 \u001b[38;5;241m=\u001b[39m copy\u001b[38;5;241m.\u001b[39mdeepcopy(changes)\n\u001b[1;32m    192\u001b[0m D1 \u001b[38;5;241m=\u001b[39m perm_cluster(Dcopy, changes_copy) \u001b[38;5;66;03m#permute within cluster\u001b[39;00m\n\u001b[0;32m--> 193\u001b[0m tmp \u001b[38;5;241m=\u001b[39m \u001b[43me_split\u001b[49m\u001b[43m(\u001b[49m\u001b[43mchanges_copy2\u001b[49m\u001b[43m,\u001b[49m\u001b[43m \u001b[49m\u001b[43mD1\u001b[49m\u001b[43m,\u001b[49m\u001b[43m \u001b[49m\u001b[43mmin_size\u001b[49m\u001b[43m,\u001b[49m\u001b[43m \u001b[49m\u001b[38;5;28;43;01mTrue\u001b[39;49;00m\u001b[43m)\u001b[49m\n\u001b[1;32m    194\u001b[0m \u001b[38;5;28;01mif\u001b[39;00m(tmp[\u001b[38;5;124m'\u001b[39m\u001b[38;5;124mbest\u001b[39m\u001b[38;5;124m'\u001b[39m] \u001b[38;5;241m>\u001b[39m\u001b[38;5;241m=\u001b[39m obs):\n\u001b[1;32m    195\u001b[0m     over \u001b[38;5;241m=\u001b[39m over \u001b[38;5;241m+\u001b[39m \u001b[38;5;241m1\u001b[39m\n",
      "File \u001b[0;32m~/Library/Python/3.12/lib/python/site-packages/ecp/e_divisive.py:84\u001b[0m, in \u001b[0;36me_split\u001b[0;34m(changes, D, min_size, for_sim, energy)\u001b[0m\n\u001b[1;32m     80\u001b[0m \u001b[38;5;28;01mif\u001b[39;00m(for_sim):\n\u001b[1;32m     81\u001b[0m \n\u001b[1;32m     82\u001b[0m     \u001b[38;5;66;03m#Iterate over intervals\u001b[39;00m\n\u001b[1;32m     83\u001b[0m     \u001b[38;5;28;01mfor\u001b[39;00m i \u001b[38;5;129;01min\u001b[39;00m \u001b[38;5;28mrange\u001b[39m(\u001b[38;5;241m1\u001b[39m, \u001b[38;5;28mlen\u001b[39m(splits)):\n\u001b[0;32m---> 84\u001b[0m         tmp \u001b[38;5;241m=\u001b[39m \u001b[43msplitPoint\u001b[49m\u001b[43m(\u001b[49m\u001b[43msplits\u001b[49m\u001b[43m[\u001b[49m\u001b[43mi\u001b[49m\u001b[38;5;241;43m-\u001b[39;49m\u001b[38;5;241;43m1\u001b[39;49m\u001b[43m]\u001b[49m\u001b[43m,\u001b[49m\u001b[43m \u001b[49m\u001b[43msplits\u001b[49m\u001b[43m[\u001b[49m\u001b[43mi\u001b[49m\u001b[43m]\u001b[49m\u001b[43m \u001b[49m\u001b[38;5;241;43m-\u001b[39;49m\u001b[43m \u001b[49m\u001b[38;5;241;43m1\u001b[39;49m\u001b[43m,\u001b[49m\u001b[43m \u001b[49m\u001b[43mD\u001b[49m\u001b[43m,\u001b[49m\u001b[43m \u001b[49m\u001b[43mmin_size\u001b[49m\u001b[43m)\u001b[49m\n\u001b[1;32m     85\u001b[0m         \u001b[38;5;66;03m#tmp[1] is the \"energy released\" when the cluster was split\u001b[39;00m\n\u001b[1;32m     86\u001b[0m         \u001b[38;5;28;01mif\u001b[39;00m(tmp[\u001b[38;5;241m1\u001b[39m]\u001b[38;5;241m>\u001b[39mbest[\u001b[38;5;241m1\u001b[39m]):\n",
      "File \u001b[0;32m~/Library/Python/3.12/lib/python/site-packages/ecp/e_divisive.py:124\u001b[0m, in \u001b[0;36msplitPoint\u001b[0;34m(start, end, D, min_size)\u001b[0m\n\u001b[1;32m    122\u001b[0m \u001b[38;5;66;03m#use needed part of distance matrix\u001b[39;00m\n\u001b[1;32m    123\u001b[0m D \u001b[38;5;241m=\u001b[39m D[start:end\u001b[38;5;241m+\u001b[39m\u001b[38;5;241m1\u001b[39m, start:end\u001b[38;5;241m+\u001b[39m\u001b[38;5;241m1\u001b[39m]\n\u001b[0;32m--> 124\u001b[0m \u001b[38;5;28;01mreturn\u001b[39;00m \u001b[43msplitPointpseudoC\u001b[49m\u001b[43m(\u001b[49m\u001b[43mstart\u001b[49m\u001b[43m,\u001b[49m\u001b[43m \u001b[49m\u001b[43mend\u001b[49m\u001b[43m,\u001b[49m\u001b[43m \u001b[49m\u001b[43mD\u001b[49m\u001b[43m,\u001b[49m\u001b[43m \u001b[49m\u001b[43mmin_size\u001b[49m\u001b[43m)\u001b[49m\n",
      "File \u001b[0;32m~/Library/Python/3.12/lib/python/site-packages/ecp/e_divisive.py:169\u001b[0m, in \u001b[0;36msplitPointpseudoC\u001b[0;34m(s, e, D, min_size)\u001b[0m\n\u001b[1;32m    167\u001b[0m A \u001b[38;5;241m+\u001b[39m\u001b[38;5;241m=\u001b[39m addA\n\u001b[1;32m    168\u001b[0m addB \u001b[38;5;241m=\u001b[39m np\u001b[38;5;241m.\u001b[39msum(D[t1\u001b[38;5;241m-\u001b[39m\u001b[38;5;241m1\u001b[39m, t1:t2\u001b[38;5;241m-\u001b[39m\u001b[38;5;241m1\u001b[39m])\n\u001b[0;32m--> 169\u001b[0m \u001b[38;5;28;01mwhile\u001b[39;00m(t2 \u001b[38;5;241m<\u001b[39m\u001b[38;5;241m=\u001b[39m e):\n\u001b[1;32m    170\u001b[0m     addB \u001b[38;5;241m+\u001b[39m\u001b[38;5;241m=\u001b[39m D[t1\u001b[38;5;241m-\u001b[39m\u001b[38;5;241m1\u001b[39m, t2\u001b[38;5;241m-\u001b[39m\u001b[38;5;241m1\u001b[39m]\n\u001b[1;32m    171\u001b[0m     B[t2] \u001b[38;5;241m-\u001b[39m\u001b[38;5;241m=\u001b[39m addB\n",
      "\u001b[0;31mKeyboardInterrupt\u001b[0m: "
     ]
    }
   ],
   "source": [
    "e_divisive.e_divisive(Xnew)['estimates']"
   ]
  },
  {
   "cell_type": "code",
   "execution_count": 175,
   "id": "a8094db8-fe46-4d1f-9e54-f71605508e88",
   "metadata": {},
   "outputs": [
    {
     "data": {
      "text/plain": [
       "[173, 250]"
      ]
     },
     "execution_count": 175,
     "metadata": {},
     "output_type": "execute_result"
    }
   ],
   "source": [
    "kcp_slhr(Xnew)"
   ]
  },
  {
   "cell_type": "code",
   "execution_count": 194,
   "id": "8c287e04-59fd-4baf-8b61-b447eedee09c",
   "metadata": {},
   "outputs": [
    {
     "data": {
      "text/plain": [
       "[173, 175, 250]"
      ]
     },
     "execution_count": 194,
     "metadata": {},
     "output_type": "execute_result"
    }
   ],
   "source": [
    "kern_cpd.fit_predict(X, n_bkps=2)"
   ]
  },
  {
   "cell_type": "markdown",
   "id": "ce79ff75",
   "metadata": {},
   "source": [
    "### Central England temperature series"
   ]
  },
  {
   "cell_type": "code",
   "execution_count": 22,
   "id": "90e0bed8",
   "metadata": {},
   "outputs": [],
   "source": [
    "import re\n",
    "f = open(\"mean_temps_central_england.txt\", \"r\")\n",
    "lines = [re.sub(r\"\\n\", \"\", re.sub(r\"[ ]+\", \" \", a)).split(\" \") for a in f.readlines()]"
   ]
  },
  {
   "cell_type": "code",
   "execution_count": 23,
   "id": "446be67f",
   "metadata": {},
   "outputs": [],
   "source": [
    "mtu = pd.DataFrame([l[1:] for l in lines[5:]], columns=lines[4][1:])\n",
    "Xcet = mtu[['Annual']][:-1].to_numpy(dtype=np.double)"
   ]
  },
  {
   "cell_type": "code",
   "execution_count": 24,
   "id": "e52c172d",
   "metadata": {},
   "outputs": [],
   "source": [
    "cps = list(np.array([1700, 1738, 1988])-1658)"
   ]
  },
  {
   "cell_type": "code",
   "execution_count": 25,
   "id": "153f3c48",
   "metadata": {},
   "outputs": [],
   "source": [
    "prior_cov1 = np.diag(np.repeat(10,1))\n",
    "ncps = 7\n",
    "bclrM_cet = bclr.MultiBayesCC(Xcet, cps=ncps, prior_cov=prior_cov1, min_size=20,\n",
    "                              n_iter=1000, lam=0) #try also 9 changepoints to see what we find...\n",
    "bclrM_cet.warm_up()"
   ]
  },
  {
   "cell_type": "code",
   "execution_count": 27,
   "id": "d853b238",
   "metadata": {},
   "outputs": [
    {
     "name": "stdout",
     "output_type": "stream",
     "text": [
      "[0, 47, 80, 101, 167, 238, 262, 330, 365]\n"
     ]
    }
   ],
   "source": [
    "print(bclrM_cet.bkps)\n",
    "bclrM_cet.prior_cov = np.diag(np.repeat(1,1))\n",
    "bclrM_cet.fit()"
   ]
  },
  {
   "cell_type": "code",
   "execution_count": 29,
   "id": "fe52fb27",
   "metadata": {},
   "outputs": [
    {
     "name": "stdout",
     "output_type": "stream",
     "text": [
      "   Location  Posterior Probability  Normalized Entropy\n",
      "6    1988.0                  0.356            0.372806\n",
      "1    1738.0                  0.290            0.634883\n",
      "0    1701.0                  0.222            0.514829\n"
     ]
    }
   ],
   "source": [
    "bclrM_cet.transform()\n",
    "df_dis = bclrM_cet.cps_df(0.7, offset=1658)\n",
    "print(df_dis.sort_values(by=['Posterior Probability'], ascending=False))"
   ]
  },
  {
   "cell_type": "code",
   "execution_count": 98,
   "id": "1b72a606",
   "metadata": {},
   "outputs": [],
   "source": [
    "from ecp import e_divisive"
   ]
  },
  {
   "cell_type": "code",
   "execution_count": 92,
   "id": "a2a6e5b8",
   "metadata": {},
   "outputs": [
    {
     "data": {
      "text/plain": [
       "array([1988, 1701, 1925, 1739])"
      ]
     },
     "execution_count": 92,
     "metadata": {},
     "output_type": "execute_result"
    }
   ],
   "source": [
    "1658 + np.array([330, 43, 267, 81])"
   ]
  },
  {
   "cell_type": "code",
   "execution_count": 93,
   "id": "2f1ac726",
   "metadata": {},
   "outputs": [
    {
     "data": {
      "text/plain": [
       "array([1701, 1925, 1988])"
      ]
     },
     "execution_count": 93,
     "metadata": {},
     "output_type": "execute_result"
    }
   ],
   "source": [
    "ecp_vals = e_divisive.e_divisive(Xcet)\n",
    "np.array(ecp_vals['estimates'][1:-1]) + 1658"
   ]
  },
  {
   "cell_type": "code",
   "execution_count": 99,
   "id": "22506ce8",
   "metadata": {
    "scrolled": true
   },
   "outputs": [
    {
     "data": {
      "text/plain": [
       "[<matplotlib.lines.Line2D at 0x7fe0724e35e0>,\n",
       " <matplotlib.lines.Line2D at 0x7fe0724e39a0>]"
      ]
     },
     "execution_count": 99,
     "metadata": {},
     "output_type": "execute_result"
    },
    {
     "data": {
      "image/png": "[encoded data removed]",
      "text/plain": [
       "<Figure size 800x300 with 1 Axes>"
      ]
     },
     "metadata": {},
     "output_type": "display_data"
    }
   ],
   "source": [
    "plt.figure(figsize=(8, 3))\n",
    "Xcet = mtu[['Annual']][:-1].to_numpy(dtype=np.double)\n",
    "years = mtu[['Year']][:-1].to_numpy(dtype=np.double)\n",
    "plt.plot(years[:], Xcet[:])\n",
    "[plt.axvline(df_dis['Location'].iloc[i], color='black', linestyle='--') for i in range(len(df_dis))]"
   ]
  },
  {
   "cell_type": "code",
   "execution_count": 95,
   "id": "a92ea4a9",
   "metadata": {
    "scrolled": true
   },
   "outputs": [
    {
     "data": {
      "text/plain": [
       "array([1699, 1910, 1987])"
      ]
     },
     "execution_count": 95,
     "metadata": {},
     "output_type": "execute_result"
    }
   ],
   "source": [
    "np.array(kern_cpd.fit_predict(Xcet, n_bkps = 3)[:-1])+1658"
   ]
  },
  {
   "cell_type": "code",
   "execution_count": 113,
   "id": "12affe29",
   "metadata": {},
   "outputs": [
    {
     "name": "stdout",
     "output_type": "stream",
     "text": [
      "Help on package changeforest:\n",
      "\n",
      "NAME\n",
      "    changeforest\n",
      "\n",
      "PACKAGE CONTENTS\n",
      "    changeforest\n",
      "    control\n",
      "    plotting\n",
      "\n",
      "CLASSES\n",
      "    builtins.object\n",
      "        builtins.BinarySegmentationResult\n",
      "        builtins.OptimizerResult\n",
      "        changeforest.control.Control\n",
      "    \n",
      "    class BinarySegmentationResult(object)\n",
      "     |  Methods defined here:\n",
      "     |  \n",
      "     |  __repr__(self, /)\n",
      "     |      Return repr(self).\n",
      "     |  \n",
      "     |  plot = _plot_binary_segmentation_result(binary_segmentation_result, max_depth=5)\n",
      "     |  \n",
      "     |  split_points(...)\n",
      "     |  \n",
      "     |  ----------------------------------------------------------------------\n",
      "     |  Static methods defined here:\n",
      "     |  \n",
      "     |  __new__(*args, **kwargs) from builtins.type\n",
      "     |      Create and return a new object.  See help(type) for accurate signature.\n",
      "     |  \n",
      "     |  ----------------------------------------------------------------------\n",
      "     |  Data descriptors defined here:\n",
      "     |  \n",
      "     |  best_split\n",
      "     |  \n",
      "     |  is_significant\n",
      "     |  \n",
      "     |  left\n",
      "     |  \n",
      "     |  max_gain\n",
      "     |  \n",
      "     |  model_selection_result\n",
      "     |  \n",
      "     |  optimizer_result\n",
      "     |  \n",
      "     |  p_value\n",
      "     |  \n",
      "     |  right\n",
      "     |  \n",
      "     |  segments\n",
      "     |  \n",
      "     |  start\n",
      "     |  \n",
      "     |  stop\n",
      "    \n",
      "    class Control(builtins.object)\n",
      "     |  Control(minimal_relative_segment_length='default', minimal_gain_to_split='default', model_selection_alpha='default', model_selection_n_permutations='default', number_of_wild_segments='default', seeded_segments_alpha='default', seed='default', random_forest_n_estimators='default', random_forest_max_depth='default', random_forest_max_features='default', random_forest_n_jobs='default')\n",
      "     |  \n",
      "     |  Storage container for hyperparameters.\n",
      "     |  \n",
      "     |  See rust documentation of changeforest::control::Control for more details.\n",
      "     |  \n",
      "     |  Methods defined here:\n",
      "     |  \n",
      "     |  __init__(self, minimal_relative_segment_length='default', minimal_gain_to_split='default', model_selection_alpha='default', model_selection_n_permutations='default', number_of_wild_segments='default', seeded_segments_alpha='default', seed='default', random_forest_n_estimators='default', random_forest_max_depth='default', random_forest_max_features='default', random_forest_n_jobs='default')\n",
      "     |      Initialize self.  See help(type(self)) for accurate signature.\n",
      "     |  \n",
      "     |  ----------------------------------------------------------------------\n",
      "     |  Data descriptors defined here:\n",
      "     |  \n",
      "     |  __dict__\n",
      "     |      dictionary for instance variables (if defined)\n",
      "     |  \n",
      "     |  __weakref__\n",
      "     |      list of weak references to the object (if defined)\n",
      "    \n",
      "    class OptimizerResult(object)\n",
      "     |  Methods defined here:\n",
      "     |  \n",
      "     |  __repr__(self, /)\n",
      "     |      Return repr(self).\n",
      "     |  \n",
      "     |  plot = _plot_optimizer_result(optimizer_result)\n",
      "     |  \n",
      "     |  ----------------------------------------------------------------------\n",
      "     |  Static methods defined here:\n",
      "     |  \n",
      "     |  __new__(*args, **kwargs) from builtins.type\n",
      "     |      Create and return a new object.  See help(type) for accurate signature.\n",
      "     |  \n",
      "     |  ----------------------------------------------------------------------\n",
      "     |  Data descriptors defined here:\n",
      "     |  \n",
      "     |  best_split\n",
      "     |  \n",
      "     |  gain_results\n",
      "     |  \n",
      "     |  max_gain\n",
      "     |  \n",
      "     |  start\n",
      "     |  \n",
      "     |  stop\n",
      "\n",
      "FUNCTIONS\n",
      "    changeforest(...)\n",
      "\n",
      "DATA\n",
      "    __all__ = ['Control', 'changeforest', 'BinarySegmentationResult', 'Opt...\n",
      "\n",
      "FILE\n",
      "    /Library/Frameworks/Python.framework/Versions/3.8/lib/python3.8/site-packages/changeforest/__init__.py\n",
      "\n",
      "\n"
     ]
    }
   ],
   "source": [
    "help(changeforest)"
   ]
  },
  {
   "cell_type": "code",
   "execution_count": 111,
   "id": "95ccc933",
   "metadata": {
    "scrolled": true
   },
   "outputs": [
    {
     "data": {
      "text/plain": [
       "array([1982, 1988])"
      ]
     },
     "execution_count": 111,
     "metadata": {},
     "output_type": "execute_result"
    }
   ],
   "source": [
    "op = changeforest.changeforest(Xcet)\n",
    "np.array(op.split_points())+1658"
   ]
  }
 ],
 "metadata": {
  "kernelspec": {
   "display_name": "Python 3 (ipykernel)",
   "language": "python",
   "name": "python3"
  },
  "language_info": {
   "codemirror_mode": {
    "name": "ipython",
    "version": 3
   },
   "file_extension": ".py",
   "mimetype": "text/x-python",
   "name": "python",
   "nbconvert_exporter": "python",
   "pygments_lexer": "ipython3",
   "version": "3.12.0"
  }
 },
 "nbformat": 4,
 "nbformat_minor": 5
}
