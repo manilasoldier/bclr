{
 "cells": [
  {
   "cell_type": "code",
   "execution_count": 36,
   "id": "4a56d827",
   "metadata": {},
   "outputs": [],
   "source": [
    "import bclr\n",
    "import ruptures as rpt\n",
    "import numpy as np\n",
    "from sklearn.preprocessing import StandardScaler, PolynomialFeatures\n",
    "from scipy.stats import multivariate_normal\n",
    "import matplotlib.pyplot as plt\n",
    "import pandas as pd\n",
    "import changeforest\n",
    "from sklearn.linear_model import LogisticRegression\n",
    "\n",
    "pf = PolynomialFeatures(include_bias=False)\n",
    "ss = StandardScaler()"
   ]
  },
  {
   "cell_type": "markdown",
   "id": "35aaac2d",
   "metadata": {},
   "source": [
    "Multiple changepoint demo"
   ]
  },
  {
   "cell_type": "code",
   "execution_count": 154,
   "id": "8614d726",
   "metadata": {
    "scrolled": true
   },
   "outputs": [],
   "source": [
    "n, dim = 500, 3  # number of samples, dimension\n",
    "n_bkps, sigma = 5, 5  # number of change points, noise standard deviation\n",
    "signal, bkps = rpt.pw_constant(n, dim, n_bkps, noise_std=sigma)\n",
    "prior_cov=np.diag(np.repeat(2, 3))\n",
    "bclrM = bclr.MultiBayesCC(signal, cps=5, prior_cov=prior_cov, n_iter=1000)\n",
    "bclrM.warm_up()"
   ]
  },
  {
   "cell_type": "code",
   "execution_count": 155,
   "id": "baa45f6e",
   "metadata": {},
   "outputs": [
    {
     "name": "stdout",
     "output_type": "stream",
     "text": [
      "[78, 162, 244, 330, 410]\n"
     ]
    }
   ],
   "source": [
    "print(bkps[:-1])"
   ]
  },
  {
   "cell_type": "code",
   "execution_count": 156,
   "id": "c2f5fb40",
   "metadata": {},
   "outputs": [],
   "source": [
    "bclrM.fit()"
   ]
  },
  {
   "cell_type": "code",
   "execution_count": 157,
   "id": "3e4951e6",
   "metadata": {},
   "outputs": [
    {
     "data": {
      "text/html": [
       "<div>\n",
       "<style scoped>\n",
       "    .dataframe tbody tr th:only-of-type {\n",
       "        vertical-align: middle;\n",
       "    }\n",
       "\n",
       "    .dataframe tbody tr th {\n",
       "        vertical-align: top;\n",
       "    }\n",
       "\n",
       "    .dataframe thead th {\n",
       "        text-align: right;\n",
       "    }\n",
       "</style>\n",
       "<table border=\"1\" class=\"dataframe\">\n",
       "  <thead>\n",
       "    <tr style=\"text-align: right;\">\n",
       "      <th></th>\n",
       "      <th>Location</th>\n",
       "      <th>Posterior Probability</th>\n",
       "      <th>Normalized Entropy</th>\n",
       "    </tr>\n",
       "  </thead>\n",
       "  <tbody>\n",
       "    <tr>\n",
       "      <th>0</th>\n",
       "      <td>77.0</td>\n",
       "      <td>0.502</td>\n",
       "      <td>0.178276</td>\n",
       "    </tr>\n",
       "    <tr>\n",
       "      <th>1</th>\n",
       "      <td>162.0</td>\n",
       "      <td>0.820</td>\n",
       "      <td>0.113151</td>\n",
       "    </tr>\n",
       "    <tr>\n",
       "      <th>2</th>\n",
       "      <td>244.0</td>\n",
       "      <td>0.562</td>\n",
       "      <td>0.214272</td>\n",
       "    </tr>\n",
       "    <tr>\n",
       "      <th>3</th>\n",
       "      <td>330.0</td>\n",
       "      <td>0.858</td>\n",
       "      <td>0.090615</td>\n",
       "    </tr>\n",
       "    <tr>\n",
       "      <th>4</th>\n",
       "      <td>410.0</td>\n",
       "      <td>0.910</td>\n",
       "      <td>0.065865</td>\n",
       "    </tr>\n",
       "  </tbody>\n",
       "</table>\n",
       "</div>"
      ],
      "text/plain": [
       "   Location  Posterior Probability  Normalized Entropy\n",
       "0      77.0                  0.502            0.178276\n",
       "1     162.0                  0.820            0.113151\n",
       "2     244.0                  0.562            0.214272\n",
       "3     330.0                  0.858            0.090615\n",
       "4     410.0                  0.910            0.065865"
      ]
     },
     "execution_count": 157,
     "metadata": {},
     "output_type": "execute_result"
    }
   ],
   "source": [
    "bclrM.transform()\n",
    "bclrM.cps_df()"
   ]
  },
  {
   "cell_type": "markdown",
   "id": "4dd59672",
   "metadata": {},
   "source": [
    "### Correctly identifies the changes in each coordinate!!!"
   ]
  },
  {
   "cell_type": "code",
   "execution_count": 41,
   "id": "e6d0971d",
   "metadata": {
    "scrolled": true
   },
   "outputs": [
    {
     "data": {
      "text/plain": [
       "[array([0.902, 0.   , 0.688]),\n",
       " array([0.006, 0.   , 0.   ]),\n",
       " array([1., 0., 0.]),\n",
       " array([0.014, 1.   , 1.   ]),\n",
       " array([0.   , 0.912, 0.994])]"
      ]
     },
     "execution_count": 41,
     "metadata": {},
     "output_type": "execute_result"
    }
   ],
   "source": [
    "[np.mean(bc.post_beta > 0, axis=0) for bc in bclrM.bccs_]"
   ]
  },
  {
   "cell_type": "code",
   "execution_count": 42,
   "id": "fb6db4aa",
   "metadata": {
    "scrolled": true
   },
   "outputs": [
    {
     "data": {
      "text/plain": [
       "[array([ 0.27276967, -2.00562572,  0.11146181]),\n",
       " array([-0.56744372, -1.01239823, -1.92697498]),\n",
       " array([ 1.19327988, -0.86756685, -0.73316486]),\n",
       " array([-0.56224718,  1.42155512,  2.741621  ]),\n",
       " array([-1.15501495,  0.24975092,  0.45978154])]"
      ]
     },
     "execution_count": 42,
     "metadata": {},
     "output_type": "execute_result"
    }
   ],
   "source": [
    "[bc.post_beta_mean for bc in bclrM.bccs_]"
   ]
  },
  {
   "cell_type": "code",
   "execution_count": 43,
   "id": "0746871f",
   "metadata": {
    "scrolled": true
   },
   "outputs": [
    {
     "name": "stdout",
     "output_type": "stream",
     "text": [
      "[ 4.83047158  7.26485151 -6.23931886]\n",
      "[ 5.97121309  0.45645629 -5.78142036]\n",
      "[  2.76049924  -4.32712743 -14.59813741]\n",
      "[  7.86301066  -8.67928694 -17.96562553]\n",
      "[ 3.02280716 -2.27660267 -6.64197636]\n",
      "[-2.03346246 -0.48215555 -4.25718657]\n"
     ]
    }
   ],
   "source": [
    "bkps2 = [0]+bkps\n",
    "for i in range(len(bkps2)-1):\n",
    "    print(np.mean(signal[bkps2[i]:bkps2[i+1], :], axis=0))"
   ]
  },
  {
   "cell_type": "code",
   "execution_count": 44,
   "id": "13ea237b",
   "metadata": {
    "scrolled": true
   },
   "outputs": [
    {
     "data": {
      "text/plain": [
       "[76, 168, 256, 331, 420]"
      ]
     },
     "execution_count": 44,
     "metadata": {},
     "output_type": "execute_result"
    }
   ],
   "source": [
    "kern_cpd = rpt.KernelCPD(kernel='rbf')\n",
    "kern_cpd.fit_predict(signal, n_bkps=5)[:-1]"
   ]
  },
  {
   "cell_type": "markdown",
   "id": "f50c6a03",
   "metadata": {},
   "source": [
    "## What if we looked at changes of differing nature?"
   ]
  },
  {
   "cell_type": "code",
   "execution_count": 45,
   "id": "3f36a8f1",
   "metadata": {},
   "outputs": [],
   "source": [
    "np.random.seed(881923)\n",
    "h1 = np.array([[1, 0.2, 0.1], [0.2, 1, 0], [0.1, 0, 1]])\n",
    "h2 = np.array([[4, 0.2, 0.1], [0.2, 1, 0], [0.1, 0, 1]])\n",
    "L1 = np.linalg.cholesky(h1)\n",
    "L2 = np.linalg.cholesky(h2)\n",
    "\n",
    "a = np.random.randn(100, 3) @ L1\n",
    "b = np.random.randn(75, 3) @ L2\n",
    "c = np.random.randn(30, 3) @ L2 + np.broadcast_to([0, 3, -1], (30, 3))\n",
    "\n",
    "Xnew = pf.fit_transform(ss.fit_transform(np.r_[a,b,c]))"
   ]
  },
  {
   "cell_type": "code",
   "execution_count": 46,
   "id": "5b44aa39",
   "metadata": {},
   "outputs": [],
   "source": [
    "prior_cov9 = np.diag(np.repeat(1, 9))"
   ]
  },
  {
   "cell_type": "code",
   "execution_count": 47,
   "id": "beaa2de6",
   "metadata": {},
   "outputs": [],
   "source": [
    "bclrM_new = bclr.MultiBayesCC(Xnew, cps=2, prior_cov=prior_cov9, n_iter=1000)\n",
    "bclrM_new.warm_up()\n",
    "bclrM_new.fit()"
   ]
  },
  {
   "cell_type": "code",
   "execution_count": 48,
   "id": "d81978f1",
   "metadata": {
    "scrolled": false
   },
   "outputs": [
    {
     "data": {
      "text/html": [
       "<div>\n",
       "<style scoped>\n",
       "    .dataframe tbody tr th:only-of-type {\n",
       "        vertical-align: middle;\n",
       "    }\n",
       "\n",
       "    .dataframe tbody tr th {\n",
       "        vertical-align: top;\n",
       "    }\n",
       "\n",
       "    .dataframe thead th {\n",
       "        text-align: right;\n",
       "    }\n",
       "</style>\n",
       "<table border=\"1\" class=\"dataframe\">\n",
       "  <thead>\n",
       "    <tr style=\"text-align: right;\">\n",
       "      <th></th>\n",
       "      <th>Location</th>\n",
       "      <th>Posterior Probability</th>\n",
       "      <th>Normalized Entropy</th>\n",
       "    </tr>\n",
       "  </thead>\n",
       "  <tbody>\n",
       "    <tr>\n",
       "      <th>0</th>\n",
       "      <td>103.0</td>\n",
       "      <td>0.418</td>\n",
       "      <td>0.336200</td>\n",
       "    </tr>\n",
       "    <tr>\n",
       "      <th>1</th>\n",
       "      <td>175.0</td>\n",
       "      <td>0.902</td>\n",
       "      <td>0.080606</td>\n",
       "    </tr>\n",
       "  </tbody>\n",
       "</table>\n",
       "</div>"
      ],
      "text/plain": [
       "   Location  Posterior Probability  Normalized Entropy\n",
       "0     103.0                  0.418            0.336200\n",
       "1     175.0                  0.902            0.080606"
      ]
     },
     "execution_count": 48,
     "metadata": {},
     "output_type": "execute_result"
    }
   ],
   "source": [
    "bclrM_new.transform()\n",
    "bclrM_new.cps_df()"
   ]
  },
  {
   "cell_type": "markdown",
   "id": "1ad185f1",
   "metadata": {},
   "source": [
    "### Now we can summarize the output of our algorithm..."
   ]
  },
  {
   "cell_type": "code",
   "execution_count": 49,
   "id": "ec3059a4",
   "metadata": {
    "scrolled": true
   },
   "outputs": [
    {
     "data": {
      "text/plain": [
       "[array([0.454, 0.52 , 0.47 , 1.   , 0.7  , 0.564, 0.828, 0.55 , 0.7  ]),\n",
       " array([0.454, 1.   , 0.266, 0.342, 0.274, 0.168, 1.   , 0.106, 0.05 ])]"
      ]
     },
     "execution_count": 49,
     "metadata": {},
     "output_type": "execute_result"
    }
   ],
   "source": [
    "[np.mean(bc.post_beta > 0, axis=0) for bc in bclrM_new.bccs_]"
   ]
  },
  {
   "cell_type": "code",
   "execution_count": 50,
   "id": "a44c5b78",
   "metadata": {
    "scrolled": true
   },
   "outputs": [
    {
     "data": {
      "text/plain": [
       "[array([-0.0449274 , -0.00211459, -0.01458874,  1.81707195,  0.15848332,\n",
       "         0.04631313,  0.22787763,  0.0265872 ,  0.09984628]),\n",
       " array([-0.07402005,  2.74152762, -0.27156742, -0.20405605, -0.33048747,\n",
       "        -0.42222266,  2.63714952, -0.70233848, -0.7725654 ])]"
      ]
     },
     "execution_count": 50,
     "metadata": {},
     "output_type": "execute_result"
    }
   ],
   "source": [
    "# This indciates that the x_1^2 increases the most in the first instance, \n",
    "# and x_2 for the second changepoint, thought x_2^2 is close...\n",
    "[bc.post_beta_mean for bc in bclrM_new.bccs_]"
   ]
  },
  {
   "cell_type": "code",
   "execution_count": 51,
   "id": "bf3444ee",
   "metadata": {},
   "outputs": [
    {
     "data": {
      "text/plain": [
       "[103, 175]"
      ]
     },
     "execution_count": 51,
     "metadata": {},
     "output_type": "execute_result"
    }
   ],
   "source": [
    "# Usual rbf kernel with dynamic programming to find the changes...\n",
    "kern_cpd.fit_predict(Xnew, n_bkps = 2)[:-1]"
   ]
  },
  {
   "cell_type": "code",
   "execution_count": 52,
   "id": "8b06f6cd",
   "metadata": {
    "scrolled": false
   },
   "outputs": [
    {
     "data": {
      "text/plain": [
       "[103, 175]"
      ]
     },
     "execution_count": 52,
     "metadata": {},
     "output_type": "execute_result"
    }
   ],
   "source": [
    "changeforest.changeforest(Xnew).split_points()"
   ]
  },
  {
   "cell_type": "markdown",
   "id": "24b512cb",
   "metadata": {},
   "source": [
    "### Central England temperature series"
   ]
  },
  {
   "cell_type": "code",
   "execution_count": 53,
   "id": "96acbf0d",
   "metadata": {},
   "outputs": [],
   "source": [
    "import re\n",
    "f = open(\"mean_temps_central_england.txt\", \"r\")\n",
    "lines = [re.sub(r\"\\n\", \"\", re.sub(r\"[ ]+\", \" \", a)).split(\" \") for a in f.readlines()]"
   ]
  },
  {
   "cell_type": "code",
   "execution_count": 54,
   "id": "f1f52331",
   "metadata": {},
   "outputs": [],
   "source": [
    "mtu = pd.DataFrame([l[1:] for l in lines[5:]], columns=lines[4][1:])"
   ]
  },
  {
   "cell_type": "code",
   "execution_count": 158,
   "id": "e183cd01",
   "metadata": {},
   "outputs": [],
   "source": [
    "cps = list(np.array([1700, 1738, 1988])-1658)"
   ]
  },
  {
   "cell_type": "code",
   "execution_count": 159,
   "id": "9f0f3bce",
   "metadata": {},
   "outputs": [],
   "source": [
    "prior_cov1 = np.diag(np.repeat(10,1))\n",
    "ncps = 3\n",
    "bclrM_cet = bclr.MultiBayesCC(Xcet, cps=ncps, prior_cov=prior_cov1, \n",
    "                              n_iter=1000, lam=0) #try also 9 changepoints to see what we find...\n",
    "bclrM_cet.warm_up(random_init=True, reps=20)"
   ]
  },
  {
   "cell_type": "code",
   "execution_count": 160,
   "id": "23d97f1c",
   "metadata": {},
   "outputs": [
    {
     "name": "stdout",
     "output_type": "stream",
     "text": [
      "[0, 52, 267, 330, 365]\n"
     ]
    }
   ],
   "source": [
    "print(bclrM_cet.bkps)\n",
    "bclrM_cet.prior_cov = np.diag(np.repeat(1,1))\n",
    "bclrM_cet.lam = 0\n",
    "bclrM_cet.fit()"
   ]
  },
  {
   "cell_type": "code",
   "execution_count": 161,
   "id": "dd4f8a53",
   "metadata": {
    "scrolled": false
   },
   "outputs": [
    {
     "name": "stdout",
     "output_type": "stream",
     "text": [
      "   Location  Posterior Probability  Normalized Entropy\n",
      "2    1988.0                  0.380            0.350648\n",
      "0    1705.0                  0.092            0.635837\n",
      "1    1892.0                  0.076            0.678966\n"
     ]
    }
   ],
   "source": [
    "bclrM_cet.transform()\n",
    "df_dis = bclrM_cet.cps_df(1658)\n",
    "print(df_dis.sort_values(by=['Normalized Entropy']))"
   ]
  },
  {
   "cell_type": "code",
   "execution_count": 162,
   "id": "1531d7d8",
   "metadata": {
    "scrolled": true
   },
   "outputs": [
    {
     "data": {
      "text/plain": [
       "[<matplotlib.lines.Line2D at 0x7fc118229e50>,\n",
       " <matplotlib.lines.Line2D at 0x7fc118257370>,\n",
       " <matplotlib.lines.Line2D at 0x7fc10802f880>]"
      ]
     },
     "execution_count": 162,
     "metadata": {},
     "output_type": "execute_result"
    },
    {
     "data": {
      "image/png": "[encoded data removed]",
      "text/plain": [
       "<Figure size 640x480 with 1 Axes>"
      ]
     },
     "metadata": {},
     "output_type": "display_data"
    }
   ],
   "source": [
    "Xcet = mtu[['Annual']][:-1].to_numpy(dtype=np.double)\n",
    "years = mtu[['Year']][:-1].to_numpy(dtype=np.double)\n",
    "plt.plot(years[:], Xcet[:])\n",
    "[plt.axvline(df_dis['Location'][i], color='black', linestyle='--') for i in range(3)]"
   ]
  },
  {
   "cell_type": "code",
   "execution_count": 140,
   "id": "7e7a1270",
   "metadata": {
    "scrolled": true
   },
   "outputs": [
    {
     "data": {
      "text/plain": [
       "array([1701, 1910, 1987])"
      ]
     },
     "execution_count": 140,
     "metadata": {},
     "output_type": "execute_result"
    }
   ],
   "source": [
    "np.array(kern_cpd.fit_predict(Xcet, n_bkps = 3)[:-1])+1658"
   ]
  },
  {
   "cell_type": "code",
   "execution_count": 141,
   "id": "57bfdcf3",
   "metadata": {
    "scrolled": false
   },
   "outputs": [
    {
     "data": {
      "text/plain": [
       "array([1982, 1988])"
      ]
     },
     "execution_count": 141,
     "metadata": {},
     "output_type": "execute_result"
    }
   ],
   "source": [
    "op = changeforest.changeforest(Xcet)\n",
    "np.array(op.split_points())+1658"
   ]
  }
 ],
 "metadata": {
  "kernelspec": {
   "display_name": "Python 3 (ipykernel)",
   "language": "python",
   "name": "python3"
  },
  "language_info": {
   "codemirror_mode": {
    "name": "ipython",
    "version": 3
   },
   "file_extension": ".py",
   "mimetype": "text/x-python",
   "name": "python",
   "nbconvert_exporter": "python",
   "pygments_lexer": "ipython3",
   "version": "3.8.4"
  }
 },
 "nbformat": 4,
 "nbformat_minor": 5
}
