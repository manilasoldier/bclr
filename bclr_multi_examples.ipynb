{
 "cells": [
  {
   "cell_type": "code",
   "execution_count": 1,
   "id": "e9b4e919",
   "metadata": {},
   "outputs": [],
   "source": [
    "import bclr\n",
    "import ruptures as rpt\n",
    "import numpy as np\n",
    "from sklearn.preprocessing import StandardScaler, PolynomialFeatures\n",
    "from scipy.stats import multivariate_normal\n",
    "import matplotlib.pyplot as plt\n",
    "\n",
    "pf = PolynomialFeatures(include_bias=False)\n",
    "ss = StandardScaler()"
   ]
  },
  {
   "cell_type": "markdown",
   "id": "24924177",
   "metadata": {},
   "source": [
    "Multiple changepoint demo"
   ]
  },
  {
   "cell_type": "code",
   "execution_count": 2,
   "id": "88910ee3",
   "metadata": {
    "scrolled": true
   },
   "outputs": [],
   "source": [
    "n, dim = 500, 3  # number of samples, dimension\n",
    "n_bkps, sigma = 3, 5  # number of change points, noise standard deviation\n",
    "signal, bkps = rpt.pw_constant(n, dim, n_bkps, noise_std=sigma)\n",
    "prior_cov=np.diag(np.repeat(1, 3))\n",
    "bclrM = bclr.MultiBayesCC(signal, K=3, prior_cov=prior_cov, n_iter=1000)"
   ]
  },
  {
   "cell_type": "code",
   "execution_count": 3,
   "id": "9b646fd6",
   "metadata": {},
   "outputs": [
    {
     "name": "stdout",
     "output_type": "stream",
     "text": [
      "[0, 131, 240, 378, 500]\n",
      "[128, 244, 378, 500]\n"
     ]
    }
   ],
   "source": [
    "print(bclrM.bkps)\n",
    "print(bkps)"
   ]
  },
  {
   "cell_type": "code",
   "execution_count": 4,
   "id": "eccb1d65",
   "metadata": {},
   "outputs": [],
   "source": [
    "bclrM.fit()"
   ]
  },
  {
   "cell_type": "code",
   "execution_count": 5,
   "id": "5ccaf800",
   "metadata": {},
   "outputs": [
    {
     "data": {
      "text/plain": [
       "[(130.0, 0.236), (240.0, 0.256), (378.0, 0.844)]"
      ]
     },
     "execution_count": 5,
     "metadata": {},
     "output_type": "execute_result"
    }
   ],
   "source": [
    "bclrM.transform()\n",
    "[(bc.post_k_mode, bc.post_mode_prob) for bc in bclrM.bccs_]"
   ]
  },
  {
   "cell_type": "code",
   "execution_count": 7,
   "id": "a4348329",
   "metadata": {},
   "outputs": [
    {
     "data": {
      "text/plain": [
       "[array([-0.74146107,  0.58490234, -1.01334921]),\n",
       " array([ 0.70201314,  1.7993821 , -2.17075235]),\n",
       " array([-0.26350275, -0.3272134 , -0.24814657])]"
      ]
     },
     "execution_count": 7,
     "metadata": {},
     "output_type": "execute_result"
    }
   ],
   "source": [
    "[bc.post_beta_mean for bc in bclrM.bccs_]"
   ]
  },
  {
   "cell_type": "code",
   "execution_count": 33,
   "id": "6d2cc467",
   "metadata": {
    "scrolled": true
   },
   "outputs": [
    {
     "name": "stdout",
     "output_type": "stream",
     "text": [
      "[ 5.34139824 -4.85150987  4.14615732]\n",
      "[ 1.83470197 -1.4062996  -1.03289697]\n",
      "[  4.42049991   6.24415795 -11.07040778]\n",
      "[  3.17176469   4.82550573 -11.97950142]\n"
     ]
    }
   ],
   "source": [
    "bkps2 = [0]+bkps\n",
    "for i in range(len(bkps2)-1):\n",
    "    print(np.mean(signal[bkps2[i]:bkps2[i+1], :], axis=0))"
   ]
  }
 ],
 "metadata": {
  "kernelspec": {
   "display_name": "Python 3 (ipykernel)",
   "language": "python",
   "name": "python3"
  },
  "language_info": {
   "codemirror_mode": {
    "name": "ipython",
    "version": 3
   },
   "file_extension": ".py",
   "mimetype": "text/x-python",
   "name": "python",
   "nbconvert_exporter": "python",
   "pygments_lexer": "ipython3",
   "version": "3.8.4"
  }
 },
 "nbformat": 4,
 "nbformat_minor": 5
}
