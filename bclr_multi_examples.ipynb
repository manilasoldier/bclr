{
 "cells": [
  {
   "cell_type": "code",
   "execution_count": 1,
   "id": "a2fc362e",
   "metadata": {},
   "outputs": [],
   "source": [
    "import bclr\n",
    "import ruptures as rpt\n",
    "import numpy as np\n",
    "from ruptures.metrics import randindex\n",
    "from sklearn.preprocessing import StandardScaler, PolynomialFeatures\n",
    "from scipy.stats import multivariate_normal, binom\n",
    "import matplotlib.pyplot as plt\n",
    "import pandas as pd\n",
    "import changeforest\n",
    "from sklearn.linear_model import LogisticRegression\n",
    "\n",
    "pf = PolynomialFeatures(include_bias=False)\n",
    "ss = StandardScaler()"
   ]
  },
  {
   "cell_type": "markdown",
   "id": "d7f92015",
   "metadata": {},
   "source": [
    "Multiple changepoint demo"
   ]
  },
  {
   "cell_type": "code",
   "execution_count": 8,
   "id": "c19fbd5c",
   "metadata": {
    "scrolled": false
   },
   "outputs": [
    {
     "name": "stderr",
     "output_type": "stream",
     "text": [
      "bclr_multi.py:173: SegmentationWarning: Number of changepoints reduced due to nan values owing to min_size constraints specified in MultiBayesCC... \n",
      "\n"
     ]
    }
   ],
   "source": [
    "np.random.seed(191293)\n",
    "n, dim = 500, 3  # number of samples, dimension\n",
    "n_bkps, sigma = 5, 5  # number of change points, noise standard deviation\n",
    "signal, bkps = rpt.pw_constant(n, dim, n_bkps, noise_std=sigma)\n",
    "prior_cov=np.diag(np.repeat(2, 3))\n",
    "bclrM = bclr.MultiBayesCC(signal, cps=10, prior_cov=prior_cov, n_iter=1000, min_size=30)\n",
    "bclrM.warm_up(reps=10)"
   ]
  },
  {
   "cell_type": "code",
   "execution_count": 9,
   "id": "fdee982a",
   "metadata": {
    "scrolled": true
   },
   "outputs": [
    {
     "name": "stdout",
     "output_type": "stream",
     "text": [
      "[79, 163, 244, 327, 409] \n",
      "\n",
      "Number of changepoints seeded for 'bkps': 5 \n",
      "\n",
      "[64, 163, 244, 327, 409]\n"
     ]
    }
   ],
   "source": [
    "print(bkps[:-1], \"\\n\")\n",
    "print(\"Number of changepoints seeded for 'bkps':\", len(bclrM.bkps)-2, \"\\n\")\n",
    "print(bclrM.bkps[1:-1])"
   ]
  },
  {
   "cell_type": "code",
   "execution_count": 10,
   "id": "b9fd72ce",
   "metadata": {
    "scrolled": true
   },
   "outputs": [],
   "source": [
    "bclrM.fit()"
   ]
  },
  {
   "cell_type": "code",
   "execution_count": 14,
   "id": "ca46a688",
   "metadata": {},
   "outputs": [
    {
     "data": {
      "text/html": [
       "<div>\n",
       "<style scoped>\n",
       "    .dataframe tbody tr th:only-of-type {\n",
       "        vertical-align: middle;\n",
       "    }\n",
       "\n",
       "    .dataframe tbody tr th {\n",
       "        vertical-align: top;\n",
       "    }\n",
       "\n",
       "    .dataframe thead th {\n",
       "        text-align: right;\n",
       "    }\n",
       "</style>\n",
       "<table border=\"1\" class=\"dataframe\">\n",
       "  <thead>\n",
       "    <tr style=\"text-align: right;\">\n",
       "      <th></th>\n",
       "      <th>Location</th>\n",
       "      <th>Posterior Probability</th>\n",
       "      <th>Normalized Entropy</th>\n",
       "    </tr>\n",
       "  </thead>\n",
       "  <tbody>\n",
       "    <tr>\n",
       "      <th>0</th>\n",
       "      <td>79.0</td>\n",
       "      <td>0.922</td>\n",
       "      <td>0.056930</td>\n",
       "    </tr>\n",
       "    <tr>\n",
       "      <th>1</th>\n",
       "      <td>163.0</td>\n",
       "      <td>0.768</td>\n",
       "      <td>0.171851</td>\n",
       "    </tr>\n",
       "    <tr>\n",
       "      <th>2</th>\n",
       "      <td>244.0</td>\n",
       "      <td>0.848</td>\n",
       "      <td>0.115426</td>\n",
       "    </tr>\n",
       "    <tr>\n",
       "      <th>3</th>\n",
       "      <td>327.0</td>\n",
       "      <td>0.934</td>\n",
       "      <td>0.064301</td>\n",
       "    </tr>\n",
       "    <tr>\n",
       "      <th>4</th>\n",
       "      <td>409.0</td>\n",
       "      <td>0.946</td>\n",
       "      <td>0.048719</td>\n",
       "    </tr>\n",
       "  </tbody>\n",
       "</table>\n",
       "</div>"
      ],
      "text/plain": [
       "   Location  Posterior Probability  Normalized Entropy\n",
       "0      79.0                  0.922            0.056930\n",
       "1     163.0                  0.768            0.171851\n",
       "2     244.0                  0.848            0.115426\n",
       "3     327.0                  0.934            0.064301\n",
       "4     409.0                  0.946            0.048719"
      ]
     },
     "execution_count": 14,
     "metadata": {},
     "output_type": "execute_result"
    }
   ],
   "source": [
    "bclrM.transform()\n",
    "thr = 0.5\n",
    "dfM = bclrM.cps_df(thr=thr)\n",
    "dfM"
   ]
  },
  {
   "cell_type": "code",
   "execution_count": 16,
   "id": "8254f501",
   "metadata": {},
   "outputs": [
    {
     "name": "stdout",
     "output_type": "stream",
     "text": [
      "[79.0, 163.0, 244.0, 327.0, 409.0]\n",
      "1.0\n"
     ]
    }
   ],
   "source": [
    "est_change = dfM['Location'].to_list()\n",
    "print(est_change)\n",
    "print(randindex(est_change + [n], bkps))"
   ]
  },
  {
   "cell_type": "markdown",
   "id": "a987f4ac",
   "metadata": {},
   "source": [
    "### Correctly identifies the changes in each coordinate!!!"
   ]
  },
  {
   "cell_type": "code",
   "execution_count": 17,
   "id": "a3e6eb90",
   "metadata": {
    "scrolled": false
   },
   "outputs": [
    {
     "data": {
      "text/plain": [
       "[array([1.   , 0.042, 0.   ]),\n",
       " array([0.   , 1.   , 0.054]),\n",
       " array([0.066, 1.   , 0.988]),\n",
       " array([1.   , 1.   , 0.986]),\n",
       " array([0., 1., 1.])]"
      ]
     },
     "execution_count": 17,
     "metadata": {},
     "output_type": "execute_result"
    }
   ],
   "source": [
    "[np.mean(bc.post_beta > 0, axis=0) for bc in bclrM.bccs_]"
   ]
  },
  {
   "cell_type": "code",
   "execution_count": 18,
   "id": "5728a8e8",
   "metadata": {
    "scrolled": false
   },
   "outputs": [
    {
     "data": {
      "text/plain": [
       "[array([ 3.09460779, -0.56281167, -1.93608942]),\n",
       " array([-2.08764881,  1.41463398, -0.37189169]),\n",
       " array([-0.32938677,  2.42770998,  0.51130913]),\n",
       " array([1.94644711, 1.51451731, 0.57152101]),\n",
       " array([-1.554364  ,  2.6777171 ,  2.04277248])]"
      ]
     },
     "execution_count": 18,
     "metadata": {},
     "output_type": "execute_result"
    }
   ],
   "source": [
    "[bc.post_beta_mean for bc in bclrM.bccs_]"
   ]
  },
  {
   "cell_type": "code",
   "execution_count": 19,
   "id": "a6d8ee01",
   "metadata": {
    "scrolled": false
   },
   "outputs": [
    {
     "name": "stdout",
     "output_type": "stream",
     "text": [
      "[  2.14118585   4.9012142  -10.73957328]\n",
      "[ 11.75726036   3.8355568  -18.81885857]\n",
      "[  2.68176641  10.07653141 -19.87143008]\n",
      "[  1.04579881  18.90791009 -17.65649024]\n",
      "[  9.26447     25.36731505 -15.07296321]\n",
      "[ 2.85699635 35.7892248  -7.14742936]\n"
     ]
    }
   ],
   "source": [
    "bkps2 = [0]+bkps\n",
    "for i in range(len(bkps2)-1):\n",
    "    print(np.mean(signal[bkps2[i]:bkps2[i+1], :], axis=0))"
   ]
  },
  {
   "cell_type": "code",
   "execution_count": 20,
   "id": "b39f4e51",
   "metadata": {
    "scrolled": false
   },
   "outputs": [
    {
     "name": "stdout",
     "output_type": "stream",
     "text": [
      "[79, 163, 244, 327, 409]\n",
      "1.0\n"
     ]
    }
   ],
   "source": [
    "kern_cpd = rpt.KernelCPD(kernel='rbf')\n",
    "cp_kcp = kern_cpd.fit_predict(signal, pen=2)\n",
    "print(cp_kcp[:-1])\n",
    "print(randindex(cp_kcp, bkps))"
   ]
  },
  {
   "cell_type": "code",
   "execution_count": 21,
   "id": "cd863bd9",
   "metadata": {
    "scrolled": true
   },
   "outputs": [
    {
     "name": "stdout",
     "output_type": "stream",
     "text": [
      "[79, 163, 244, 327, 409]\n",
      "1.0\n"
     ]
    }
   ],
   "source": [
    "cp_cf = changeforest.changeforest(signal).split_points()\n",
    "print(cp_cf)\n",
    "print(randindex(cp_cf + [n], bkps))"
   ]
  },
  {
   "cell_type": "markdown",
   "id": "ad52b059",
   "metadata": {},
   "source": [
    "## What if we looked at changes of differing nature?"
   ]
  },
  {
   "cell_type": "code",
   "execution_count": 100,
   "id": "34ae36b7",
   "metadata": {},
   "outputs": [],
   "source": [
    "np.random.seed(881923)\n",
    "h1 = np.array([[1, 0.2, 0.1], [0.2, 1, 0], [0.1, 0, 1]])\n",
    "h2 = np.array([[4, 0.2, 0.1], [0.2, 1, 0], [0.1, 0, 1]])\n",
    "L1 = np.linalg.cholesky(h1)\n",
    "L2 = np.linalg.cholesky(h2)\n",
    "\n",
    "a = np.random.randn(100, 3) @ L1\n",
    "b = np.random.randn(75, 3) @ L2\n",
    "c = np.random.randn(30, 3) @ L2 + np.broadcast_to([0, 3, -1], (30, 3))\n",
    "\n",
    "Xnew = pf.fit_transform(ss.fit_transform(np.r_[a,b,c]))"
   ]
  },
  {
   "cell_type": "code",
   "execution_count": 101,
   "id": "2a266fce",
   "metadata": {},
   "outputs": [],
   "source": [
    "prior_cov9 = np.diag(np.repeat(1, 9))"
   ]
  },
  {
   "cell_type": "code",
   "execution_count": 102,
   "id": "2b53d6de",
   "metadata": {},
   "outputs": [
    {
     "name": "stderr",
     "output_type": "stream",
     "text": [
      "bclr_multi.py:173: SegmentationWarning: Number of changepoints reduced due to nan values owing to min_size constraints specified in MultiBayesCC... \n",
      "\n"
     ]
    }
   ],
   "source": [
    "bclrM_new = bclr.MultiBayesCC(Xnew, cps=5, prior_cov=prior_cov9, n_iter=1000, min_size=25)\n",
    "bclrM_new.warm_up(reps=10)\n",
    "bclrM_new.fit()"
   ]
  },
  {
   "cell_type": "code",
   "execution_count": 109,
   "id": "6ce41e38",
   "metadata": {
    "scrolled": false
   },
   "outputs": [
    {
     "data": {
      "text/html": [
       "<div>\n",
       "<style scoped>\n",
       "    .dataframe tbody tr th:only-of-type {\n",
       "        vertical-align: middle;\n",
       "    }\n",
       "\n",
       "    .dataframe tbody tr th {\n",
       "        vertical-align: top;\n",
       "    }\n",
       "\n",
       "    .dataframe thead th {\n",
       "        text-align: right;\n",
       "    }\n",
       "</style>\n",
       "<table border=\"1\" class=\"dataframe\">\n",
       "  <thead>\n",
       "    <tr style=\"text-align: right;\">\n",
       "      <th></th>\n",
       "      <th>Location</th>\n",
       "      <th>Posterior Probability</th>\n",
       "      <th>Normalized Entropy</th>\n",
       "    </tr>\n",
       "  </thead>\n",
       "  <tbody>\n",
       "    <tr>\n",
       "      <th>1</th>\n",
       "      <td>103.0</td>\n",
       "      <td>0.258</td>\n",
       "      <td>0.453432</td>\n",
       "    </tr>\n",
       "    <tr>\n",
       "      <th>2</th>\n",
       "      <td>175.0</td>\n",
       "      <td>0.904</td>\n",
       "      <td>0.077156</td>\n",
       "    </tr>\n",
       "  </tbody>\n",
       "</table>\n",
       "</div>"
      ],
      "text/plain": [
       "   Location  Posterior Probability  Normalized Entropy\n",
       "1     103.0                  0.258            0.453432\n",
       "2     175.0                  0.904            0.077156"
      ]
     },
     "execution_count": 109,
     "metadata": {},
     "output_type": "execute_result"
    }
   ],
   "source": [
    "bclrM_new.transform()\n",
    "bclrM_new.cps_df(thr=thr)"
   ]
  },
  {
   "cell_type": "markdown",
   "id": "d92d36d2",
   "metadata": {},
   "source": [
    "### Now we can summarize the output of our algorithm..."
   ]
  },
  {
   "cell_type": "code",
   "execution_count": 104,
   "id": "53bb72b1",
   "metadata": {
    "scrolled": true
   },
   "outputs": [
    {
     "data": {
      "text/plain": [
       "[array([0.806, 0.474, 0.276, 0.156, 0.988, 0.926, 0.716, 0.508, 0.45 ]),\n",
       " array([0.19 , 0.66 , 0.668, 1.   , 0.212, 0.372, 0.766, 0.582, 0.638]),\n",
       " array([0.38 , 1.   , 0.252, 0.31 , 0.304, 0.186, 1.   , 0.184, 0.044])]"
      ]
     },
     "execution_count": 104,
     "metadata": {},
     "output_type": "execute_result"
    }
   ],
   "source": [
    "[np.mean(bc.post_beta > 0, axis=0) for bc in bclrM_new.bccs_]"
   ]
  },
  {
   "cell_type": "code",
   "execution_count": 105,
   "id": "89e3c9c8",
   "metadata": {
    "scrolled": true
   },
   "outputs": [
    {
     "data": {
      "text/plain": [
       "[array([ 0.26787289, -0.01235875, -0.18006796, -0.25337554,  0.89532072,\n",
       "         0.3780556 ,  0.19192587,  0.01611073, -0.01719657]),\n",
       " array([-0.27688422,  0.08909597,  0.10097691,  1.67782168, -0.26337756,\n",
       "        -0.07902338,  0.20650973,  0.07196628,  0.08419072]),\n",
       " array([-0.09290673,  2.53120675, -0.2696673 , -0.19785884, -0.28011051,\n",
       "        -0.39011597,  2.49997063, -0.66704694, -0.72863886])]"
      ]
     },
     "execution_count": 105,
     "metadata": {},
     "output_type": "execute_result"
    }
   ],
   "source": [
    "# This indciates that the x_1^2 increases the most in the first instance, \n",
    "# and x_2 for the second changepoint, thought x_2^2 is close...\n",
    "[bc.post_beta_mean for bc in bclrM_new.bccs_]"
   ]
  },
  {
   "cell_type": "code",
   "execution_count": 108,
   "id": "1bbf2371",
   "metadata": {},
   "outputs": [
    {
     "data": {
      "text/plain": [
       "[175, 205]"
      ]
     },
     "execution_count": 108,
     "metadata": {},
     "output_type": "execute_result"
    }
   ],
   "source": [
    "# Usual rbf kernel with dynamic programming to find the changes...\n",
    "kern_cpd.fit_predict(Xnew, pen=2)"
   ]
  },
  {
   "cell_type": "code",
   "execution_count": 107,
   "id": "f1ff1da6",
   "metadata": {
    "scrolled": false
   },
   "outputs": [
    {
     "data": {
      "text/plain": [
       "[103, 175]"
      ]
     },
     "execution_count": 107,
     "metadata": {},
     "output_type": "execute_result"
    }
   ],
   "source": [
    "changeforest.changeforest(Xnew).split_points()"
   ]
  },
  {
   "cell_type": "markdown",
   "id": "a6de2734",
   "metadata": {},
   "source": [
    "### Central England temperature series"
   ]
  },
  {
   "cell_type": "code",
   "execution_count": 54,
   "id": "a616817d",
   "metadata": {},
   "outputs": [],
   "source": [
    "import re\n",
    "f = open(\"mean_temps_central_england.txt\", \"r\")\n",
    "lines = [re.sub(r\"\\n\", \"\", re.sub(r\"[ ]+\", \" \", a)).split(\" \") for a in f.readlines()]"
   ]
  },
  {
   "cell_type": "code",
   "execution_count": 55,
   "id": "f4f61bbf",
   "metadata": {},
   "outputs": [],
   "source": [
    "mtu = pd.DataFrame([l[1:] for l in lines[5:]], columns=lines[4][1:])\n",
    "Xcet = mtu[['Annual']][:-1].to_numpy(dtype=np.double)"
   ]
  },
  {
   "cell_type": "code",
   "execution_count": 56,
   "id": "ce689633",
   "metadata": {},
   "outputs": [],
   "source": [
    "cps = list(np.array([1700, 1738, 1988])-1658)"
   ]
  },
  {
   "cell_type": "code",
   "execution_count": 84,
   "id": "a7c6856e",
   "metadata": {},
   "outputs": [
    {
     "name": "stderr",
     "output_type": "stream",
     "text": [
      "bclr_multi.py:173: SegmentationWarning: Number of changepoints reduced due to nan values owing to min_size constraints specified in MultiBayesCC... \n",
      "\n"
     ]
    }
   ],
   "source": [
    "prior_cov1 = np.diag(np.repeat(10,1))\n",
    "ncps = 7\n",
    "bclrM_cet = bclr.MultiBayesCC(Xcet, cps=ncps, prior_cov=prior_cov1, min_size=20,\n",
    "                              n_iter=1000, lam=0) #try also 9 changepoints to see what we find...\n",
    "bclrM_cet.warm_up(reps=20)"
   ]
  },
  {
   "cell_type": "code",
   "execution_count": 85,
   "id": "4eaabcb2",
   "metadata": {},
   "outputs": [
    {
     "name": "stdout",
     "output_type": "stream",
     "text": [
      "[0, 42, 104, 135, 178, 270, 330, 365]\n"
     ]
    }
   ],
   "source": [
    "print(bclrM_cet.bkps)\n",
    "bclrM_cet.prior_cov = np.diag(np.repeat(1,1))\n",
    "bclrM_cet.lam = 0\n",
    "bclrM_cet.fit()"
   ]
  },
  {
   "cell_type": "code",
   "execution_count": 97,
   "id": "2da3e08d",
   "metadata": {
    "scrolled": false
   },
   "outputs": [
    {
     "name": "stdout",
     "output_type": "stream",
     "text": [
      "   Location  Posterior Probability  Normalized Entropy\n",
      "5    1988.0                  0.396            0.358995\n",
      "0    1701.0                  0.182            0.541514\n"
     ]
    }
   ],
   "source": [
    "bclrM_cet.transform()\n",
    "df_dis = bclrM_cet.cps_df(1658, thr=0.7)\n",
    "print(df_dis.sort_values(by=['Posterior Probability'], ascending=False))"
   ]
  },
  {
   "cell_type": "code",
   "execution_count": 98,
   "id": "f476a73b",
   "metadata": {},
   "outputs": [],
   "source": [
    "from ecp import e_divisive"
   ]
  },
  {
   "cell_type": "code",
   "execution_count": 92,
   "id": "42474f33",
   "metadata": {},
   "outputs": [
    {
     "data": {
      "text/plain": [
       "array([1988, 1701, 1925, 1739])"
      ]
     },
     "execution_count": 92,
     "metadata": {},
     "output_type": "execute_result"
    }
   ],
   "source": [
    "1658 + np.array([330, 43, 267, 81])"
   ]
  },
  {
   "cell_type": "code",
   "execution_count": 93,
   "id": "70d24144",
   "metadata": {},
   "outputs": [
    {
     "data": {
      "text/plain": [
       "array([1701, 1925, 1988])"
      ]
     },
     "execution_count": 93,
     "metadata": {},
     "output_type": "execute_result"
    }
   ],
   "source": [
    "ecp_vals = e_divisive.e_divisive(Xcet)\n",
    "np.array(ecp_vals['estimates'][1:-1]) + 1658"
   ]
  },
  {
   "cell_type": "code",
   "execution_count": 99,
   "id": "e3e7bcf2",
   "metadata": {
    "scrolled": true
   },
   "outputs": [
    {
     "data": {
      "text/plain": [
       "[<matplotlib.lines.Line2D at 0x7fe0724e35e0>,\n",
       " <matplotlib.lines.Line2D at 0x7fe0724e39a0>]"
      ]
     },
     "execution_count": 99,
     "metadata": {},
     "output_type": "execute_result"
    },
    {
     "data": {
      "image/png": "[encoded data removed]",
      "text/plain": [
       "<Figure size 800x300 with 1 Axes>"
      ]
     },
     "metadata": {},
     "output_type": "display_data"
    }
   ],
   "source": [
    "plt.figure(figsize=(8, 3))\n",
    "Xcet = mtu[['Annual']][:-1].to_numpy(dtype=np.double)\n",
    "years = mtu[['Year']][:-1].to_numpy(dtype=np.double)\n",
    "plt.plot(years[:], Xcet[:])\n",
    "[plt.axvline(df_dis['Location'].iloc[i], color='black', linestyle='--') for i in range(len(df_dis))]"
   ]
  },
  {
   "cell_type": "code",
   "execution_count": 95,
   "id": "fe289136",
   "metadata": {
    "scrolled": true
   },
   "outputs": [
    {
     "data": {
      "text/plain": [
       "array([1699, 1910, 1987])"
      ]
     },
     "execution_count": 95,
     "metadata": {},
     "output_type": "execute_result"
    }
   ],
   "source": [
    "np.array(kern_cpd.fit_predict(Xcet, n_bkps = 3)[:-1])+1658"
   ]
  },
  {
   "cell_type": "code",
   "execution_count": 96,
   "id": "d752bb43",
   "metadata": {
    "scrolled": true
   },
   "outputs": [
    {
     "data": {
      "text/plain": [
       "array([1982, 1988])"
      ]
     },
     "execution_count": 96,
     "metadata": {},
     "output_type": "execute_result"
    }
   ],
   "source": [
    "op = changeforest.changeforest(Xcet)\n",
    "np.array(op.split_points())+1658"
   ]
  }
 ],
 "metadata": {
  "kernelspec": {
   "display_name": "Python 3 (ipykernel)",
   "language": "python",
   "name": "python3"
  },
  "language_info": {
   "codemirror_mode": {
    "name": "ipython",
    "version": 3
   },
   "file_extension": ".py",
   "mimetype": "text/x-python",
   "name": "python",
   "nbconvert_exporter": "python",
   "pygments_lexer": "ipython3",
   "version": "3.8.4"
  }
 },
 "nbformat": 4,
 "nbformat_minor": 5
}
