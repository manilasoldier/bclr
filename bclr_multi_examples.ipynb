{
 "cells": [
  {
   "cell_type": "code",
   "execution_count": 16,
   "id": "b8c3803e",
   "metadata": {},
   "outputs": [],
   "source": [
    "import bclr\n",
    "import ruptures as rpt\n",
    "import numpy as np\n",
    "from sklearn.preprocessing import StandardScaler, PolynomialFeatures\n",
    "from scipy.stats import multivariate_normal, binom\n",
    "import matplotlib.pyplot as plt\n",
    "import pandas as pd\n",
    "import changeforest\n",
    "from sklearn.linear_model import LogisticRegression\n",
    "\n",
    "pf = PolynomialFeatures(include_bias=False)\n",
    "ss = StandardScaler()"
   ]
  },
  {
   "cell_type": "markdown",
   "id": "a5939508",
   "metadata": {},
   "source": [
    "Multiple changepoint demo"
   ]
  },
  {
   "cell_type": "code",
   "execution_count": 27,
   "id": "aba36227",
   "metadata": {
    "scrolled": true
   },
   "outputs": [
    {
     "name": "stderr",
     "output_type": "stream",
     "text": [
      "/Library/Frameworks/Python.framework/Versions/3.8/lib/python3.8/site-packages/scipy/stats/_discrete_distns.py:77: RuntimeWarning: divide by zero encountered in _binom_pdf\n",
      "  return _boost._binom_pdf(x, n, p)\n"
     ]
    }
   ],
   "source": [
    "n, dim = 500, 3  # number of samples, dimension\n",
    "n_bkps, sigma = 5, 5  # number of change points, noise standard deviation\n",
    "signal, bkps = rpt.pw_constant(n, dim, n_bkps, noise_std=sigma)\n",
    "prior_cov=np.diag(np.repeat(2, 3))\n",
    "bclrM = bclr.MultiBayesCC(signal, cps=5, prior_cov=prior_cov, n_iter=1000, min_size=50)\n",
    "bclrM.warm_up(random_init=True, reps=5)"
   ]
  },
  {
   "cell_type": "code",
   "execution_count": 12,
   "id": "e3c5e5f2",
   "metadata": {
    "scrolled": true
   },
   "outputs": [
    {
     "name": "stdout",
     "output_type": "stream",
     "text": [
      "[87, 169, 255, 337, 424]\n"
     ]
    }
   ],
   "source": [
    "print(bkps[:-1])"
   ]
  },
  {
   "cell_type": "code",
   "execution_count": 30,
   "id": "0300ca48",
   "metadata": {},
   "outputs": [],
   "source": [
    "bclrM.fit()"
   ]
  },
  {
   "cell_type": "code",
   "execution_count": 31,
   "id": "a004dda4",
   "metadata": {},
   "outputs": [
    {
     "data": {
      "text/html": [
       "<div>\n",
       "<style scoped>\n",
       "    .dataframe tbody tr th:only-of-type {\n",
       "        vertical-align: middle;\n",
       "    }\n",
       "\n",
       "    .dataframe tbody tr th {\n",
       "        vertical-align: top;\n",
       "    }\n",
       "\n",
       "    .dataframe thead th {\n",
       "        text-align: right;\n",
       "    }\n",
       "</style>\n",
       "<table border=\"1\" class=\"dataframe\">\n",
       "  <thead>\n",
       "    <tr style=\"text-align: right;\">\n",
       "      <th></th>\n",
       "      <th>Location</th>\n",
       "      <th>Posterior Probability</th>\n",
       "      <th>Normalized Entropy</th>\n",
       "    </tr>\n",
       "  </thead>\n",
       "  <tbody>\n",
       "    <tr>\n",
       "      <th>0</th>\n",
       "      <td>92.0</td>\n",
       "      <td>0.306</td>\n",
       "      <td>0.378534</td>\n",
       "    </tr>\n",
       "    <tr>\n",
       "      <th>1</th>\n",
       "      <td>176.0</td>\n",
       "      <td>0.374</td>\n",
       "      <td>0.337034</td>\n",
       "    </tr>\n",
       "    <tr>\n",
       "      <th>2</th>\n",
       "      <td>255.0</td>\n",
       "      <td>0.348</td>\n",
       "      <td>0.314673</td>\n",
       "    </tr>\n",
       "    <tr>\n",
       "      <th>3</th>\n",
       "      <td>335.0</td>\n",
       "      <td>0.324</td>\n",
       "      <td>0.392660</td>\n",
       "    </tr>\n",
       "    <tr>\n",
       "      <th>4</th>\n",
       "      <td>421.0</td>\n",
       "      <td>0.336</td>\n",
       "      <td>0.387900</td>\n",
       "    </tr>\n",
       "  </tbody>\n",
       "</table>\n",
       "</div>"
      ],
      "text/plain": [
       "   Location  Posterior Probability  Normalized Entropy\n",
       "0      92.0                  0.306            0.378534\n",
       "1     176.0                  0.374            0.337034\n",
       "2     255.0                  0.348            0.314673\n",
       "3     335.0                  0.324            0.392660\n",
       "4     421.0                  0.336            0.387900"
      ]
     },
     "execution_count": 31,
     "metadata": {},
     "output_type": "execute_result"
    }
   ],
   "source": [
    "bclrM.transform()\n",
    "bclrM.cps_df()"
   ]
  },
  {
   "cell_type": "markdown",
   "id": "1debeb98",
   "metadata": {},
   "source": [
    "### Correctly identifies the changes in each coordinate!!!"
   ]
  },
  {
   "cell_type": "code",
   "execution_count": 15,
   "id": "fcfbc9aa",
   "metadata": {
    "scrolled": true
   },
   "outputs": [
    {
     "data": {
      "text/plain": [
       "[array([0., 1., 0.]),\n",
       " array([1.   , 0.772, 0.696]),\n",
       " array([0.   , 1.   , 0.782]),\n",
       " array([1.   , 0.   , 0.134]),\n",
       " array([1.   , 0.406, 1.   ])]"
      ]
     },
     "execution_count": 15,
     "metadata": {},
     "output_type": "execute_result"
    }
   ],
   "source": [
    "[np.mean(bc.post_beta > 0, axis=0) for bc in bclrM.bccs_]"
   ]
  },
  {
   "cell_type": "code",
   "execution_count": 16,
   "id": "894cdc04",
   "metadata": {
    "scrolled": false
   },
   "outputs": [
    {
     "data": {
      "text/plain": [
       "[array([-1.56521546,  2.35469897, -1.7727779 ]),\n",
       " array([2.30128121, 0.17016793, 0.12175829]),\n",
       " array([-2.48851159,  2.01389942,  0.24175188]),\n",
       " array([ 1.3100204 , -2.96691356, -0.33578998]),\n",
       " array([ 0.85778419, -0.04946025,  1.30165081])]"
      ]
     },
     "execution_count": 16,
     "metadata": {},
     "output_type": "execute_result"
    }
   ],
   "source": [
    "[bc.post_beta_mean for bc in bclrM.bccs_]"
   ]
  },
  {
   "cell_type": "code",
   "execution_count": 17,
   "id": "b2bb1e8f",
   "metadata": {
    "scrolled": false
   },
   "outputs": [
    {
     "name": "stdout",
     "output_type": "stream",
     "text": [
      "[-8.60641472  6.89089113  6.3832272 ]\n",
      "[-14.13647404  16.05661179  -2.36986227]\n",
      "[-6.04455874 17.10568878 -0.71009845]\n",
      "[-15.19465531  25.35039543   0.19215509]\n",
      "[-9.91210716 16.10755724 -1.80185003]\n",
      "[-6.42917545 15.01258952  4.64776343]\n"
     ]
    }
   ],
   "source": [
    "bkps2 = [0]+bkps\n",
    "for i in range(len(bkps2)-1):\n",
    "    print(np.mean(signal[bkps2[i]:bkps2[i+1], :], axis=0))"
   ]
  },
  {
   "cell_type": "code",
   "execution_count": 18,
   "id": "61f870de",
   "metadata": {
    "scrolled": true
   },
   "outputs": [
    {
     "data": {
      "text/plain": [
       "[83, 167, 248, 335, 416]"
      ]
     },
     "execution_count": 18,
     "metadata": {},
     "output_type": "execute_result"
    }
   ],
   "source": [
    "kern_cpd = rpt.KernelCPD(kernel='rbf')\n",
    "kern_cpd.fit_predict(signal, n_bkps=5)[:-1]"
   ]
  },
  {
   "cell_type": "markdown",
   "id": "bb071dae",
   "metadata": {},
   "source": [
    "## What if we looked at changes of differing nature?"
   ]
  },
  {
   "cell_type": "code",
   "execution_count": 56,
   "id": "5832e197",
   "metadata": {},
   "outputs": [],
   "source": [
    "np.random.seed(881923)\n",
    "h1 = np.array([[1, 0.2, 0.1], [0.2, 1, 0], [0.1, 0, 1]])\n",
    "h2 = np.array([[4, 0.2, 0.1], [0.2, 1, 0], [0.1, 0, 1]])\n",
    "L1 = np.linalg.cholesky(h1)\n",
    "L2 = np.linalg.cholesky(h2)\n",
    "\n",
    "a = np.random.randn(100, 3) @ L1\n",
    "b = np.random.randn(75, 3) @ L2\n",
    "c = np.random.randn(30, 3) @ L2 + np.broadcast_to([0, 3, -1], (30, 3))\n",
    "\n",
    "Xnew = pf.fit_transform(ss.fit_transform(np.r_[a,b,c]))"
   ]
  },
  {
   "cell_type": "code",
   "execution_count": 57,
   "id": "b12f8e87",
   "metadata": {},
   "outputs": [],
   "source": [
    "prior_cov9 = np.diag(np.repeat(1, 9))"
   ]
  },
  {
   "cell_type": "code",
   "execution_count": 58,
   "id": "420e3dbb",
   "metadata": {},
   "outputs": [],
   "source": [
    "bclrM_new = bclr.MultiBayesCC(Xnew, cps=2, prior_cov=prior_cov9, n_iter=1000)\n",
    "bclrM_new.warm_up()\n",
    "bclrM_new.fit()"
   ]
  },
  {
   "cell_type": "code",
   "execution_count": 59,
   "id": "5a4157c8",
   "metadata": {
    "scrolled": false
   },
   "outputs": [
    {
     "data": {
      "text/html": [
       "<div>\n",
       "<style scoped>\n",
       "    .dataframe tbody tr th:only-of-type {\n",
       "        vertical-align: middle;\n",
       "    }\n",
       "\n",
       "    .dataframe tbody tr th {\n",
       "        vertical-align: top;\n",
       "    }\n",
       "\n",
       "    .dataframe thead th {\n",
       "        text-align: right;\n",
       "    }\n",
       "</style>\n",
       "<table border=\"1\" class=\"dataframe\">\n",
       "  <thead>\n",
       "    <tr style=\"text-align: right;\">\n",
       "      <th></th>\n",
       "      <th>Location</th>\n",
       "      <th>Posterior Probability</th>\n",
       "      <th>Normalized Entropy</th>\n",
       "    </tr>\n",
       "  </thead>\n",
       "  <tbody>\n",
       "    <tr>\n",
       "      <th>0</th>\n",
       "      <td>103.0</td>\n",
       "      <td>0.446</td>\n",
       "      <td>0.321321</td>\n",
       "    </tr>\n",
       "    <tr>\n",
       "      <th>1</th>\n",
       "      <td>175.0</td>\n",
       "      <td>0.902</td>\n",
       "      <td>0.072642</td>\n",
       "    </tr>\n",
       "  </tbody>\n",
       "</table>\n",
       "</div>"
      ],
      "text/plain": [
       "   Location  Posterior Probability  Normalized Entropy\n",
       "0     103.0                  0.446            0.321321\n",
       "1     175.0                  0.902            0.072642"
      ]
     },
     "execution_count": 59,
     "metadata": {},
     "output_type": "execute_result"
    }
   ],
   "source": [
    "bclrM_new.transform()\n",
    "bclrM_new.cps_df()"
   ]
  },
  {
   "cell_type": "markdown",
   "id": "28a6ef64",
   "metadata": {},
   "source": [
    "### Now we can summarize the output of our algorithm..."
   ]
  },
  {
   "cell_type": "code",
   "execution_count": 60,
   "id": "3c9334ab",
   "metadata": {
    "scrolled": true
   },
   "outputs": [
    {
     "data": {
      "text/plain": [
       "[array([0.448, 0.496, 0.46 , 1.   , 0.694, 0.608, 0.832, 0.494, 0.676]),\n",
       " array([0.512, 1.   , 0.258, 0.358, 0.354, 0.188, 1.   , 0.096, 0.046])]"
      ]
     },
     "execution_count": 60,
     "metadata": {},
     "output_type": "execute_result"
    }
   ],
   "source": [
    "[np.mean(bc.post_beta > 0, axis=0) for bc in bclrM_new.bccs_]"
   ]
  },
  {
   "cell_type": "code",
   "execution_count": 61,
   "id": "26b30ea8",
   "metadata": {
    "scrolled": true
   },
   "outputs": [
    {
     "data": {
      "text/plain": [
       "[array([-0.04649726, -0.00772035, -0.0176239 ,  1.86821551,  0.16164709,\n",
       "         0.06249292,  0.22821517,  0.00293776,  0.09487425]),\n",
       " array([ 0.02889131,  2.75229347, -0.30514312, -0.18272165, -0.23221054,\n",
       "        -0.40655644,  2.68501007, -0.74661227, -0.82309959])]"
      ]
     },
     "execution_count": 61,
     "metadata": {},
     "output_type": "execute_result"
    }
   ],
   "source": [
    "# This indciates that the x_1^2 increases the most in the first instance, \n",
    "# and x_2 for the second changepoint, thought x_2^2 is close...\n",
    "[bc.post_beta_mean for bc in bclrM_new.bccs_]"
   ]
  },
  {
   "cell_type": "code",
   "execution_count": 64,
   "id": "2c4800b0",
   "metadata": {},
   "outputs": [
    {
     "data": {
      "text/plain": [
       "[103, 175]"
      ]
     },
     "execution_count": 64,
     "metadata": {},
     "output_type": "execute_result"
    }
   ],
   "source": [
    "# Usual rbf kernel with dynamic programming to find the changes...\n",
    "kern_cpd.fit_predict(Xnew, n_bkps = 2)[:-1]"
   ]
  },
  {
   "cell_type": "code",
   "execution_count": 63,
   "id": "551a1908",
   "metadata": {
    "scrolled": false
   },
   "outputs": [
    {
     "data": {
      "text/plain": [
       "[103, 175]"
      ]
     },
     "execution_count": 63,
     "metadata": {},
     "output_type": "execute_result"
    }
   ],
   "source": [
    "changeforest.changeforest(Xnew).split_points()"
   ]
  },
  {
   "cell_type": "markdown",
   "id": "8fd49c50",
   "metadata": {},
   "source": [
    "### Central England temperature series"
   ]
  },
  {
   "cell_type": "code",
   "execution_count": 66,
   "id": "7de81125",
   "metadata": {},
   "outputs": [],
   "source": [
    "import re\n",
    "f = open(\"mean_temps_central_england.txt\", \"r\")\n",
    "lines = [re.sub(r\"\\n\", \"\", re.sub(r\"[ ]+\", \" \", a)).split(\" \") for a in f.readlines()]"
   ]
  },
  {
   "cell_type": "code",
   "execution_count": 67,
   "id": "208440f0",
   "metadata": {},
   "outputs": [],
   "source": [
    "mtu = pd.DataFrame([l[1:] for l in lines[5:]], columns=lines[4][1:])\n",
    "Xcet = mtu[['Annual']][:-1].to_numpy(dtype=np.double)"
   ]
  },
  {
   "cell_type": "code",
   "execution_count": 68,
   "id": "4fa16ebd",
   "metadata": {},
   "outputs": [],
   "source": [
    "cps = list(np.array([1700, 1738, 1988])-1658)"
   ]
  },
  {
   "cell_type": "code",
   "execution_count": 79,
   "id": "202ab1c6",
   "metadata": {},
   "outputs": [],
   "source": [
    "prior_cov1 = np.diag(np.repeat(10,1))\n",
    "ncps = 6\n",
    "bclrM_cet = bclr.MultiBayesCC(Xcet, cps=ncps, prior_cov=prior_cov1, \n",
    "                              n_iter=1000, lam=0) #try also 9 changepoints to see what we find...\n",
    "bclrM_cet.warm_up(random_init=True, reps=20)"
   ]
  },
  {
   "cell_type": "code",
   "execution_count": 80,
   "id": "33bb7a86",
   "metadata": {},
   "outputs": [
    {
     "name": "stdout",
     "output_type": "stream",
     "text": [
      "[0, 46, 80, 93, 156, 275, 329, 365]\n"
     ]
    }
   ],
   "source": [
    "print(bclrM_cet.bkps)\n",
    "bclrM_cet.prior_cov = np.diag(np.repeat(1,1))\n",
    "bclrM_cet.lam = 0\n",
    "bclrM_cet.fit()"
   ]
  },
  {
   "cell_type": "code",
   "execution_count": 82,
   "id": "cd74332e",
   "metadata": {
    "scrolled": false
   },
   "outputs": [
    {
     "name": "stdout",
     "output_type": "stream",
     "text": [
      "   Location  Posterior Probability  Normalized Entropy\n",
      "5    1988.0                  0.368            0.405003\n",
      "0    1701.0                  0.218            0.488756\n",
      "1    1739.0                  0.144            0.873385\n",
      "4    1910.0                  0.064            0.753124\n",
      "2    1777.0                  0.028            0.980452\n",
      "3    1892.0                  0.020            0.949316\n"
     ]
    }
   ],
   "source": [
    "bclrM_cet.transform()\n",
    "df_dis = bclrM_cet.cps_df(1658)\n",
    "print(df_dis.sort_values(by=['Posterior Probability'], ascending=False))"
   ]
  },
  {
   "cell_type": "code",
   "execution_count": 92,
   "id": "157cfff8",
   "metadata": {},
   "outputs": [],
   "source": [
    "from ecp import e_divisive"
   ]
  },
  {
   "cell_type": "code",
   "execution_count": 95,
   "id": "fb5a02b5",
   "metadata": {},
   "outputs": [
    {
     "data": {
      "text/plain": [
       "array([1988, 1701, 1925, 1739])"
      ]
     },
     "execution_count": 95,
     "metadata": {},
     "output_type": "execute_result"
    }
   ],
   "source": [
    "1658 + np.array([330, 43, 267, 81])"
   ]
  },
  {
   "cell_type": "code",
   "execution_count": 94,
   "id": "10c77bdc",
   "metadata": {},
   "outputs": [
    {
     "data": {
      "text/plain": [
       "{'k_hat': 5,\n",
       " 'order_found': [0, 365, 330, 43, 267, 81],\n",
       " 'estimates': [0, 43, 81, 267, 330, 365],\n",
       " 'considered_last': 187,\n",
       " 'p_values': [0.005, 0.005, 0.005, 0.05, 0.485],\n",
       " 'permutations': [199, 199, 199, 199, 199],\n",
       " 'cluster': array([0, 0, 0, 0, 0, 0, 0, 0, 0, 0, 0, 0, 0, 0, 0, 0, 0, 0, 0, 0, 0, 0,\n",
       "        0, 0, 0, 0, 0, 0, 0, 0, 0, 0, 0, 0, 0, 0, 0, 0, 0, 0, 0, 0, 0, 1,\n",
       "        1, 1, 1, 1, 1, 1, 1, 1, 1, 1, 1, 1, 1, 1, 1, 1, 1, 1, 1, 1, 1, 1,\n",
       "        1, 1, 1, 1, 1, 1, 1, 1, 1, 1, 1, 1, 1, 1, 1, 2, 2, 2, 2, 2, 2, 2,\n",
       "        2, 2, 2, 2, 2, 2, 2, 2, 2, 2, 2, 2, 2, 2, 2, 2, 2, 2, 2, 2, 2, 2,\n",
       "        2, 2, 2, 2, 2, 2, 2, 2, 2, 2, 2, 2, 2, 2, 2, 2, 2, 2, 2, 2, 2, 2,\n",
       "        2, 2, 2, 2, 2, 2, 2, 2, 2, 2, 2, 2, 2, 2, 2, 2, 2, 2, 2, 2, 2, 2,\n",
       "        2, 2, 2, 2, 2, 2, 2, 2, 2, 2, 2, 2, 2, 2, 2, 2, 2, 2, 2, 2, 2, 2,\n",
       "        2, 2, 2, 2, 2, 2, 2, 2, 2, 2, 2, 2, 2, 2, 2, 2, 2, 2, 2, 2, 2, 2,\n",
       "        2, 2, 2, 2, 2, 2, 2, 2, 2, 2, 2, 2, 2, 2, 2, 2, 2, 2, 2, 2, 2, 2,\n",
       "        2, 2, 2, 2, 2, 2, 2, 2, 2, 2, 2, 2, 2, 2, 2, 2, 2, 2, 2, 2, 2, 2,\n",
       "        2, 2, 2, 2, 2, 2, 2, 2, 2, 2, 2, 2, 2, 2, 2, 2, 2, 2, 2, 2, 2, 2,\n",
       "        2, 2, 2, 3, 3, 3, 3, 3, 3, 3, 3, 3, 3, 3, 3, 3, 3, 3, 3, 3, 3, 3,\n",
       "        3, 3, 3, 3, 3, 3, 3, 3, 3, 3, 3, 3, 3, 3, 3, 3, 3, 3, 3, 3, 3, 3,\n",
       "        3, 3, 3, 3, 3, 3, 3, 3, 3, 3, 3, 3, 3, 3, 3, 3, 3, 3, 3, 3, 3, 3,\n",
       "        4, 4, 4, 4, 4, 4, 4, 4, 4, 4, 4, 4, 4, 4, 4, 4, 4, 4, 4, 4, 4, 4,\n",
       "        4, 4, 4, 4, 4, 4, 4, 4, 4, 4, 4, 4, 4])}"
      ]
     },
     "execution_count": 94,
     "metadata": {},
     "output_type": "execute_result"
    }
   ],
   "source": [
    "e_divisive.e_divisive(Xcet)"
   ]
  },
  {
   "cell_type": "code",
   "execution_count": 75,
   "id": "313e2481",
   "metadata": {
    "scrolled": true
   },
   "outputs": [
    {
     "data": {
      "text/plain": [
       "[<matplotlib.lines.Line2D at 0x7fe9b8918c10>,\n",
       " <matplotlib.lines.Line2D at 0x7fe9b890a3a0>,\n",
       " <matplotlib.lines.Line2D at 0x7fe9780820d0>]"
      ]
     },
     "execution_count": 75,
     "metadata": {},
     "output_type": "execute_result"
    },
    {
     "data": {
      "image/png": "[encoded data removed]",
      "text/plain": [
       "<Figure size 800x300 with 1 Axes>"
      ]
     },
     "metadata": {},
     "output_type": "display_data"
    }
   ],
   "source": [
    "plt.figure(figsize=(8, 3))\n",
    "Xcet = mtu[['Annual']][:-1].to_numpy(dtype=np.double)\n",
    "years = mtu[['Year']][:-1].to_numpy(dtype=np.double)\n",
    "plt.plot(years[:], Xcet[:])\n",
    "[plt.axvline(df_dis['Location'][i], color='black', linestyle='--') for i in range(ncps)]"
   ]
  },
  {
   "cell_type": "code",
   "execution_count": 26,
   "id": "13816352",
   "metadata": {
    "scrolled": true
   },
   "outputs": [
    {
     "data": {
      "text/plain": [
       "array([1701, 1910, 1987])"
      ]
     },
     "execution_count": 26,
     "metadata": {},
     "output_type": "execute_result"
    }
   ],
   "source": [
    "np.array(kern_cpd.fit_predict(Xcet, n_bkps = 3)[:-1])+1658"
   ]
  },
  {
   "cell_type": "code",
   "execution_count": 83,
   "id": "cde33b86",
   "metadata": {
    "scrolled": true
   },
   "outputs": [
    {
     "data": {
      "text/plain": [
       "array([1982, 1988])"
      ]
     },
     "execution_count": 83,
     "metadata": {},
     "output_type": "execute_result"
    }
   ],
   "source": [
    "op = changeforest.changeforest(Xcet)\n",
    "np.array(op.split_points())+1658"
   ]
  }
 ],
 "metadata": {
  "kernelspec": {
   "display_name": "Python 3 (ipykernel)",
   "language": "python",
   "name": "python3"
  },
  "language_info": {
   "codemirror_mode": {
    "name": "ipython",
    "version": 3
   },
   "file_extension": ".py",
   "mimetype": "text/x-python",
   "name": "python",
   "nbconvert_exporter": "python",
   "pygments_lexer": "ipython3",
   "version": "3.8.4"
  }
 },
 "nbformat": 4,
 "nbformat_minor": 5
}
