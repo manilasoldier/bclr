{
 "cells": [
  {
   "cell_type": "code",
   "execution_count": 1,
   "id": "e247c836",
   "metadata": {},
   "outputs": [],
   "source": [
    "import pickle\n",
    "import pandas as pd\n",
    "import numpy as np\n",
    "#import detectda as dtda\n",
    "import matplotlib.pyplot as plt\n",
    "from skimage import filters\n",
    "from sklearn.preprocessing import StandardScaler\n",
    "from sklearn.decomposition import PCA\n",
    "import sys\n",
    "from joblib import Parallel, delayed\n",
    "from scipy.stats import mode"
   ]
  },
  {
   "cell_type": "code",
   "execution_count": 2,
   "id": "7eb9da1e",
   "metadata": {},
   "outputs": [],
   "source": [
    "import bcc"
   ]
  },
  {
   "cell_type": "code",
   "execution_count": 3,
   "id": "10aa8014",
   "metadata": {},
   "outputs": [],
   "source": [
    "file=open('experiment2_prior2.pickle', 'rb')\n",
    "exp2p=pickle.load(file)"
   ]
  },
  {
   "cell_type": "code",
   "execution_count": 9,
   "id": "c1a118f2",
   "metadata": {},
   "outputs": [],
   "source": [
    "bclr_tda_all = exp2p['bcc_tda']\n",
    "bclr_tda_all2 = exp2p['bcc_tda2']"
   ]
  },
  {
   "cell_type": "code",
   "execution_count": 11,
   "id": "6493dfb3",
   "metadata": {},
   "outputs": [
    {
     "name": "stdout",
     "output_type": "stream",
     "text": [
      "Mean RMSE: 2.547\n",
      "SE RMSE: 2.362\n",
      "Mean RMSE data: 4.797\n",
      "SE RMSE data: 3.901\n"
     ]
    }
   ],
   "source": [
    "def rmse(x):\n",
    "    return np.sqrt(np.mean(x**2))\n",
    "\n",
    "cp_bclr_mses_tda = [rmse(bclr.post_k-40)  for bclr in bclr_tda_all]\n",
    "cp_bclr_mses_tda2 = [rmse(bclr.post_k-40)  for bclr in bclr_tda_all2]\n",
    "\n",
    "print(\"Mean RMSE: %0.3f\" % np.mean(cp_bclr_mses_tda))\n",
    "print(\"SE RMSE: %0.3f\" % np.std(cp_bclr_mses_tda))\n",
    "\n",
    "print(\"Mean RMSE data: %0.3f\" % np.mean(cp_bclr_mses_tda2))\n",
    "print(\"SE RMSE data: %0.3f\" % np.std(cp_bclr_mses_tda2))"
   ]
  },
  {
   "cell_type": "code",
   "execution_count": 13,
   "id": "257aedca",
   "metadata": {},
   "outputs": [],
   "source": [
    "pred_vals1 = np.array([d.post_k_mode for d in exp2p['bcc_tda']])\n",
    "pred_vals2 = np.array([d.post_k_mode for d in exp2p['bcc_tda2']])"
   ]
  },
  {
   "cell_type": "code",
   "execution_count": 14,
   "id": "15f08bce",
   "metadata": {
    "scrolled": false
   },
   "outputs": [
    {
     "name": "stdout",
     "output_type": "stream",
     "text": [
      "Probability k=40 for bclr, Data prior: 0.508\n",
      "Probability k=40 for bclr, Guessed prior: 0.345\n",
      "Std Err: Probability k=40 for bclr, Data prior: 0.016\n",
      "Std Err: Probability k=40 for bclr, Guessed prior: 0.015\n"
     ]
    }
   ],
   "source": [
    "print(\"Probability k=40 for bclr, Data prior: %0.3f\" % np.mean(pred_vals1==40))\n",
    "print(\"Probability k=40 for bclr, Guessed prior: %0.3f\" % np.mean(pred_vals2==40))\n",
    "\n",
    "print(\"Std Err: Probability k=40 for bclr, Data prior: %0.3f\" % (np.std(pred_vals1==40)/np.sqrt(1000)))\n",
    "print(\"Std Err: Probability k=40 for bclr, Guessed prior: %0.3f\" % (np.std(pred_vals2==40)/np.sqrt(1000)))"
   ]
  },
  {
   "cell_type": "code",
   "execution_count": 7,
   "id": "3d362ed4",
   "metadata": {
    "scrolled": true
   },
   "outputs": [
    {
     "name": "stdout",
     "output_type": "stream",
     "text": [
      "RMSE k=40 for bclr, Data prior: 3.161\n",
      "RMSE k=40 for bclr, Guessed prior: 5.752\n"
     ]
    }
   ],
   "source": [
    "print(\"RMSE k=40 for bclr, Data prior: %0.3f\" % np.sqrt(np.mean((pred_vals1-40)**2)))\n",
    "print(\"RMSE k=40 for bclr, Guessed prior: %0.3f\" % np.sqrt(np.mean((pred_vals2-40)**2)))"
   ]
  },
  {
   "cell_type": "code",
   "execution_count": 8,
   "id": "5daff663",
   "metadata": {},
   "outputs": [
    {
     "data": {
      "text/plain": [
       "(11.10238232421875, 0.7774879121633859)"
      ]
     },
     "execution_count": 8,
     "metadata": {},
     "output_type": "execute_result"
    }
   ],
   "source": [
    "np.mean(exp2p['time1']), np.std(exp2p['time1'])"
   ]
  },
  {
   "cell_type": "code",
   "execution_count": 9,
   "id": "0624c029",
   "metadata": {
    "scrolled": true
   },
   "outputs": [
    {
     "data": {
      "text/plain": [
       "(11.261222751379012, 0.7769432735195909)"
      ]
     },
     "execution_count": 9,
     "metadata": {},
     "output_type": "execute_result"
    }
   ],
   "source": [
    "np.mean(exp2p['time2']), np.std(exp2p['time2'])"
   ]
  }
 ],
 "metadata": {
  "kernelspec": {
   "display_name": "Python 3 (ipykernel)",
   "language": "python",
   "name": "python3"
  },
  "language_info": {
   "codemirror_mode": {
    "name": "ipython",
    "version": 3
   },
   "file_extension": ".py",
   "mimetype": "text/x-python",
   "name": "python",
   "nbconvert_exporter": "python",
   "pygments_lexer": "ipython3",
   "version": "3.8.4"
  }
 },
 "nbformat": 4,
 "nbformat_minor": 5
}
