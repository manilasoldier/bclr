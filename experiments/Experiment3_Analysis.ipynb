{
 "cells": [
  {
   "cell_type": "code",
   "execution_count": 2,
   "id": "0c0ada60",
   "metadata": {},
   "outputs": [],
   "source": [
    "import pickle\n",
    "import pandas as pd\n",
    "import numpy as np\n",
    "import detectda as dtda\n",
    "import matplotlib.pyplot as plt\n",
    "from skimage import filters\n",
    "from sklearn.preprocessing import StandardScaler\n",
    "from sklearn.decomposition import PCA\n",
    "import sys\n",
    "from joblib import Parallel, delayed\n",
    "from scipy.stats import mode"
   ]
  },
  {
   "cell_type": "code",
   "execution_count": 3,
   "id": "151366f2",
   "metadata": {},
   "outputs": [],
   "source": [
    "import bcc"
   ]
  },
  {
   "cell_type": "code",
   "execution_count": 4,
   "id": "3dddef53",
   "metadata": {},
   "outputs": [],
   "source": [
    "cov_data = np.load(\"Experiment3_MVN_Data.npy\")"
   ]
  },
  {
   "cell_type": "code",
   "execution_count": 5,
   "id": "260133f6",
   "metadata": {},
   "outputs": [],
   "source": [
    "#cov_data_sav = pd.concat([pd.DataFrame(arr) for arr in cov_data], keys=np.arange(1, len(cov_data)+1))\n",
    "#cov_data_sav.to_csv(\"cov_data_sav.csv\")"
   ]
  },
  {
   "cell_type": "code",
   "execution_count": 6,
   "id": "63617950",
   "metadata": {},
   "outputs": [],
   "source": [
    "file=open('experiment3_data.pickle', 'rb')\n",
    "exp3=pickle.load(file)"
   ]
  },
  {
   "cell_type": "code",
   "execution_count": 7,
   "id": "b8862e76",
   "metadata": {
    "scrolled": true
   },
   "outputs": [
    {
     "data": {
      "text/plain": [
       "dict_keys(['bcc_cov', 'cf_cov', 'kcp_cov', 'cf_cov_raw', 'norm_cov'])"
      ]
     },
     "execution_count": 7,
     "metadata": {},
     "output_type": "execute_result"
    }
   ],
   "source": [
    "exp3.keys()"
   ]
  },
  {
   "cell_type": "code",
   "execution_count": 8,
   "id": "126fcfe4",
   "metadata": {},
   "outputs": [],
   "source": [
    "bclr_cov = exp3['bcc_cov']\n",
    "cf_cov = exp3['cf_cov']\n",
    "kcp_cov = exp3['kcp_cov']\n",
    "cf_cov_raw = exp3['cf_cov_raw']\n",
    "norm_cov = exp3['norm_cov']"
   ]
  },
  {
   "cell_type": "code",
   "execution_count": 9,
   "id": "c532bc0a",
   "metadata": {
    "scrolled": true
   },
   "outputs": [],
   "source": [
    "cp_bclr_cov = np.array([bclr.post_k_mode for bclr in bclr_cov])\n",
    "cp_cf_cov = np.array([a['best_split'] for a in cf_cov])\n",
    "cp_cf_cov_raw = np.array([a['best_split'] for a in cf_cov_raw])\n",
    "cp_kcp_cov = np.array([a[0] for a in kcp_cov])\n",
    "cp_norm_cov = np.array([a[0] for a in norm_cov])"
   ]
  },
  {
   "cell_type": "code",
   "execution_count": 10,
   "id": "0183c256",
   "metadata": {},
   "outputs": [],
   "source": [
    "cp_bclr_beta = np.array([bclr.post_beta_mean for bclr in bclr_cov])\n",
    "betas = np.mean(cp_bclr_beta, axis=0)"
   ]
  },
  {
   "cell_type": "code",
   "execution_count": 11,
   "id": "882111b3",
   "metadata": {},
   "outputs": [
    {
     "data": {
      "text/plain": [
       "(1000, 14)"
      ]
     },
     "execution_count": 11,
     "metadata": {},
     "output_type": "execute_result"
    }
   ],
   "source": [
    "cp_bclr_beta.shape"
   ]
  },
  {
   "cell_type": "code",
   "execution_count": 12,
   "id": "4482890f",
   "metadata": {},
   "outputs": [],
   "source": [
    "plt.rcParams[\"font.family\"] = \"Nunito\""
   ]
  },
  {
   "cell_type": "code",
   "execution_count": 17,
   "id": "3814419e",
   "metadata": {},
   "outputs": [
    {
     "data": {
      "image/png": "[encoded data removed]",
      "text/plain": [
       "<Figure size 640x480 with 1 Axes>"
      ]
     },
     "metadata": {},
     "output_type": "display_data"
    }
   ],
   "source": [
    "powers = np.array([[1, 0, 0, 0],\n",
    "       [0, 1, 0, 0],\n",
    "       [0, 0, 1, 0],\n",
    "       [0, 0, 0, 1],\n",
    "       [2, 0, 0, 0],\n",
    "       [1, 1, 0, 0],\n",
    "       [1, 0, 1, 0],\n",
    "       [1, 0, 0, 1],\n",
    "       [0, 2, 0, 0],\n",
    "       [0, 1, 1, 0],\n",
    "       [0, 1, 0, 1],\n",
    "       [0, 0, 2, 0],\n",
    "       [0, 0, 1, 1],\n",
    "       [0, 0, 0, 2]])\n",
    "\n",
    "names = [r'$x_1$', r'$x_2$', r'$x_3$', r'$x_4$', r'$x_1^2$', r'$x_1x_2$', r'$x_1x_3$', r'$x_1x_4$',\n",
    "        r'$x_2^2$', r'$x_2x_3$', r'$x_2x_4$', r'$x_3^2$', r'$x_3x_4$', r'$x_4^2$']\n",
    "\n",
    "fig, ax = plt.subplots()\n",
    "ax.yaxis.grid(True)\n",
    "bp = ax.boxplot(x=cp_bclr_beta, labels=names, sym='*', patch_artist=True)\n",
    "plt.setp(bp['fliers'], markersize=1.0)\n",
    "plt.xticks(rotation=30)\n",
    "plt.setp(bp[\"boxes\"], facecolor=\"black\")\n",
    "plt.setp(bp[\"medians\"], color=\"white\")\n",
    "ax.set_title(\"Covariance change\\nBoxplot of posterior mean \"+str(r'$\\beta$')+\" coefficients over 1000 simulations\", loc='left')\n",
    "plt.savefig(\"BoxplotCov.pdf\")"
   ]
  },
  {
   "cell_type": "code",
   "execution_count": 47,
   "id": "de120427",
   "metadata": {},
   "outputs": [],
   "source": [
    "def rmse(x):\n",
    "    return np.sqrt(np.mean(x**2))\n",
    "\n",
    "cp_bclr_mses_cov = [rmse(bclr.post_k-200)  for bclr in bclr_cov]"
   ]
  },
  {
   "cell_type": "code",
   "execution_count": 51,
   "id": "9f3f3605",
   "metadata": {},
   "outputs": [
    {
     "data": {
      "text/plain": [
       "13.202323796760279"
      ]
     },
     "execution_count": 51,
     "metadata": {},
     "output_type": "execute_result"
    }
   ],
   "source": [
    "np.std(cp_bclr_mses_cov)"
   ]
  },
  {
   "cell_type": "code",
   "execution_count": 43,
   "id": "5e3bb757",
   "metadata": {
    "scrolled": true
   },
   "outputs": [
    {
     "name": "stdout",
     "output_type": "stream",
     "text": [
      "RMSE for bclr: 18.463\n",
      "Probability k=200 for bclr: 0.141\n"
     ]
    }
   ],
   "source": [
    "print(\"RMSE for bclr: %0.3f\" % np.sqrt(np.mean((cp_bclr_cov-200)**2)))\n",
    "\n",
    "print(\"Probability k=200 for bclr: %0.3f\" % np.mean(np.array(cp_bclr_cov)==200))"
   ]
  },
  {
   "cell_type": "code",
   "execution_count": null,
   "id": "70447b7c",
   "metadata": {},
   "outputs": [],
   "source": [
    "print(\"MSE for CF: %0.3f\" % np.mean((cp_cf_cov-200)**2))\n",
    "\n",
    "print(\"Probability k=200 for CF: %0.3f\" % np.mean(np.array(cp_cf_cov)==200))"
   ]
  },
  {
   "cell_type": "code",
   "execution_count": null,
   "id": "1bf7bacd",
   "metadata": {},
   "outputs": [],
   "source": [
    "print(\"MSE for CF: %0.3f\" % np.mean((cp_cf_cov_raw-200)**2))\n",
    "\n",
    "print(\"Probability k=200 for CF: %0.3f\" % np.mean(np.array(cp_cf_cov_raw)==200))"
   ]
  },
  {
   "cell_type": "code",
   "execution_count": null,
   "id": "8120d348",
   "metadata": {},
   "outputs": [],
   "source": [
    "print(\"MSE for CF: %0.3f\" % np.mean((cp_kcp_cov-200)**2))\n",
    "\n",
    "print(\"Probability k=200 for CF: %0.3f\" % np.mean(np.array(cp_kcp_cov)==200))"
   ]
  },
  {
   "cell_type": "code",
   "execution_count": null,
   "id": "42e87218",
   "metadata": {},
   "outputs": [],
   "source": [
    "print(\"MSE for CF: %0.3f\" % np.mean((cp_norm_cov-200)**2))\n",
    "\n",
    "print(\"Probability k=200 for CF: %0.3f\" % np.mean(np.array(cp_norm_cov)==200))"
   ]
  }
 ],
 "metadata": {
  "kernelspec": {
   "display_name": "Python 3 (ipykernel)",
   "language": "python",
   "name": "python3"
  },
  "language_info": {
   "codemirror_mode": {
    "name": "ipython",
    "version": 3
   },
   "file_extension": ".py",
   "mimetype": "text/x-python",
   "name": "python",
   "nbconvert_exporter": "python",
   "pygments_lexer": "ipython3",
   "version": "3.8.4"
  }
 },
 "nbformat": 4,
 "nbformat_minor": 5
}
