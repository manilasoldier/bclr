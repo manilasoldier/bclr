{
 "cells": [
  {
   "cell_type": "code",
   "execution_count": 3,
   "id": "48dbbf68",
   "metadata": {},
   "outputs": [],
   "source": [
    "import pickle\n",
    "import pandas as pd\n",
    "import numpy as np\n",
    "#import detectda as dtda\n",
    "import matplotlib.pyplot as plt\n",
    "from skimage import filters\n",
    "from sklearn.preprocessing import StandardScaler\n",
    "from sklearn.decomposition import PCA\n",
    "import sys\n",
    "from joblib import Parallel, delayed\n",
    "from scipy.stats import mode"
   ]
  },
  {
   "cell_type": "code",
   "execution_count": 1,
   "id": "e626fabd",
   "metadata": {},
   "outputs": [],
   "source": [
    "import bclr"
   ]
  },
  {
   "cell_type": "code",
   "execution_count": 4,
   "id": "a53ed7d5",
   "metadata": {},
   "outputs": [],
   "source": [
    "file=open('experiment2_prior_kappa.pickle', 'rb')\n",
    "exp2p=pickle.load(file)"
   ]
  },
  {
   "cell_type": "code",
   "execution_count": 9,
   "id": "716df55c",
   "metadata": {},
   "outputs": [],
   "source": [
    "cps = np.array([[y.post_k_mode for y in x] for x in exp2p])"
   ]
  },
  {
   "cell_type": "code",
   "execution_count": 10,
   "id": "3f30f1c1",
   "metadata": {},
   "outputs": [
    {
     "data": {
      "text/plain": [
       "array([0.583, 0.432, 0.516, 0.345])"
      ]
     },
     "execution_count": 10,
     "metadata": {},
     "output_type": "execute_result"
    }
   ],
   "source": [
    "np.mean(cps==40, axis=0)"
   ]
  },
  {
   "cell_type": "code",
   "execution_count": 13,
   "id": "00470a2e",
   "metadata": {},
   "outputs": [
    {
     "data": {
      "text/plain": [
       "array([0.01559202, 0.01566448, 0.01580329, 0.01503246])"
      ]
     },
     "execution_count": 13,
     "metadata": {},
     "output_type": "execute_result"
    }
   ],
   "source": [
    "np.std(cps==40, axis=0)/np.sqrt(1000)"
   ]
  },
  {
   "cell_type": "code",
   "execution_count": 18,
   "id": "b7770cae",
   "metadata": {},
   "outputs": [],
   "source": [
    "def rmse(x):\n",
    "    return np.sqrt(np.mean(x**2))\n",
    "\n",
    "cp_bclr_mses_tda = np.array([[rmse(obj.post_k-40) for obj in bclr] for bclr in exp2p])"
   ]
  },
  {
   "cell_type": "code",
   "execution_count": 20,
   "id": "900361a6",
   "metadata": {},
   "outputs": [
    {
     "data": {
      "text/plain": [
       "array([1.5372672 , 2.31053996, 2.49047528, 4.43609082])"
      ]
     },
     "execution_count": 20,
     "metadata": {},
     "output_type": "execute_result"
    }
   ],
   "source": [
    "np.mean(cp_bclr_mses_tda, axis=0)"
   ]
  },
  {
   "cell_type": "code",
   "execution_count": 21,
   "id": "427675ea",
   "metadata": {},
   "outputs": [
    {
     "data": {
      "text/plain": [
       "array([1.03182438, 1.99950201, 2.29919666, 4.48333521])"
      ]
     },
     "execution_count": 21,
     "metadata": {},
     "output_type": "execute_result"
    }
   ],
   "source": [
    "np.std(cp_bclr_mses_tda, axis=0)"
   ]
  },
  {
   "cell_type": "code",
   "execution_count": 22,
   "id": "bd30e8ec",
   "metadata": {},
   "outputs": [],
   "source": [
    "prior_cov = np.load(\"post_betas_cov40_INIT_R.npy\")"
   ]
  },
  {
   "cell_type": "code",
   "execution_count": 24,
   "id": "789d07ea",
   "metadata": {},
   "outputs": [
    {
     "data": {
      "text/plain": [
       "array([0.60485283, 0.43756159, 0.30708787, 0.3043667 , 0.40049141,\n",
       "       0.58778838, 0.56651868, 0.53356668, 0.45342077, 0.60017471,\n",
       "       0.75023842, 0.82176453, 0.67868115, 0.64708949, 0.39654143,\n",
       "       0.66033234, 0.43661679, 0.67417026, 0.62725161, 0.43042082,\n",
       "       0.44957097, 0.41839994, 0.55250568, 0.62693416, 0.65184437,\n",
       "       0.6253145 , 0.48893785, 0.49835215, 0.77881456, 0.80372662,\n",
       "       0.67379576, 0.61654588, 0.4956093 , 0.63801852, 0.34217167,\n",
       "       0.69457592])"
      ]
     },
     "execution_count": 24,
     "metadata": {},
     "output_type": "execute_result"
    }
   ],
   "source": [
    "np.diag(prior_cov)"
   ]
  }
 ],
 "metadata": {
  "kernelspec": {
   "display_name": "Python 3 (ipykernel)",
   "language": "python",
   "name": "python3"
  },
  "language_info": {
   "codemirror_mode": {
    "name": "ipython",
    "version": 3
   },
   "file_extension": ".py",
   "mimetype": "text/x-python",
   "name": "python",
   "nbconvert_exporter": "python",
   "pygments_lexer": "ipython3",
   "version": "3.8.4"
  }
 },
 "nbformat": 4,
 "nbformat_minor": 5
}
