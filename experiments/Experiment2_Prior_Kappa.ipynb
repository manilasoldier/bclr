{
 "cells": [
  {
   "cell_type": "code",
   "execution_count": null,
   "id": "d28683d3",
   "metadata": {},
   "outputs": [],
   "source": [
    "import pickle\n",
    "import pandas as pd\n",
    "import numpy as np\n",
    "#import detectda as dtda\n",
    "import matplotlib.pyplot as plt\n",
    "from skimage import filters\n",
    "from sklearn.preprocessing import StandardScaler\n",
    "from sklearn.decomposition import PCA\n",
    "import sys\n",
    "from joblib import Parallel, delayed\n",
    "from scipy.stats import mode\n",
    "sys.path.append('..')"
   ]
  },
  {
   "cell_type": "code",
   "execution_count": null,
   "id": "79bfcca0",
   "metadata": {},
   "outputs": [],
   "source": [
    "import bclr\n",
    "import bclr.bclr_one"
   ]
  },
  {
   "cell_type": "code",
   "execution_count": null,
   "id": "75c27f33",
   "metadata": {},
   "outputs": [],
   "source": [
    "file=open('experiment2_prior_kappa.pickle', 'rb')\n",
    "exp2p=pickle.load(file)"
   ]
  },
  {
   "cell_type": "code",
   "execution_count": null,
   "id": "0bc7455d",
   "metadata": {},
   "outputs": [],
   "source": [
    "cps = np.array([[y.post_k_mode for y in x] for x in exp2p])\n",
    "cps_mean = np.array([[np.mean(y.post_k) for y in x] for x in exp2p])"
   ]
  },
  {
   "cell_type": "code",
   "execution_count": null,
   "id": "ab9440ff",
   "metadata": {
    "scrolled": true
   },
   "outputs": [],
   "source": [
    "np.mean(cps==40, axis=0)"
   ]
  },
  {
   "cell_type": "code",
   "execution_count": null,
   "id": "e1b2a202",
   "metadata": {},
   "outputs": [],
   "source": [
    "np.std(cps==40, axis=0)/np.sqrt(1000)"
   ]
  },
  {
   "cell_type": "code",
   "execution_count": null,
   "id": "20f00d1e",
   "metadata": {},
   "outputs": [],
   "source": [
    "def rmse(x):\n",
    "    return np.sqrt(np.mean(x**2))\n",
    "\n",
    "cp_bclr_mses_tda = np.array([[rmse(obj.post_k-40) for obj in bclr] for bclr in exp2p])"
   ]
  },
  {
   "cell_type": "code",
   "execution_count": null,
   "id": "3dbfd734",
   "metadata": {},
   "outputs": [],
   "source": [
    "[rmse(cps[:,i]-40) for i in range(4)]"
   ]
  },
  {
   "cell_type": "code",
   "execution_count": null,
   "id": "87452f5e",
   "metadata": {},
   "outputs": [],
   "source": [
    "[rmse(cps_mean[:,i]-40) for i in range(4)]"
   ]
  },
  {
   "cell_type": "code",
   "execution_count": null,
   "id": "7c163058",
   "metadata": {},
   "outputs": [],
   "source": [
    "np.mean(cp_bclr_mses_tda, axis=0)"
   ]
  },
  {
   "cell_type": "code",
   "execution_count": null,
   "id": "5f2b2a75",
   "metadata": {},
   "outputs": [],
   "source": [
    "np.std(cp_bclr_mses_tda, axis=0)"
   ]
  },
  {
   "cell_type": "code",
   "execution_count": null,
   "id": "1e9c814e",
   "metadata": {},
   "outputs": [],
   "source": [
    "prior_cov = np.load(\"post_betas_cov40_INIT_R.npy\")"
   ]
  },
  {
   "cell_type": "code",
   "execution_count": null,
   "id": "ebcb8867",
   "metadata": {},
   "outputs": [],
   "source": [
    "np.diag(prior_cov)"
   ]
  }
 ],
 "metadata": {
  "kernelspec": {
   "display_name": "Python 3 (ipykernel)",
   "language": "python",
   "name": "python3"
  },
  "language_info": {
   "codemirror_mode": {
    "name": "ipython",
    "version": 3
   },
   "file_extension": ".py",
   "mimetype": "text/x-python",
   "name": "python",
   "nbconvert_exporter": "python",
   "pygments_lexer": "ipython3",
   "version": "3.12.0"
  }
 },
 "nbformat": 4,
 "nbformat_minor": 5
}
