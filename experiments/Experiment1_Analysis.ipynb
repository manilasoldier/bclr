{
 "cells": [
  {
   "cell_type": "code",
   "execution_count": 62,
   "id": "c4a1fffe",
   "metadata": {},
   "outputs": [],
   "source": [
    "import pickle\n",
    "import pandas as pd\n",
    "import numpy as np\n",
    "import detectda as dtda\n",
    "import matplotlib.pyplot as plt\n",
    "from sklearn.preprocessing import StandardScaler\n",
    "from sklearn.decomposition import PCA\n",
    "import sys\n",
    "from joblib import Parallel, delayed\n",
    "from scipy.stats import mode\n",
    "import sys\n",
    "sys.path.append(\"..\")"
   ]
  },
  {
   "cell_type": "code",
   "execution_count": 63,
   "id": "053ec11c",
   "metadata": {},
   "outputs": [],
   "source": [
    "import bclr"
   ]
  },
  {
   "cell_type": "code",
   "execution_count": 64,
   "id": "9257557d",
   "metadata": {},
   "outputs": [],
   "source": [
    "file=open('experiment1_data.pickle', 'rb')\n",
    "exp1=pickle.load(file)"
   ]
  },
  {
   "cell_type": "code",
   "execution_count": 65,
   "id": "9be8474c",
   "metadata": {},
   "outputs": [],
   "source": [
    "plt.rcParams[\"font.family\"] = \"Nunito\""
   ]
  },
  {
   "cell_type": "code",
   "execution_count": 66,
   "id": "ef301992",
   "metadata": {},
   "outputs": [],
   "source": [
    "kcp_tda_all = exp1['kcp_tda']\n",
    "kcp_pca_all = exp1['kcp_pca']\n",
    "\n",
    "cf_tda_all = exp1['cf_tda']\n",
    "cf_pca_all = exp1['cf_pca']\n",
    "\n",
    "bclr_tda_all = exp1['bcc_tda']\n",
    "bclr_pca_all = exp1['bcc_pca']"
   ]
  },
  {
   "cell_type": "markdown",
   "id": "8ba7b057",
   "metadata": {},
   "source": [
    "### bclr changepoint detection"
   ]
  },
  {
   "cell_type": "raw",
   "id": "ada7c9a8",
   "metadata": {},
   "source": [
    "fig, ax = plt.subplots(3,3, sharex=True, sharey=True)\n",
    "np.random.seed(62677080)\n",
    "rands= np.sort(np.random.choice(np.arange(0, 1000), 9, replace=False))\n",
    "for i in range(3):\n",
    "    for j in range(3):\n",
    "        ind = rands[3*i+j]\n",
    "        if i % 3 == 0:\n",
    "            ax[i,j].plot(bclr_tda_all[ind].k_draws_, color='black', alpha=1, lw=0.5)\n",
    "            ax[i,j].set_title(\"Simulation \"+str(ind), fontsize=10)\n",
    "        elif i % 3 == 1:\n",
    "            ax[i,j].plot(bclr_tda_all[ind].k_draws_, color='blue', alpha=1, lw=0.5)\n",
    "            ax[i,j].set_title(\"Simulation \"+str(ind), fontsize=10)\n",
    "        elif i % 3 == 2:\n",
    "            ax[i,j].plot(bclr_tda_all[ind].k_draws_, color='orange', alpha=1, lw=0.5)\n",
    "            ax[i,j].set_title(\"Simulation \"+str(ind), fontsize=10)\n",
    "        \n",
    "#fig.suptitle(\"Traceplots from simulation with changepoint at 40\", fontsize=16)\n",
    "fig.tight_layout(pad=1.0)\n",
    "plt.savefig(\"Traceplots25.pdf\")"
   ]
  },
  {
   "cell_type": "raw",
   "id": "4c89ca3b",
   "metadata": {
    "scrolled": false
   },
   "source": [
    "for i in range(0, 1000, 5):\n",
    "    if i % 3 == 0:\n",
    "        plt.plot(bclr_tda_all[i].k_draws_, color='black', alpha=0.1)\n",
    "    elif i % 3 == 1:\n",
    "        plt.plot(bclr_tda_all[i].k_draws_, color='blue', alpha=0.05)\n",
    "    elif i % 3 == 2:\n",
    "        plt.plot(bclr_tda_all[i].k_draws_, color='orange', alpha=0.05)\n",
    "        \n",
    "plt.title(\"Traceplot\")"
   ]
  },
  {
   "cell_type": "code",
   "execution_count": 67,
   "id": "48528e0d",
   "metadata": {},
   "outputs": [],
   "source": [
    "cp_bclr_tda = [mode(bclr.k_draws_[2500:], keepdims=False).mode  for bclr in bclr_tda_all]\n",
    "cp_bclr_pca = [mode(bclr.k_draws_[2500:], keepdims=False).mode  for bclr in bclr_pca_all]"
   ]
  },
  {
   "cell_type": "code",
   "execution_count": 68,
   "id": "2582ef3e",
   "metadata": {},
   "outputs": [],
   "source": [
    "def rmse(x):\n",
    "    return np.sqrt(np.mean(x**2))\n",
    "\n",
    "cp_bclr_mses_tda = [rmse(bclr.post_k-25)  for bclr in bclr_tda_all]\n",
    "cp_bclr_mses_pca = [rmse(bclr.post_k-25)  for bclr in bclr_pca_all]"
   ]
  },
  {
   "cell_type": "code",
   "execution_count": 69,
   "id": "3c8754e0",
   "metadata": {},
   "outputs": [
    {
     "data": {
      "text/plain": [
       "4.275160815688692"
      ]
     },
     "execution_count": 69,
     "metadata": {},
     "output_type": "execute_result"
    }
   ],
   "source": [
    "rmse(np.array(cp_bclr_pca)-25)"
   ]
  },
  {
   "cell_type": "code",
   "execution_count": 70,
   "id": "dbdc083c",
   "metadata": {},
   "outputs": [],
   "source": [
    "cp_bclr_tda_mean = [np.mean(bclr.k_draws_[2500:]) for bclr in bclr_tda_all]\n",
    "cp_bclr_pca_mean = [np.mean(bclr.k_draws_[2500:]) for bclr in bclr_pca_all]"
   ]
  },
  {
   "cell_type": "code",
   "execution_count": 71,
   "id": "990fcf6c",
   "metadata": {},
   "outputs": [
    {
     "data": {
      "text/plain": [
       "3.901440176181098"
      ]
     },
     "execution_count": 71,
     "metadata": {},
     "output_type": "execute_result"
    }
   ],
   "source": [
    "rmse(np.array(cp_bclr_tda_mean)-25)\n",
    "rmse(np.array(cp_bclr_pca_mean)-25)"
   ]
  },
  {
   "cell_type": "code",
   "execution_count": 72,
   "id": "5b448ea7",
   "metadata": {},
   "outputs": [
    {
     "name": "stdout",
     "output_type": "stream",
     "text": [
      "Mean RMSE: 0.948\n",
      "SE RMSE: 0.783\n"
     ]
    }
   ],
   "source": [
    "print(\"Mean RMSE: %0.3f\" % np.mean(cp_bclr_mses_tda))\n",
    "print(\"SE RMSE: %0.3f\" % np.std(cp_bclr_mses_tda))"
   ]
  },
  {
   "cell_type": "code",
   "execution_count": 73,
   "id": "121f7330",
   "metadata": {
    "scrolled": true
   },
   "outputs": [
    {
     "name": "stdout",
     "output_type": "stream",
     "text": [
      "Mean RMSE: 3.849\n",
      "SE RMSE: 2.158\n"
     ]
    }
   ],
   "source": [
    "print(\"Mean RMSE: %0.3f\" % np.mean(cp_bclr_mses_pca))\n",
    "print(\"SE RMSE: %0.3f\" % np.std(cp_bclr_mses_pca))"
   ]
  },
  {
   "cell_type": "code",
   "execution_count": 74,
   "id": "07563063",
   "metadata": {
    "scrolled": true
   },
   "outputs": [
    {
     "name": "stdout",
     "output_type": "stream",
     "text": [
      "RMSE for bclr, TDA features: 1.072\n",
      "RMSE for bclr, PCA features: 4.275\n",
      "Probability k=25 for bclr, TDA features: 0.697\n",
      "Probability k=25 for bclr, PCA features: 0.096\n",
      "Std Err: Probability k=25 for bclr, TDA features: 0.015\n",
      "Std Err: Probability k=25 for bclr, PCA features: 0.009\n"
     ]
    }
   ],
   "source": [
    "print(\"RMSE for bclr, TDA features: %0.3f\" % np.sqrt(np.mean((np.array(cp_bclr_tda)-25)**2)))\n",
    "print(\"RMSE for bclr, PCA features: %0.3f\" % np.sqrt(np.mean((np.array(cp_bclr_pca)-25)**2)))\n",
    "\n",
    "print(\"Probability k=25 for bclr, TDA features: %0.3f\" % np.mean(np.array(cp_bclr_tda)==25))\n",
    "print(\"Probability k=25 for bclr, PCA features: %0.3f\" % np.mean(np.array(cp_bclr_pca)==25))\n",
    "\n",
    "print(\"Std Err: Probability k=25 for bclr, TDA features: %0.3f\" % (np.std(np.array(cp_bclr_tda)==25)/np.sqrt(1000)))\n",
    "print(\"Std Err: Probability k=25 for bclr, PCA features: %0.3f\" % (np.std(np.array(cp_bclr_pca)==25)/np.sqrt(1000)))"
   ]
  },
  {
   "cell_type": "code",
   "execution_count": 75,
   "id": "98ac7e7b-11e5-49b6-804d-7e79c98097e8",
   "metadata": {},
   "outputs": [],
   "source": [
    "def hpm(arr, alpha=0.05):\n",
    "    probs = pd.DataFrame(arr).value_counts(normalize=True)\n",
    "    ind = np.where(probs.cumsum() > 1-alpha)[0][0]\n",
    "    high_mass = np.array([i[0] for i in probs.index[:(ind+1)]])\n",
    "    return high_mass"
   ]
  },
  {
   "cell_type": "code",
   "execution_count": 100,
   "id": "18b6bc08-3077-4f96-bf8a-c7368bab2138",
   "metadata": {},
   "outputs": [
    {
     "data": {
      "text/plain": [
       "array([25])"
      ]
     },
     "execution_count": 100,
     "metadata": {},
     "output_type": "execute_result"
    }
   ],
   "source": [
    "arr = np.array([25, 25, 25, 25, 25, 26, 26, 26, 26, 26])\n",
    "hpm(arr, 0.51)"
   ]
  },
  {
   "cell_type": "raw",
   "id": "c03304fa-a8fd-4941-9d23-1249e86b9016",
   "metadata": {},
   "source": [
    "arr = bclr_tda_all[0].k_draws_[2500:]\n",
    "probs = pd.DataFrame(arr).value_counts(normalize=True)\n",
    "ind = np.where(probs.cumsum() > 0.95)[0][0]\n",
    "\n",
    "high_mass = np.array([i[0] for i in probs.index[:(ind+1)]])\n",
    "print(hpm(bclr_tda_all[0].k_draws_[2500:], al))"
   ]
  },
  {
   "cell_type": "code",
   "execution_count": 82,
   "id": "def0a622",
   "metadata": {},
   "outputs": [
    {
     "name": "stdout",
     "output_type": "stream",
     "text": [
      "[25.]\n",
      "0.5 0.749 tda hpm\n",
      "0.5 0.168 pca hpm\n",
      "[25. 26.]\n",
      "0.8 0.887 tda hpm\n",
      "0.8 0.32 pca hpm\n",
      "[25. 26. 27.]\n",
      "0.9 0.939 tda hpm\n",
      "0.9 0.432 pca hpm\n",
      "[25. 26. 27.]\n",
      "0.95 0.962 tda hpm\n",
      "0.95 0.511 pca hpm\n",
      "[25. 26. 27.]\n",
      "0.99 0.991 tda hpm\n",
      "0.99 0.659 pca hpm\n"
     ]
    }
   ],
   "source": [
    "for al in [0.5, 0.2, 0.1, 0.05, 0.01]:    \n",
    "    m2_bclr_tda = [bool(np.isin(25, hpm(bclr_obj.k_draws_[2500:], al))) for bclr_obj in bclr_tda_all] \n",
    "    m2_bclr_pca = [bool(np.isin(25, hpm(bclr_obj.k_draws_[2500:], al))) for bclr_obj in bclr_pca_all]\n",
    "                  \n",
    "    print(1-al, np.mean(m2_bclr_tda), \"tda hpm\")\n",
    "    print(1-al, np.mean(m2_bclr_pca), \"pca hpm\")"
   ]
  },
  {
   "cell_type": "code",
   "execution_count": 25,
   "id": "9f68189f",
   "metadata": {},
   "outputs": [
    {
     "name": "stdout",
     "output_type": "stream",
     "text": [
      "0.5 0.852 tda\n",
      "0.5 0.312 pca\n",
      "0.8 0.933 tda\n",
      "0.8 0.509 pca\n",
      "0.9 0.964 tda\n",
      "0.9 0.594 pca\n",
      "0.95 0.972 tda\n",
      "0.95 0.645 pca\n",
      "0.99 0.994 tda\n",
      "0.99 0.721 pca\n"
     ]
    }
   ],
   "source": [
    "for al in [0.25, 0.1, 0.05, 0.025, 0.005]:    \n",
    "    m1_bclr_tda = [(np.quantile(bclr.k_draws_[2500:], al), np.quantile(bclr.k_draws_[2500:], 1-al)) for bclr in bclr_tda_all] \n",
    "    m1_bclr_pca = [(np.quantile(bclr.k_draws_[2500:], al), np.quantile(bclr.k_draws_[2500:], 1-al)) for bclr in bclr_pca_all]\n",
    "\n",
    "    print(1-al*2, np.mean([x[1] >= 25 and x[0] <= 25 for x in m1_bclr_tda]), \"tda\")\n",
    "    print(1-al*2, np.mean([x[1] >= 25 and x[0] <= 25 for x in m1_bclr_pca]), \"pca\")"
   ]
  },
  {
   "cell_type": "code",
   "execution_count": 26,
   "id": "8b52f0e4",
   "metadata": {},
   "outputs": [
    {
     "data": {
      "text/plain": [
       "0.994"
      ]
     },
     "execution_count": 26,
     "metadata": {},
     "output_type": "execute_result"
    }
   ],
   "source": [
    "np.mean([x[1] >= 25 and x[0] <= 25 for x in m1_bclr_tda])"
   ]
  },
  {
   "cell_type": "code",
   "execution_count": 27,
   "id": "b3a4a1c4",
   "metadata": {},
   "outputs": [
    {
     "data": {
      "text/plain": [
       "0.721"
      ]
     },
     "execution_count": 27,
     "metadata": {},
     "output_type": "execute_result"
    }
   ],
   "source": [
    "np.mean([x[1] >= 25 and x[0] <= 25 for x in m1_bclr_pca])"
   ]
  },
  {
   "cell_type": "markdown",
   "id": "d5acd0fb",
   "metadata": {},
   "source": [
    "Let's look at the beta coefficients"
   ]
  },
  {
   "cell_type": "code",
   "execution_count": 28,
   "id": "93447d7f",
   "metadata": {},
   "outputs": [],
   "source": [
    "cp_bclr_tda_beta = np.array([bclr.beta_draws_[2500:] for bclr in bclr_tda_all])"
   ]
  },
  {
   "cell_type": "code",
   "execution_count": 29,
   "id": "c1f18531",
   "metadata": {},
   "outputs": [],
   "source": [
    "names = ['mean_0_mid', 'variance_0_mid', 'skewness_0_mid', 'kurtosis_0_mid', 'median_0_mid', 'iqr_0_mid', 'q25_0_mid', 'q75_0_mid', 'pers_entr_0_life', 'alps_0_life', 'mean_0_life', 'variance_0_life','skewness_0_life', 'kurtosis_0_life', 'median_0_life', 'iqr_0_life', 'q25_0_life', 'q75_0_life', 'mean_1_mid', 'variance_1_mid', 'skewness_1_mid', 'kurtosis_1_mid', 'median_1_mid', 'iqr_1_mid','q25_1_mid', 'q75_1_mid', 'pers_entr_1_life', 'alps_1_life','mean_1_life', 'variance_1_life', 'skewness_1_life', 'kurtosis_1_life','median_1_life', 'iqr_1_life', 'q25_1_life', 'q75_1_life']\n",
    "beta_cors = np.array([np.corrcoef(bcbeta, rowvar=False) for bcbeta in cp_bclr_tda_beta])\n",
    "bcors = np.mean(beta_cors, axis=0)"
   ]
  },
  {
   "cell_type": "code",
   "execution_count": 30,
   "id": "cc5acea8",
   "metadata": {},
   "outputs": [],
   "source": [
    "nam1 = []\n",
    "nam2 = []\n",
    "cors = []\n",
    "for i in range(35):\n",
    "    for j in range(i+1, 36):\n",
    "        nam1.append(names[i])\n",
    "        nam2.append(names[j])\n",
    "        cors.append(bcors[i,j])"
   ]
  },
  {
   "cell_type": "code",
   "execution_count": 31,
   "id": "1e517ab1",
   "metadata": {},
   "outputs": [
    {
     "data": {
      "text/html": [
       "<div>\n",
       "<style scoped>\n",
       "    .dataframe tbody tr th:only-of-type {\n",
       "        vertical-align: middle;\n",
       "    }\n",
       "\n",
       "    .dataframe tbody tr th {\n",
       "        vertical-align: top;\n",
       "    }\n",
       "\n",
       "    .dataframe thead th {\n",
       "        text-align: right;\n",
       "    }\n",
       "</style>\n",
       "<table border=\"1\" class=\"dataframe\">\n",
       "  <thead>\n",
       "    <tr style=\"text-align: right;\">\n",
       "      <th></th>\n",
       "      <th>Var1</th>\n",
       "      <th>Var2</th>\n",
       "      <th>Corr</th>\n",
       "    </tr>\n",
       "  </thead>\n",
       "  <tbody>\n",
       "    <tr>\n",
       "      <th>615</th>\n",
       "      <td>skewness_1_life</td>\n",
       "      <td>kurtosis_1_life</td>\n",
       "      <td>-0.433883</td>\n",
       "    </tr>\n",
       "    <tr>\n",
       "      <th>421</th>\n",
       "      <td>iqr_0_life</td>\n",
       "      <td>q75_0_life</td>\n",
       "      <td>-0.429776</td>\n",
       "    </tr>\n",
       "    <tr>\n",
       "      <th>628</th>\n",
       "      <td>iqr_1_life</td>\n",
       "      <td>q75_1_life</td>\n",
       "      <td>-0.367770</td>\n",
       "    </tr>\n",
       "    <tr>\n",
       "      <th>354</th>\n",
       "      <td>skewness_0_life</td>\n",
       "      <td>kurtosis_0_life</td>\n",
       "      <td>-0.358401</td>\n",
       "    </tr>\n",
       "    <tr>\n",
       "      <th>166</th>\n",
       "      <td>iqr_0_mid</td>\n",
       "      <td>q75_0_mid</td>\n",
       "      <td>-0.336076</td>\n",
       "    </tr>\n",
       "    <tr>\n",
       "      <th>595</th>\n",
       "      <td>alps_1_life</td>\n",
       "      <td>variance_1_life</td>\n",
       "      <td>-0.325158</td>\n",
       "    </tr>\n",
       "    <tr>\n",
       "      <th>165</th>\n",
       "      <td>iqr_0_mid</td>\n",
       "      <td>q25_0_mid</td>\n",
       "      <td>0.305397</td>\n",
       "    </tr>\n",
       "    <tr>\n",
       "      <th>552</th>\n",
       "      <td>iqr_1_mid</td>\n",
       "      <td>q25_1_mid</td>\n",
       "      <td>0.303774</td>\n",
       "    </tr>\n",
       "    <tr>\n",
       "      <th>553</th>\n",
       "      <td>iqr_1_mid</td>\n",
       "      <td>q75_1_mid</td>\n",
       "      <td>-0.281507</td>\n",
       "    </tr>\n",
       "    <tr>\n",
       "      <th>587</th>\n",
       "      <td>pers_entr_1_life</td>\n",
       "      <td>variance_1_life</td>\n",
       "      <td>0.259092</td>\n",
       "    </tr>\n",
       "    <tr>\n",
       "      <th>480</th>\n",
       "      <td>mean_1_mid</td>\n",
       "      <td>median_1_mid</td>\n",
       "      <td>-0.257270</td>\n",
       "    </tr>\n",
       "    <tr>\n",
       "      <th>483</th>\n",
       "      <td>mean_1_mid</td>\n",
       "      <td>q75_1_mid</td>\n",
       "      <td>-0.245885</td>\n",
       "    </tr>\n",
       "    <tr>\n",
       "      <th>497</th>\n",
       "      <td>variance_1_mid</td>\n",
       "      <td>iqr_1_mid</td>\n",
       "      <td>-0.242792</td>\n",
       "    </tr>\n",
       "    <tr>\n",
       "      <th>482</th>\n",
       "      <td>mean_1_mid</td>\n",
       "      <td>q25_1_mid</td>\n",
       "      <td>-0.240179</td>\n",
       "    </tr>\n",
       "    <tr>\n",
       "      <th>5</th>\n",
       "      <td>mean_0_mid</td>\n",
       "      <td>q25_0_mid</td>\n",
       "      <td>-0.230568</td>\n",
       "    </tr>\n",
       "    <tr>\n",
       "      <th>6</th>\n",
       "      <td>mean_0_mid</td>\n",
       "      <td>q75_0_mid</td>\n",
       "      <td>-0.229381</td>\n",
       "    </tr>\n",
       "    <tr>\n",
       "      <th>3</th>\n",
       "      <td>mean_0_mid</td>\n",
       "      <td>median_0_mid</td>\n",
       "      <td>-0.226794</td>\n",
       "    </tr>\n",
       "    <tr>\n",
       "      <th>605</th>\n",
       "      <td>mean_1_life</td>\n",
       "      <td>median_1_life</td>\n",
       "      <td>-0.224885</td>\n",
       "    </tr>\n",
       "    <tr>\n",
       "      <th>279</th>\n",
       "      <td>alps_0_life</td>\n",
       "      <td>mean_0_life</td>\n",
       "      <td>-0.217940</td>\n",
       "    </tr>\n",
       "    <tr>\n",
       "      <th>625</th>\n",
       "      <td>median_1_life</td>\n",
       "      <td>q25_1_life</td>\n",
       "      <td>-0.217533</td>\n",
       "    </tr>\n",
       "  </tbody>\n",
       "</table>\n",
       "</div>"
      ],
      "text/plain": [
       "                 Var1             Var2      Corr\n",
       "615   skewness_1_life  kurtosis_1_life -0.433883\n",
       "421        iqr_0_life       q75_0_life -0.429776\n",
       "628        iqr_1_life       q75_1_life -0.367770\n",
       "354   skewness_0_life  kurtosis_0_life -0.358401\n",
       "166         iqr_0_mid        q75_0_mid -0.336076\n",
       "595       alps_1_life  variance_1_life -0.325158\n",
       "165         iqr_0_mid        q25_0_mid  0.305397\n",
       "552         iqr_1_mid        q25_1_mid  0.303774\n",
       "553         iqr_1_mid        q75_1_mid -0.281507\n",
       "587  pers_entr_1_life  variance_1_life  0.259092\n",
       "480        mean_1_mid     median_1_mid -0.257270\n",
       "483        mean_1_mid        q75_1_mid -0.245885\n",
       "497    variance_1_mid        iqr_1_mid -0.242792\n",
       "482        mean_1_mid        q25_1_mid -0.240179\n",
       "5          mean_0_mid        q25_0_mid -0.230568\n",
       "6          mean_0_mid        q75_0_mid -0.229381\n",
       "3          mean_0_mid     median_0_mid -0.226794\n",
       "605       mean_1_life    median_1_life -0.224885\n",
       "279       alps_0_life      mean_0_life -0.217940\n",
       "625     median_1_life       q25_1_life -0.217533"
      ]
     },
     "execution_count": 31,
     "metadata": {},
     "output_type": "execute_result"
    }
   ],
   "source": [
    "cor_df = pd.DataFrame({'Var1': nam1, 'Var2': nam2, 'Corr': cors})\n",
    "cor_df.reindex(cor_df['Corr'].abs().sort_values(ascending=False).index)[:20]"
   ]
  },
  {
   "cell_type": "code",
   "execution_count": 32,
   "id": "9bf10337",
   "metadata": {},
   "outputs": [],
   "source": [
    "beta_snr = np.array([np.mean(bcbeta, axis=0)**2/np.var(bcbeta, axis=0) for bcbeta in cp_bclr_tda_beta])"
   ]
  },
  {
   "cell_type": "code",
   "execution_count": 33,
   "id": "ab60684a",
   "metadata": {},
   "outputs": [],
   "source": [
    "abc = pd.Series(np.array(names)[np.argmax(beta_snr, axis=1)]).value_counts(normalize=True)\n",
    "prop_largest = abc.reindex(names).fillna(0)\n",
    "df_prop = pd.DataFrame({'names': names, 'mean_snr': np.mean(beta_snr, axis=0), 'sd_snr': np.std(beta_snr, axis=0),\n",
    "              'prop_highest': prop_largest}).sort_values(\"prop_highest\", ascending=False)"
   ]
  },
  {
   "cell_type": "code",
   "execution_count": 34,
   "id": "cfac927d",
   "metadata": {},
   "outputs": [],
   "source": [
    "nam_5 = list(df_prop.head(5).index)\n",
    "nam_list = np.array(names)"
   ]
  },
  {
   "cell_type": "code",
   "execution_count": 35,
   "id": "939c817d",
   "metadata": {
    "scrolled": true
   },
   "outputs": [],
   "source": [
    "cor_index = [np.where(nam_list == nam)[0][0] for nam in nam_5]"
   ]
  },
  {
   "cell_type": "code",
   "execution_count": 36,
   "id": "daaf563c",
   "metadata": {},
   "outputs": [
    {
     "name": "stdout",
     "output_type": "stream",
     "text": [
      "pers_entr_0_life \t\t skewness_0_life \t\t 0.079\n",
      "pers_entr_0_life \t\t kurtosis_0_life \t\t 0.043\n",
      "pers_entr_0_life \t\t alps_0_life \t\t -0.007\n",
      "pers_entr_0_life \t\t variance_0_life \t\t 0.2\n",
      "skewness_0_life \t\t kurtosis_0_life \t\t -0.358\n",
      "alps_0_life \t\t skewness_0_life \t\t 0.12\n",
      "alps_0_life \t\t kurtosis_0_life \t\t 0.149\n",
      "alps_0_life \t\t variance_0_life \t\t -0.112\n",
      "variance_0_life \t\t skewness_0_life \t\t -0.128\n",
      "variance_0_life \t\t kurtosis_0_life \t\t -0.119\n"
     ]
    }
   ],
   "source": [
    "for i in cor_index:\n",
    "    for j in cor_index:\n",
    "        if i<j:\n",
    "            print(nam_list[i], \"\\t\\t\", nam_list[j], \"\\t\\t\", np.round(bcors[i,j],3))"
   ]
  },
  {
   "cell_type": "markdown",
   "id": "f8738668",
   "metadata": {},
   "source": [
    "### Changeforest changepoint detection"
   ]
  },
  {
   "cell_type": "code",
   "execution_count": 38,
   "id": "66734902",
   "metadata": {},
   "outputs": [
    {
     "name": "stdout",
     "output_type": "stream",
     "text": [
      "RMSE for CF, TDA features: 1.021\n",
      "RMSE for CF, PCA features: 16.998\n"
     ]
    }
   ],
   "source": [
    "cp_cf_tda = [a['best_split'] for a in cf_tda_all]\n",
    "cp_cf_pca = [a['best_split'] for a in cf_pca_all]\n",
    "\n",
    "print(\"RMSE for CF, TDA features: %0.3f\" % np.sqrt(np.mean((np.array(cp_cf_tda)-25)**2)))\n",
    "print(\"RMSE for CF, PCA features: %0.3f\" % np.sqrt(np.mean((np.array(cp_cf_pca)-25)**2)))"
   ]
  },
  {
   "cell_type": "code",
   "execution_count": 41,
   "id": "1d8556dd",
   "metadata": {
    "scrolled": true
   },
   "outputs": [
    {
     "name": "stdout",
     "output_type": "stream",
     "text": [
      "Probability k=25 for CF, TDA features: 0.714\n",
      "Probability k=25 for CF, PCA features: 0.020\n",
      "Std Err: Probability k=25 for CF, TDA features: 0.014\n",
      "Std Err: Probability k=25 for CF, PCA features: 0.004\n"
     ]
    }
   ],
   "source": [
    "print(\"Probability k=25 for CF, TDA features: %0.3f\" % np.mean(np.array(cp_cf_tda)==25))\n",
    "print(\"Probability k=25 for CF, PCA features: %0.3f\" % np.mean(np.array(cp_cf_pca)==25))\n",
    "\n",
    "print(\"Std Err: Probability k=25 for CF, TDA features: %0.3f\" % (np.std(np.array(cp_cf_tda)==25)/np.sqrt(1000)))\n",
    "print(\"Std Err: Probability k=25 for CF, PCA features: %0.3f\" % (np.std(np.array(cp_cf_pca)==25)/np.sqrt(1000)))"
   ]
  },
  {
   "cell_type": "markdown",
   "id": "07dd0e0d",
   "metadata": {},
   "source": [
    "Kernel Changepoint detection using <code>ruptures</code> package"
   ]
  },
  {
   "cell_type": "code",
   "execution_count": 42,
   "id": "5178c2ff",
   "metadata": {},
   "outputs": [],
   "source": [
    "cp_kcp_tda = [a['changepoint'][0] for a in kcp_tda_all]\n",
    "cp_kcp_pca = [a['changepoint'][0] for a in kcp_pca_all]"
   ]
  },
  {
   "cell_type": "markdown",
   "id": "fa6b48e6",
   "metadata": {},
   "source": [
    "Changepoint distribution for Kernel Changepoint detection and dynamic programming using TDA features"
   ]
  },
  {
   "cell_type": "code",
   "execution_count": 44,
   "id": "b313031b",
   "metadata": {
    "scrolled": true
   },
   "outputs": [
    {
     "name": "stdout",
     "output_type": "stream",
     "text": [
      "RMSE for KCP, TDA features: 1.382\n",
      "RMSE for KCP, PCA features: 15.365\n"
     ]
    }
   ],
   "source": [
    "print(\"RMSE for KCP, TDA features: %0.3f\" % np.sqrt(np.mean((np.array(cp_kcp_tda)-25)**2)))\n",
    "print(\"RMSE for KCP, PCA features: %0.3f\" % np.sqrt(np.mean((np.array(cp_kcp_pca)-25)**2)))"
   ]
  },
  {
   "cell_type": "code",
   "execution_count": 49,
   "id": "c0b58a14",
   "metadata": {
    "scrolled": true
   },
   "outputs": [
    {
     "name": "stdout",
     "output_type": "stream",
     "text": [
      "Probability k=25 for KCP, TDA features: 0.673\n",
      "Probability k=25 for KCP, PCA features: 0.009\n",
      "Std Err: Probability k=25 for KCP, TDA features: 0.015\n",
      "Std Err: Probability k=25 for KCP, PCA features: 0.003\n"
     ]
    }
   ],
   "source": [
    "print(\"Probability k=25 for KCP, TDA features: %0.3f\" % np.mean(np.array(cp_kcp_tda)==25))\n",
    "print(\"Probability k=25 for KCP, PCA features: %0.3f\" % np.mean(np.array(cp_kcp_pca)==25))\n",
    "\n",
    "print(\"Std Err: Probability k=25 for KCP, TDA features: %0.3f\" % (np.std(np.array(cp_kcp_tda)==25)/np.sqrt(1000)))\n",
    "print(\"Std Err: Probability k=25 for KCP, PCA features: %0.3f\" % (np.std(np.array(cp_kcp_pca)==25)/np.sqrt(1000)))"
   ]
  },
  {
   "cell_type": "code",
   "execution_count": 30,
   "id": "54f6660f",
   "metadata": {},
   "outputs": [
    {
     "data": {
      "text/plain": [
       "20    0.001\n",
       "21    0.001\n",
       "22    0.010\n",
       "23    0.013\n",
       "24    0.055\n",
       "25    0.673\n",
       "26    0.145\n",
       "27    0.058\n",
       "28    0.018\n",
       "29    0.007\n",
       "30    0.005\n",
       "31    0.005\n",
       "32    0.001\n",
       "33    0.005\n",
       "34    0.001\n",
       "36    0.001\n",
       "37    0.001\n",
       "dtype: float64"
      ]
     },
     "execution_count": 30,
     "metadata": {},
     "output_type": "execute_result"
    }
   ],
   "source": [
    "pd.Series(cp_kcp_tda).value_counts(normalize=True).sort_index()"
   ]
  },
  {
   "cell_type": "markdown",
   "id": "c4ce365e",
   "metadata": {},
   "source": [
    "Changepoint distribution for Kernel Changepoint detection and dynamic programming using PCA features"
   ]
  },
  {
   "cell_type": "code",
   "execution_count": 31,
   "id": "e9768e7f",
   "metadata": {
    "scrolled": true
   },
   "outputs": [
    {
     "data": {
      "text/plain": [
       "2     0.037\n",
       "3     0.038\n",
       "4     0.037\n",
       "5     0.032\n",
       "6     0.022\n",
       "7     0.024\n",
       "8     0.019\n",
       "9     0.021\n",
       "10    0.020\n",
       "11    0.021\n",
       "12    0.019\n",
       "13    0.022\n",
       "14    0.019\n",
       "15    0.015\n",
       "16    0.011\n",
       "17    0.013\n",
       "18    0.019\n",
       "19    0.014\n",
       "20    0.017\n",
       "21    0.013\n",
       "22    0.013\n",
       "23    0.019\n",
       "24    0.013\n",
       "25    0.009\n",
       "26    0.016\n",
       "27    0.020\n",
       "28    0.017\n",
       "29    0.016\n",
       "30    0.014\n",
       "31    0.021\n",
       "32    0.015\n",
       "33    0.017\n",
       "34    0.024\n",
       "35    0.023\n",
       "36    0.019\n",
       "37    0.027\n",
       "38    0.016\n",
       "39    0.021\n",
       "40    0.024\n",
       "41    0.015\n",
       "42    0.019\n",
       "43    0.015\n",
       "44    0.026\n",
       "45    0.025\n",
       "46    0.037\n",
       "47    0.041\n",
       "48    0.045\n",
       "dtype: float64"
      ]
     },
     "execution_count": 31,
     "metadata": {},
     "output_type": "execute_result"
    }
   ],
   "source": [
    "pd.Series(cp_kcp_pca).value_counts(normalize=True).sort_index()"
   ]
  },
  {
   "cell_type": "markdown",
   "id": "6c9cbc35",
   "metadata": {},
   "source": [
    "Import experiment 1 data"
   ]
  },
  {
   "cell_type": "code",
   "execution_count": 3,
   "id": "ad52c4d3",
   "metadata": {},
   "outputs": [],
   "source": [
    "ims = np.load(\"Experiment1_Minus2_Images1000.npy\")"
   ]
  },
  {
   "cell_type": "code",
   "execution_count": 4,
   "id": "89cd7571",
   "metadata": {},
   "outputs": [],
   "source": [
    "noise_data = np.reshape(ims, (50, -1))"
   ]
  },
  {
   "cell_type": "code",
   "execution_count": 9,
   "id": "fe7053de",
   "metadata": {},
   "outputs": [],
   "source": [
    "noisePCA = PCA(n_components=36).fit_transform(noise_data)"
   ]
  },
  {
   "cell_type": "raw",
   "id": "c497300f",
   "metadata": {},
   "source": [
    "import time\n",
    "\n",
    "t1 = time.time()\n",
    "def get_stats(im):\n",
    "    noise_std = im\n",
    "    noise_dt = dtda.ImageSeriesPlus(noise_std)\n",
    "    noise_dt.fit(sigma=2)\n",
    "    pers_stats = noise_dt.get_pers_stats()\n",
    "    pers_stats_std0 = StandardScaler().fit_transform(pers_stats)\n",
    "    \n",
    "    noise_data = np.reshape(noise_std, (50, -1))\n",
    "    noisePCA = PCA(n_components=36).fit_transform(noise_data)\n",
    "    return [pers_stats_std0, noisePCA]\n",
    "\n",
    "my_dat = Parallel(n_jobs=2)(delayed(get_stats)(im) for im in ims)\n",
    "print(time.time()-t1)"
   ]
  },
  {
   "cell_type": "raw",
   "id": "ba7f8ef2",
   "metadata": {
    "scrolled": true
   },
   "source": [
    "file=open('pers_statsANDpca_exp1.pkl', 'wb')\n",
    "pickle.dump(my_dat, file)"
   ]
  },
  {
   "cell_type": "raw",
   "id": "1b2e5f68",
   "metadata": {},
   "source": [
    "a = my_dat[0][0]\n",
    "sim = np.repeat(1, 50)\n",
    "frame = np.arange(1, 51)\n",
    "for i in range(1,1000):\n",
    "    a = np.r_[a, my_dat[i][0]]\n",
    "    sim = np.concatenate([sim, np.repeat(i+1, 50)])\n",
    "    frame = np.concatenate([frame, np.arange(1,51)])"
   ]
  },
  {
   "cell_type": "raw",
   "id": "ce8a45ed",
   "metadata": {},
   "source": [
    "pers_stats_df = pd.DataFrame(np.c_[sim, frame, a])\n",
    "pers_stats_df.columns = [\"simulation\", \"frame\", *names]"
   ]
  },
  {
   "cell_type": "raw",
   "id": "8e5c3d99",
   "metadata": {},
   "source": [
    "pers_stats_df.to_csv(\"Persistence_Statistics_Simulation1000_Kappa25_Minus2.csv\")"
   ]
  },
  {
   "cell_type": "raw",
   "id": "ebb961b4",
   "metadata": {},
   "source": [
    "b = my_dat[0][1]\n",
    "sim = np.repeat(1, 50)\n",
    "frame = np.arange(1, 51)\n",
    "for i in range(1,1000):\n",
    "    b = np.r_[b, my_dat[i][1]]\n",
    "    sim = np.concatenate([sim, np.repeat(i+1, 50)])\n",
    "    frame = np.concatenate([frame, np.arange(1,51)])"
   ]
  },
  {
   "cell_type": "raw",
   "id": "19e5457e",
   "metadata": {},
   "source": [
    "pca_df = pd.DataFrame(np.c_[sim, frame, b])\n",
    "pca_df.columns = [\"simulation\", \"frame\", *names]"
   ]
  },
  {
   "cell_type": "raw",
   "id": "ac5f3a61",
   "metadata": {},
   "source": [
    "pca_df.to_csv(\"PCA_Simulation1000_Kappa25_Minus2.csv\")"
   ]
  }
 ],
 "metadata": {
  "kernelspec": {
   "display_name": "Python 3 (ipykernel)",
   "language": "python",
   "name": "python3"
  },
  "language_info": {
   "codemirror_mode": {
    "name": "ipython",
    "version": 3
   },
   "file_extension": ".py",
   "mimetype": "text/x-python",
   "name": "python",
   "nbconvert_exporter": "python",
   "pygments_lexer": "ipython3",
   "version": "3.12.0"
  }
 },
 "nbformat": 4,
 "nbformat_minor": 5
}
