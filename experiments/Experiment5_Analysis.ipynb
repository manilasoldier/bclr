{
 "cells": [
  {
   "cell_type": "code",
   "execution_count": 9,
   "id": "f294839a-3853-4d04-9b67-96eb3bd5c9da",
   "metadata": {},
   "outputs": [],
   "source": [
    "import pickle\n",
    "import pandas as pd\n",
    "import numpy as np"
   ]
  },
  {
   "cell_type": "code",
   "execution_count": 2,
   "id": "7762e83d-86ba-4623-8209-be26e1836739",
   "metadata": {},
   "outputs": [],
   "source": [
    "f = open('experiment5_bclr.pkl', 'rb')\n",
    "bclr_dict = pickle.load(f)"
   ]
  },
  {
   "cell_type": "code",
   "execution_count": 20,
   "id": "6db345c5-8e27-46d4-99a5-d5e568354a4f",
   "metadata": {
    "scrolled": true
   },
   "outputs": [
    {
     "data": {
      "text/plain": [
       "0    0.844300\n",
       "1    0.746861\n",
       "3    0.714678\n",
       "4    0.857407\n",
       "dtype: float64"
      ]
     },
     "execution_count": 20,
     "metadata": {},
     "output_type": "execute_result"
    }
   ],
   "source": [
    "df = pd.read_table(\"experiment5_multi_data.txt\", header=None, sep=',')\n",
    "df.mean(axis=0)[[0,1,3,4]]"
   ]
  },
  {
   "cell_type": "code",
   "execution_count": 19,
   "id": "941a5f47-23be-4aa8-bebf-0df89223aa2b",
   "metadata": {},
   "outputs": [
    {
     "data": {
      "text/plain": [
       "0    0.103382\n",
       "1    0.073055\n",
       "3    0.010280\n",
       "4    0.107950\n",
       "dtype: float64"
      ]
     },
     "execution_count": 19,
     "metadata": {},
     "output_type": "execute_result"
    }
   ],
   "source": [
    "df.std(axis=0)[[0,1,3,4]]"
   ]
  },
  {
   "cell_type": "code",
   "execution_count": 21,
   "id": "66cbb375-a68c-497f-86cf-71db0c22271c",
   "metadata": {},
   "outputs": [
    {
     "data": {
      "text/plain": [
       "5    0.682716\n",
       "6    0.517600\n",
       "8    0.463234\n",
       "9    0.693822\n",
       "dtype: float64"
      ]
     },
     "execution_count": 21,
     "metadata": {},
     "output_type": "execute_result"
    }
   ],
   "source": [
    "# adjusted Rand indices\n",
    "df.mean(axis=0)[[5,6,8,9]]"
   ]
  },
  {
   "cell_type": "code",
   "execution_count": 18,
   "id": "6f716a39-68aa-436f-a13a-6f83998c2e5b",
   "metadata": {},
   "outputs": [
    {
     "data": {
      "text/plain": [
       "0    443\n",
       "1    110\n",
       "3      2\n",
       "4    443\n",
       "dtype: int64"
      ]
     },
     "execution_count": 18,
     "metadata": {},
     "output_type": "execute_result"
    }
   ],
   "source": [
    "df.apply(lambda x: np.sum(x>0.9), axis=0)[[0,1,3,4]]"
   ]
  },
  {
   "cell_type": "markdown",
   "id": "1891b825-a6c7-4794-a794-4921587ab4d2",
   "metadata": {},
   "source": [
    "# bclr_dict"
   ]
  },
  {
   "cell_type": "code",
   "execution_count": 70,
   "id": "066489bc-5704-4f78-81f9-699ad12f3a12",
   "metadata": {},
   "outputs": [],
   "source": [
    "def close(x, y, bd=5):\n",
    "    return np.abs(x-y) <= bd\n",
    "    \n",
    "vs100 = np.array([np.sum(close(np.array([int(a) for a in bclr_dict['cps'][i]]), 100)) for i in range(1000)])\n",
    "vs175 = np.array([np.sum(close(np.array([int(a) for a in bclr_dict['cps'][i]]), 175)) for i in range(1000)])\n",
    "vs205 = np.array([np.sum(close(np.array([int(a) for a in bclr_dict['cps'][i]]), 205)) for i in range(1000)])"
   ]
  },
  {
   "cell_type": "code",
   "execution_count": 79,
   "id": "d8fe16e5-7121-4c0e-a134-3863de5057b3",
   "metadata": {},
   "outputs": [
    {
     "data": {
      "text/plain": [
       "array([ True, False,  True,  True, False,  True, False, False, False,\n",
       "       False,  True, False,  True,  True,  True, False,  True,  True,\n",
       "       False, False,  True, False,  True,  True, False, False,  True,\n",
       "       False,  True,  True,  True, False,  True, False,  True, False,\n",
       "        True,  True,  True,  True, False,  True,  True, False, False,\n",
       "        True, False, False,  True,  True, False, False, False, False,\n",
       "        True, False, False,  True, False,  True,  True, False, False,\n",
       "        True, False,  True,  True, False,  True,  True, False,  True,\n",
       "       False,  True,  True, False, False,  True,  True, False, False,\n",
       "       False,  True,  True,  True,  True,  True,  True, False,  True,\n",
       "        True, False, False,  True, False,  True,  True,  True, False,\n",
       "        True, False, False,  True, False,  True, False, False,  True,\n",
       "        True, False, False, False,  True,  True, False,  True,  True,\n",
       "        True,  True,  True,  True,  True, False, False,  True,  True,\n",
       "        True, False,  True, False,  True,  True,  True, False,  True,\n",
       "       False,  True, False, False, False, False,  True, False,  True,\n",
       "       False,  True,  True, False, False,  True, False,  True, False,\n",
       "        True, False, False,  True,  True, False,  True, False, False,\n",
       "        True,  True,  True, False,  True, False,  True,  True, False,\n",
       "       False,  True, False, False,  True, False, False, False, False,\n",
       "       False,  True, False,  True, False,  True, False,  True, False,\n",
       "       False,  True, False,  True,  True, False,  True,  True,  True,\n",
       "        True, False,  True, False,  True,  True, False, False,  True,\n",
       "        True,  True, False, False,  True, False,  True, False,  True,\n",
       "       False, False, False, False, False,  True,  True, False,  True,\n",
       "       False, False, False,  True, False, False, False, False,  True,\n",
       "        True, False,  True, False, False, False, False, False,  True,\n",
       "       False,  True, False,  True,  True,  True,  True,  True, False,\n",
       "       False,  True,  True, False, False,  True,  True,  True,  True,\n",
       "       False,  True,  True, False, False, False,  True,  True,  True,\n",
       "        True,  True, False, False, False, False,  True, False, False,\n",
       "        True,  True,  True, False, False,  True,  True, False, False,\n",
       "        True,  True, False, False, False,  True, False, False,  True,\n",
       "       False, False,  True,  True, False,  True,  True,  True, False,\n",
       "       False,  True,  True,  True, False, False, False,  True, False,\n",
       "        True,  True, False, False, False, False, False, False,  True,\n",
       "       False, False,  True, False, False, False,  True,  True,  True,\n",
       "       False,  True, False, False,  True, False,  True, False,  True,\n",
       "       False, False,  True, False,  True, False, False, False,  True,\n",
       "       False,  True,  True, False,  True,  True, False, False,  True,\n",
       "       False,  True,  True, False,  True, False, False, False, False,\n",
       "       False,  True,  True, False,  True,  True,  True, False,  True,\n",
       "       False,  True, False,  True,  True, False, False,  True,  True,\n",
       "       False,  True, False, False,  True, False, False,  True, False,\n",
       "       False,  True, False,  True, False, False, False, False, False,\n",
       "       False,  True, False,  True,  True, False,  True,  True, False,\n",
       "        True, False, False,  True, False, False,  True, False,  True,\n",
       "        True,  True,  True, False, False,  True,  True,  True,  True,\n",
       "        True, False, False, False, False,  True,  True, False, False,\n",
       "       False,  True, False,  True, False, False, False,  True, False,\n",
       "       False,  True,  True, False, False,  True,  True,  True, False,\n",
       "        True, False, False,  True,  True,  True, False,  True, False,\n",
       "        True, False,  True,  True, False,  True, False,  True, False,\n",
       "       False, False,  True, False, False,  True,  True,  True,  True,\n",
       "       False, False,  True, False, False,  True,  True, False,  True,\n",
       "        True, False,  True, False, False,  True,  True, False, False,\n",
       "       False,  True,  True,  True, False,  True,  True,  True,  True,\n",
       "        True, False,  True, False,  True,  True, False, False,  True,\n",
       "        True,  True, False,  True,  True,  True,  True,  True,  True,\n",
       "       False, False, False, False, False,  True, False,  True, False,\n",
       "        True,  True, False, False,  True, False,  True,  True,  True,\n",
       "        True, False, False,  True, False, False, False, False, False,\n",
       "       False,  True,  True, False, False, False,  True, False, False,\n",
       "        True,  True, False, False, False,  True, False, False, False,\n",
       "       False,  True, False, False, False,  True, False,  True, False,\n",
       "        True,  True,  True,  True, False, False,  True, False,  True,\n",
       "        True, False,  True,  True, False,  True,  True,  True,  True,\n",
       "       False, False,  True, False,  True, False, False, False, False,\n",
       "        True,  True,  True,  True,  True,  True, False, False, False,\n",
       "       False,  True, False, False,  True, False, False,  True,  True,\n",
       "       False, False, False, False, False,  True,  True, False, False,\n",
       "       False,  True, False, False,  True,  True, False,  True,  True,\n",
       "        True, False, False,  True,  True, False, False,  True,  True,\n",
       "       False,  True,  True, False,  True, False, False, False,  True,\n",
       "        True,  True,  True,  True,  True, False, False,  True, False,\n",
       "        True, False, False, False, False,  True,  True, False,  True,\n",
       "       False, False,  True,  True, False,  True, False, False, False,\n",
       "        True,  True, False, False, False, False, False,  True,  True,\n",
       "        True,  True,  True, False,  True,  True,  True, False, False,\n",
       "        True,  True,  True, False, False, False,  True,  True,  True,\n",
       "       False,  True,  True,  True, False, False, False,  True,  True,\n",
       "        True, False, False, False, False,  True, False, False,  True,\n",
       "        True, False,  True, False,  True, False,  True, False, False,\n",
       "        True,  True,  True, False,  True, False, False, False,  True,\n",
       "        True,  True, False, False, False, False, False,  True,  True,\n",
       "       False, False, False, False, False, False, False, False,  True,\n",
       "        True, False, False, False,  True,  True, False, False, False,\n",
       "       False,  True,  True, False, False, False, False, False, False,\n",
       "        True, False, False,  True,  True, False, False, False,  True,\n",
       "       False, False, False, False,  True, False,  True, False, False,\n",
       "        True,  True, False, False, False,  True,  True,  True, False,\n",
       "        True,  True,  True, False, False, False, False,  True, False,\n",
       "       False,  True, False,  True, False,  True,  True, False, False,\n",
       "       False, False,  True,  True,  True, False,  True, False, False,\n",
       "       False,  True, False, False,  True, False, False, False,  True,\n",
       "       False, False,  True,  True,  True,  True, False, False, False,\n",
       "        True,  True,  True,  True, False, False,  True,  True,  True,\n",
       "       False,  True, False,  True,  True,  True,  True,  True,  True,\n",
       "        True,  True,  True, False, False,  True,  True,  True,  True,\n",
       "       False, False, False,  True, False, False, False, False,  True,\n",
       "        True, False, False,  True,  True, False, False, False, False,\n",
       "       False,  True, False, False, False,  True, False,  True, False,\n",
       "       False, False, False, False,  True, False, False,  True, False,\n",
       "       False, False,  True, False, False,  True, False, False, False,\n",
       "       False, False, False,  True,  True, False,  True, False,  True,\n",
       "        True, False, False,  True,  True, False,  True, False, False,\n",
       "       False, False,  True,  True, False, False, False,  True,  True,\n",
       "        True,  True, False, False, False, False, False,  True, False,\n",
       "       False,  True,  True,  True,  True, False,  True, False, False,\n",
       "       False,  True,  True, False, False, False,  True,  True, False,\n",
       "       False, False, False, False, False, False,  True, False, False,\n",
       "       False])"
      ]
     },
     "execution_count": 79,
     "metadata": {},
     "output_type": "execute_result"
    }
   ],
   "source": [
    "vs100 == 1"
   ]
  },
  {
   "cell_type": "code",
   "execution_count": 76,
   "id": "726d0a93-7932-4f5e-8952-fca2d61a2774",
   "metadata": {},
   "outputs": [
    {
     "name": "stdout",
     "output_type": "stream",
     "text": [
      "0.473\n",
      "0.972\n",
      "0.336\n"
     ]
    }
   ],
   "source": [
    "print(np.mean(vs100 == 1))\n",
    "print(np.mean(vs175 == 1))\n",
    "print(np.mean(vs205 == 1))"
   ]
  },
  {
   "cell_type": "code",
   "execution_count": 109,
   "id": "489e7626-19b5-415e-87d1-e719dfe055a7",
   "metadata": {},
   "outputs": [],
   "source": [
    "vs100w = np.array([np.where(close(np.array([int(a) for a in bclr_dict['cps'][i]]), 100))[0] for i in np.where(vs100==1)[0]])[:,0]\n",
    "vs175w = np.array([np.where(close(np.array([int(a) for a in bclr_dict['cps'][i]]), 175))[0] for i in np.where(vs175==1)[0]])[:,0]\n",
    "vs205w = np.array([np.where(close(np.array([int(a) for a in bclr_dict['cps'][i]]), 205))[0] for i in np.where(vs205==1)[0]])[:,0]"
   ]
  },
  {
   "cell_type": "markdown",
   "id": "f673bb0b-0867-483b-b587-84f13da728a2",
   "metadata": {},
   "source": [
    "CP 100"
   ]
  },
  {
   "cell_type": "code",
   "execution_count": 125,
   "id": "50ef408d-dd6a-40d4-a54c-8dda464f3819",
   "metadata": {},
   "outputs": [],
   "source": [
    "pos_100 = {'first': [], 'second': []}\n",
    "\n",
    "for i,j in enumerate(np.where(vs100==1)[0]):\n",
    "    ok = bclr_dict['scnds'][j][2*vs100w[i]:(2*vs100w[i]+2)]\n",
    "    pos_100['first'] += [ok[0] == '4']\n",
    "    pos_100['second'] += [ok[1] == '4']"
   ]
  },
  {
   "cell_type": "code",
   "execution_count": 126,
   "id": "3c6413ee-ff56-4bbc-b322-1d01adfa79fa",
   "metadata": {},
   "outputs": [
    {
     "data": {
      "text/plain": [
       "first     0.970402\n",
       "second    0.021142\n",
       "dtype: float64"
      ]
     },
     "execution_count": 126,
     "metadata": {},
     "output_type": "execute_result"
    }
   ],
   "source": [
    "pd.DataFrame(pos_100).mean(axis=0)"
   ]
  },
  {
   "cell_type": "code",
   "execution_count": 121,
   "id": "6f567ee7-83e4-43f6-8323-99386d2aa463",
   "metadata": {},
   "outputs": [],
   "source": [
    "pos_175 = {'first': [], 'second': []}\n",
    "\n",
    "for i,j in enumerate(np.where(vs175==1)[0]):\n",
    "    ok = bclr_dict['scnds'][j][2*vs175w[i]:(2*vs175w[i]+2)]\n",
    "    pos_175['first'] += [ok[0] == '2']\n",
    "    pos_175['second'] += [ok[1] == '2']"
   ]
  },
  {
   "cell_type": "code",
   "execution_count": 122,
   "id": "b3d4c1d1-01bd-4519-b74a-41d284ab56bb",
   "metadata": {},
   "outputs": [
    {
     "data": {
      "text/plain": [
       "first     0.432099\n",
       "second    0.538066\n",
       "dtype: float64"
      ]
     },
     "execution_count": 122,
     "metadata": {},
     "output_type": "execute_result"
    }
   ],
   "source": [
    "pd.DataFrame(pos_175).mean(axis=0)"
   ]
  },
  {
   "cell_type": "code",
   "execution_count": 129,
   "id": "d1fe2029-fa35-49f4-ab19-5d6e76777195",
   "metadata": {},
   "outputs": [],
   "source": [
    "pos_205 = {'first': [], 'second': []}\n",
    "\n",
    "for i,j in enumerate(np.where(vs205==1)[0]):\n",
    "    ok = bclr_dict['scnds'][j][2*vs205w[i]:(2*vs205w[i]+2)]\n",
    "    pos_205['first'] += [ok[0] == '6']\n",
    "    pos_205['second'] += [ok[1] == '6']"
   ]
  },
  {
   "cell_type": "code",
   "execution_count": 150,
   "id": "a851e67f-377a-4897-811a-727e0ad2b9d1",
   "metadata": {},
   "outputs": [],
   "source": [
    "ok100 = []\n",
    "for i,j in enumerate(np.where(vs100==1)[0]):\n",
    "    ok100 += [bclr_dict['scnds'][j][2*vs100w[i]:(2*vs100w[i]+2)]]\n",
    "\n",
    "ok100 = pd.DataFrame(ok100, columns=['first', 'second'])"
   ]
  },
  {
   "cell_type": "code",
   "execution_count": 151,
   "id": "d7d734c8-44d6-4702-8660-cff035c749c0",
   "metadata": {},
   "outputs": [
    {
     "data": {
      "text/html": [
       "<div>\n",
       "<style scoped>\n",
       "    .dataframe tbody tr th:only-of-type {\n",
       "        vertical-align: middle;\n",
       "    }\n",
       "\n",
       "    .dataframe tbody tr th {\n",
       "        vertical-align: top;\n",
       "    }\n",
       "\n",
       "    .dataframe thead th {\n",
       "        text-align: right;\n",
       "    }\n",
       "</style>\n",
       "<table border=\"1\" class=\"dataframe\">\n",
       "  <thead>\n",
       "    <tr style=\"text-align: right;\">\n",
       "      <th>second</th>\n",
       "      <th>1</th>\n",
       "      <th>2</th>\n",
       "      <th>3</th>\n",
       "      <th>4</th>\n",
       "      <th>5</th>\n",
       "      <th>6</th>\n",
       "      <th>7</th>\n",
       "      <th>8</th>\n",
       "      <th>9</th>\n",
       "      <th>All</th>\n",
       "    </tr>\n",
       "    <tr>\n",
       "      <th>first</th>\n",
       "      <th></th>\n",
       "      <th></th>\n",
       "      <th></th>\n",
       "      <th></th>\n",
       "      <th></th>\n",
       "      <th></th>\n",
       "      <th></th>\n",
       "      <th></th>\n",
       "      <th></th>\n",
       "      <th></th>\n",
       "    </tr>\n",
       "  </thead>\n",
       "  <tbody>\n",
       "    <tr>\n",
       "      <th>2</th>\n",
       "      <td>0</td>\n",
       "      <td>0</td>\n",
       "      <td>0</td>\n",
       "      <td>1</td>\n",
       "      <td>0</td>\n",
       "      <td>0</td>\n",
       "      <td>0</td>\n",
       "      <td>0</td>\n",
       "      <td>0</td>\n",
       "      <td>1</td>\n",
       "    </tr>\n",
       "    <tr>\n",
       "      <th>3</th>\n",
       "      <td>0</td>\n",
       "      <td>0</td>\n",
       "      <td>0</td>\n",
       "      <td>1</td>\n",
       "      <td>0</td>\n",
       "      <td>0</td>\n",
       "      <td>0</td>\n",
       "      <td>0</td>\n",
       "      <td>0</td>\n",
       "      <td>1</td>\n",
       "    </tr>\n",
       "    <tr>\n",
       "      <th>4</th>\n",
       "      <td>62</td>\n",
       "      <td>29</td>\n",
       "      <td>34</td>\n",
       "      <td>0</td>\n",
       "      <td>115</td>\n",
       "      <td>98</td>\n",
       "      <td>41</td>\n",
       "      <td>42</td>\n",
       "      <td>38</td>\n",
       "      <td>459</td>\n",
       "    </tr>\n",
       "    <tr>\n",
       "      <th>5</th>\n",
       "      <td>0</td>\n",
       "      <td>0</td>\n",
       "      <td>0</td>\n",
       "      <td>1</td>\n",
       "      <td>0</td>\n",
       "      <td>0</td>\n",
       "      <td>0</td>\n",
       "      <td>0</td>\n",
       "      <td>0</td>\n",
       "      <td>1</td>\n",
       "    </tr>\n",
       "    <tr>\n",
       "      <th>6</th>\n",
       "      <td>0</td>\n",
       "      <td>1</td>\n",
       "      <td>0</td>\n",
       "      <td>2</td>\n",
       "      <td>1</td>\n",
       "      <td>0</td>\n",
       "      <td>0</td>\n",
       "      <td>0</td>\n",
       "      <td>0</td>\n",
       "      <td>4</td>\n",
       "    </tr>\n",
       "    <tr>\n",
       "      <th>7</th>\n",
       "      <td>0</td>\n",
       "      <td>0</td>\n",
       "      <td>0</td>\n",
       "      <td>3</td>\n",
       "      <td>0</td>\n",
       "      <td>0</td>\n",
       "      <td>0</td>\n",
       "      <td>0</td>\n",
       "      <td>0</td>\n",
       "      <td>3</td>\n",
       "    </tr>\n",
       "    <tr>\n",
       "      <th>8</th>\n",
       "      <td>0</td>\n",
       "      <td>0</td>\n",
       "      <td>0</td>\n",
       "      <td>1</td>\n",
       "      <td>0</td>\n",
       "      <td>1</td>\n",
       "      <td>0</td>\n",
       "      <td>0</td>\n",
       "      <td>0</td>\n",
       "      <td>2</td>\n",
       "    </tr>\n",
       "    <tr>\n",
       "      <th>9</th>\n",
       "      <td>0</td>\n",
       "      <td>0</td>\n",
       "      <td>0</td>\n",
       "      <td>1</td>\n",
       "      <td>0</td>\n",
       "      <td>0</td>\n",
       "      <td>0</td>\n",
       "      <td>1</td>\n",
       "      <td>0</td>\n",
       "      <td>2</td>\n",
       "    </tr>\n",
       "    <tr>\n",
       "      <th>All</th>\n",
       "      <td>62</td>\n",
       "      <td>30</td>\n",
       "      <td>34</td>\n",
       "      <td>10</td>\n",
       "      <td>116</td>\n",
       "      <td>99</td>\n",
       "      <td>41</td>\n",
       "      <td>43</td>\n",
       "      <td>38</td>\n",
       "      <td>473</td>\n",
       "    </tr>\n",
       "  </tbody>\n",
       "</table>\n",
       "</div>"
      ],
      "text/plain": [
       "second   1   2   3   4    5   6   7   8   9  All\n",
       "first                                           \n",
       "2        0   0   0   1    0   0   0   0   0    1\n",
       "3        0   0   0   1    0   0   0   0   0    1\n",
       "4       62  29  34   0  115  98  41  42  38  459\n",
       "5        0   0   0   1    0   0   0   0   0    1\n",
       "6        0   1   0   2    1   0   0   0   0    4\n",
       "7        0   0   0   3    0   0   0   0   0    3\n",
       "8        0   0   0   1    0   1   0   0   0    2\n",
       "9        0   0   0   1    0   0   0   1   0    2\n",
       "All     62  30  34  10  116  99  41  43  38  473"
      ]
     },
     "execution_count": 151,
     "metadata": {},
     "output_type": "execute_result"
    }
   ],
   "source": [
    "pd.crosstab(ok100['first'], ok100['second'], margins=True)"
   ]
  },
  {
   "cell_type": "code",
   "execution_count": 144,
   "id": "d5878fb8-42aa-403b-8aec-e2874585c05a",
   "metadata": {},
   "outputs": [],
   "source": [
    "ok175 = []\n",
    "for i,j in enumerate(np.where(vs175==1)[0]):\n",
    "    ok175 += [bclr_dict['scnds'][j][2*vs175w[i]:(2*vs175w[i]+2)]]\n",
    "\n",
    "ok175 = pd.DataFrame(ok175, columns=['first', 'second'])"
   ]
  },
  {
   "cell_type": "code",
   "execution_count": 147,
   "id": "af62c2b1-2621-4aae-9efb-319681897550",
   "metadata": {},
   "outputs": [
    {
     "data": {
      "text/html": [
       "<div>\n",
       "<style scoped>\n",
       "    .dataframe tbody tr th:only-of-type {\n",
       "        vertical-align: middle;\n",
       "    }\n",
       "\n",
       "    .dataframe tbody tr th {\n",
       "        vertical-align: top;\n",
       "    }\n",
       "\n",
       "    .dataframe thead th {\n",
       "        text-align: right;\n",
       "    }\n",
       "</style>\n",
       "<table border=\"1\" class=\"dataframe\">\n",
       "  <thead>\n",
       "    <tr style=\"text-align: right;\">\n",
       "      <th>second</th>\n",
       "      <th>1</th>\n",
       "      <th>2</th>\n",
       "      <th>3</th>\n",
       "      <th>4</th>\n",
       "      <th>5</th>\n",
       "      <th>6</th>\n",
       "      <th>7</th>\n",
       "      <th>8</th>\n",
       "      <th>9</th>\n",
       "      <th>All</th>\n",
       "    </tr>\n",
       "    <tr>\n",
       "      <th>first</th>\n",
       "      <th></th>\n",
       "      <th></th>\n",
       "      <th></th>\n",
       "      <th></th>\n",
       "      <th></th>\n",
       "      <th></th>\n",
       "      <th></th>\n",
       "      <th></th>\n",
       "      <th></th>\n",
       "      <th></th>\n",
       "    </tr>\n",
       "  </thead>\n",
       "  <tbody>\n",
       "    <tr>\n",
       "      <th>2</th>\n",
       "      <td>20</td>\n",
       "      <td>0</td>\n",
       "      <td>22</td>\n",
       "      <td>14</td>\n",
       "      <td>4</td>\n",
       "      <td>11</td>\n",
       "      <td>285</td>\n",
       "      <td>4</td>\n",
       "      <td>60</td>\n",
       "      <td>420</td>\n",
       "    </tr>\n",
       "    <tr>\n",
       "      <th>4</th>\n",
       "      <td>0</td>\n",
       "      <td>0</td>\n",
       "      <td>0</td>\n",
       "      <td>0</td>\n",
       "      <td>1</td>\n",
       "      <td>0</td>\n",
       "      <td>0</td>\n",
       "      <td>1</td>\n",
       "      <td>0</td>\n",
       "      <td>2</td>\n",
       "    </tr>\n",
       "    <tr>\n",
       "      <th>7</th>\n",
       "      <td>0</td>\n",
       "      <td>523</td>\n",
       "      <td>0</td>\n",
       "      <td>0</td>\n",
       "      <td>25</td>\n",
       "      <td>1</td>\n",
       "      <td>0</td>\n",
       "      <td>1</td>\n",
       "      <td>0</td>\n",
       "      <td>550</td>\n",
       "    </tr>\n",
       "    <tr>\n",
       "      <th>All</th>\n",
       "      <td>20</td>\n",
       "      <td>523</td>\n",
       "      <td>22</td>\n",
       "      <td>14</td>\n",
       "      <td>30</td>\n",
       "      <td>12</td>\n",
       "      <td>285</td>\n",
       "      <td>6</td>\n",
       "      <td>60</td>\n",
       "      <td>972</td>\n",
       "    </tr>\n",
       "  </tbody>\n",
       "</table>\n",
       "</div>"
      ],
      "text/plain": [
       "second   1    2   3   4   5   6    7  8   9  All\n",
       "first                                           \n",
       "2       20    0  22  14   4  11  285  4  60  420\n",
       "4        0    0   0   0   1   0    0  1   0    2\n",
       "7        0  523   0   0  25   1    0  1   0  550\n",
       "All     20  523  22  14  30  12  285  6  60  972"
      ]
     },
     "execution_count": 147,
     "metadata": {},
     "output_type": "execute_result"
    }
   ],
   "source": [
    "pd.crosstab(ok175['first'], ok175['second'], margins=True)"
   ]
  },
  {
   "cell_type": "code",
   "execution_count": 141,
   "id": "679378c0-d952-4915-acc0-7bcfd6d4ab6d",
   "metadata": {},
   "outputs": [],
   "source": [
    "ok205 = []\n",
    "for i,j in enumerate(np.where(vs205==1)[0]):\n",
    "    ok205 += [bclr_dict['scnds'][j][2*vs205w[i]:(2*vs205w[i]+2)]]\n",
    "\n",
    "ok205 = pd.DataFrame(ok205, columns=['first', 'second'])"
   ]
  },
  {
   "cell_type": "code",
   "execution_count": 148,
   "id": "97f64058-93d7-4389-b1ad-d26dba940cea",
   "metadata": {
    "scrolled": true
   },
   "outputs": [
    {
     "data": {
      "text/html": [
       "<div>\n",
       "<style scoped>\n",
       "    .dataframe tbody tr th:only-of-type {\n",
       "        vertical-align: middle;\n",
       "    }\n",
       "\n",
       "    .dataframe tbody tr th {\n",
       "        vertical-align: top;\n",
       "    }\n",
       "\n",
       "    .dataframe thead th {\n",
       "        text-align: right;\n",
       "    }\n",
       "</style>\n",
       "<table border=\"1\" class=\"dataframe\">\n",
       "  <thead>\n",
       "    <tr style=\"text-align: right;\">\n",
       "      <th>second</th>\n",
       "      <th>1</th>\n",
       "      <th>2</th>\n",
       "      <th>3</th>\n",
       "      <th>4</th>\n",
       "      <th>5</th>\n",
       "      <th>6</th>\n",
       "      <th>7</th>\n",
       "      <th>8</th>\n",
       "      <th>9</th>\n",
       "      <th>All</th>\n",
       "    </tr>\n",
       "    <tr>\n",
       "      <th>first</th>\n",
       "      <th></th>\n",
       "      <th></th>\n",
       "      <th></th>\n",
       "      <th></th>\n",
       "      <th></th>\n",
       "      <th></th>\n",
       "      <th></th>\n",
       "      <th></th>\n",
       "      <th></th>\n",
       "      <th></th>\n",
       "    </tr>\n",
       "  </thead>\n",
       "  <tbody>\n",
       "    <tr>\n",
       "      <th>1</th>\n",
       "      <td>0</td>\n",
       "      <td>0</td>\n",
       "      <td>0</td>\n",
       "      <td>0</td>\n",
       "      <td>0</td>\n",
       "      <td>0</td>\n",
       "      <td>0</td>\n",
       "      <td>0</td>\n",
       "      <td>2</td>\n",
       "      <td>2</td>\n",
       "    </tr>\n",
       "    <tr>\n",
       "      <th>2</th>\n",
       "      <td>1</td>\n",
       "      <td>0</td>\n",
       "      <td>0</td>\n",
       "      <td>0</td>\n",
       "      <td>0</td>\n",
       "      <td>1</td>\n",
       "      <td>1</td>\n",
       "      <td>0</td>\n",
       "      <td>3</td>\n",
       "      <td>6</td>\n",
       "    </tr>\n",
       "    <tr>\n",
       "      <th>3</th>\n",
       "      <td>0</td>\n",
       "      <td>0</td>\n",
       "      <td>0</td>\n",
       "      <td>0</td>\n",
       "      <td>0</td>\n",
       "      <td>0</td>\n",
       "      <td>0</td>\n",
       "      <td>1</td>\n",
       "      <td>1</td>\n",
       "      <td>2</td>\n",
       "    </tr>\n",
       "    <tr>\n",
       "      <th>4</th>\n",
       "      <td>0</td>\n",
       "      <td>0</td>\n",
       "      <td>0</td>\n",
       "      <td>0</td>\n",
       "      <td>1</td>\n",
       "      <td>1</td>\n",
       "      <td>0</td>\n",
       "      <td>0</td>\n",
       "      <td>3</td>\n",
       "      <td>5</td>\n",
       "    </tr>\n",
       "    <tr>\n",
       "      <th>6</th>\n",
       "      <td>0</td>\n",
       "      <td>0</td>\n",
       "      <td>0</td>\n",
       "      <td>0</td>\n",
       "      <td>0</td>\n",
       "      <td>0</td>\n",
       "      <td>0</td>\n",
       "      <td>0</td>\n",
       "      <td>16</td>\n",
       "      <td>16</td>\n",
       "    </tr>\n",
       "    <tr>\n",
       "      <th>7</th>\n",
       "      <td>0</td>\n",
       "      <td>0</td>\n",
       "      <td>0</td>\n",
       "      <td>0</td>\n",
       "      <td>0</td>\n",
       "      <td>1</td>\n",
       "      <td>0</td>\n",
       "      <td>0</td>\n",
       "      <td>0</td>\n",
       "      <td>1</td>\n",
       "    </tr>\n",
       "    <tr>\n",
       "      <th>8</th>\n",
       "      <td>0</td>\n",
       "      <td>0</td>\n",
       "      <td>0</td>\n",
       "      <td>0</td>\n",
       "      <td>0</td>\n",
       "      <td>0</td>\n",
       "      <td>0</td>\n",
       "      <td>0</td>\n",
       "      <td>1</td>\n",
       "      <td>1</td>\n",
       "    </tr>\n",
       "    <tr>\n",
       "      <th>9</th>\n",
       "      <td>21</td>\n",
       "      <td>17</td>\n",
       "      <td>24</td>\n",
       "      <td>24</td>\n",
       "      <td>27</td>\n",
       "      <td>150</td>\n",
       "      <td>13</td>\n",
       "      <td>27</td>\n",
       "      <td>0</td>\n",
       "      <td>303</td>\n",
       "    </tr>\n",
       "    <tr>\n",
       "      <th>All</th>\n",
       "      <td>22</td>\n",
       "      <td>17</td>\n",
       "      <td>24</td>\n",
       "      <td>24</td>\n",
       "      <td>28</td>\n",
       "      <td>153</td>\n",
       "      <td>14</td>\n",
       "      <td>28</td>\n",
       "      <td>26</td>\n",
       "      <td>336</td>\n",
       "    </tr>\n",
       "  </tbody>\n",
       "</table>\n",
       "</div>"
      ],
      "text/plain": [
       "second   1   2   3   4   5    6   7   8   9  All\n",
       "first                                           \n",
       "1        0   0   0   0   0    0   0   0   2    2\n",
       "2        1   0   0   0   0    1   1   0   3    6\n",
       "3        0   0   0   0   0    0   0   1   1    2\n",
       "4        0   0   0   0   1    1   0   0   3    5\n",
       "6        0   0   0   0   0    0   0   0  16   16\n",
       "7        0   0   0   0   0    1   0   0   0    1\n",
       "8        0   0   0   0   0    0   0   0   1    1\n",
       "9       21  17  24  24  27  150  13  27   0  303\n",
       "All     22  17  24  24  28  153  14  28  26  336"
      ]
     },
     "execution_count": 148,
     "metadata": {},
     "output_type": "execute_result"
    }
   ],
   "source": [
    "pd.crosstab(ok205['first'], ok205['second'], margins=True)"
   ]
  },
  {
   "cell_type": "markdown",
   "id": "655a5780-40d7-4c74-87fd-f4095fc42966",
   "metadata": {},
   "source": [
    "# Most confident change..."
   ]
  },
  {
   "cell_type": "code",
   "execution_count": 179,
   "id": "6bc1479a-d25e-42e3-8b5a-4ff8d0d0d32e",
   "metadata": {},
   "outputs": [
    {
     "data": {
      "text/plain": [
       "['250']"
      ]
     },
     "execution_count": 179,
     "metadata": {},
     "output_type": "execute_result"
    }
   ],
   "source": [
    "bclr_dict['cps'][98]"
   ]
  },
  {
   "cell_type": "code",
   "execution_count": 207,
   "id": "30c30fae-f81f-4eab-83ac-050ad70354e6",
   "metadata": {},
   "outputs": [],
   "source": [
    "def conv_fl(x):\n",
    "    try:\n",
    "        return float(x)\n",
    "    except:\n",
    "        return np.nan\n",
    "\n",
    "pprobs = []\n",
    "for i in range(1000):\n",
    "    pprobs += [int(bclr_dict['cps'][i][np.argmax([conv_fl(a) for a in bclr_dict['pprob'][i]])])]\n",
    "    #bclr_dict['cps'][np.argmax()]"
   ]
  },
  {
   "cell_type": "code",
   "execution_count": 222,
   "id": "36a2642d-488a-4283-ab21-23dd8b424c43",
   "metadata": {},
   "outputs": [
    {
     "name": "stdout",
     "output_type": "stream",
     "text": [
      "[np.int64(26), np.int64(879), np.int64(31), np.int64(10)]\n"
     ]
    },
    {
     "data": {
      "text/plain": [
       "np.int64(946)"
      ]
     },
     "execution_count": 222,
     "metadata": {},
     "output_type": "execute_result"
    }
   ],
   "source": [
    "how_close = [np.sum(close(np.array(pprobs), x)) for x in [100, 175, 205, 250]]\n",
    "print(how_close)\n",
    "sum(how_close)"
   ]
  }
 ],
 "metadata": {
  "kernelspec": {
   "display_name": "Python 3 (ipykernel)",
   "language": "python",
   "name": "python3"
  },
  "language_info": {
   "codemirror_mode": {
    "name": "ipython",
    "version": 3
   },
   "file_extension": ".py",
   "mimetype": "text/x-python",
   "name": "python",
   "nbconvert_exporter": "python",
   "pygments_lexer": "ipython3",
   "version": "3.12.0"
  }
 },
 "nbformat": 4,
 "nbformat_minor": 5
}
