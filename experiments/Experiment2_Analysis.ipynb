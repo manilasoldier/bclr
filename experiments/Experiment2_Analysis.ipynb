{
 "cells": [
  {
   "cell_type": "code",
   "execution_count": null,
   "id": "c9ebf016",
   "metadata": {},
   "outputs": [],
   "source": [
    "import pickle\n",
    "import pandas as pd\n",
    "import numpy as np\n",
    "import detectda as dtda\n",
    "import matplotlib.pyplot as plt\n",
    "from skimage import filters\n",
    "from sklearn.preprocessing import StandardScaler\n",
    "from sklearn.decomposition import PCA\n",
    "import sys\n",
    "from joblib import Parallel, delayed\n",
    "from scipy.stats import mode\n",
    "sys.path.append('..')"
   ]
  },
  {
   "cell_type": "code",
   "execution_count": null,
   "id": "482b33aa",
   "metadata": {},
   "outputs": [],
   "source": [
    "import bclr"
   ]
  },
  {
   "cell_type": "code",
   "execution_count": null,
   "id": "2ed06379",
   "metadata": {},
   "outputs": [],
   "source": [
    "vids2 = np.load(\"Experiment2_Plus1_Images1000.npy\")\n",
    "vid201 = vids2[201]\n",
    "vid902 = vids2[902]"
   ]
  },
  {
   "cell_type": "code",
   "execution_count": null,
   "id": "31915beb",
   "metadata": {},
   "outputs": [],
   "source": [
    "plt.imshow(filters.gaussian(vids2[27][45], sigma=2), cmap='gray')"
   ]
  },
  {
   "cell_type": "code",
   "execution_count": null,
   "id": "a3c447f1",
   "metadata": {},
   "outputs": [],
   "source": [
    "file=open('experiment2_data.pickle', 'rb')\n",
    "exp2=pickle.load(file)"
   ]
  },
  {
   "cell_type": "raw",
   "id": "6717a908",
   "metadata": {},
   "source": [
    "file1 = open('experiment2_prior2.pickle', 'rb')\n",
    "exp2_p = pickle.load(file1)"
   ]
  },
  {
   "cell_type": "raw",
   "id": "e4fa31d7",
   "metadata": {
    "scrolled": false
   },
   "source": [
    "np.mean(np.array([mod.post_k_mode for mod in exp2_p['bcc_tda']])==40)"
   ]
  },
  {
   "cell_type": "code",
   "execution_count": null,
   "id": "35f3f652",
   "metadata": {
    "scrolled": true
   },
   "outputs": [],
   "source": [
    "np.mean(np.array([mod.post_k_mode for mod in exp2['bcc_tda']])==40)"
   ]
  },
  {
   "cell_type": "code",
   "execution_count": null,
   "id": "c000170d",
   "metadata": {},
   "outputs": [],
   "source": [
    "plt.rcParams[\"font.family\"] = \"Nunito\""
   ]
  },
  {
   "cell_type": "code",
   "execution_count": null,
   "id": "12238196",
   "metadata": {},
   "outputs": [],
   "source": [
    "kcp_tda_all = exp2['kcp_tda']\n",
    "kcp_pca_all = exp2['kcp_pca']\n",
    "\n",
    "cf_tda_all = exp2['cf_tda']\n",
    "cf_pca_all = exp2['cf_pca']\n",
    "\n",
    "bclr_tda_all = exp2['bcc_tda']\n",
    "bclr_pca_all = exp2['bcc_pca']"
   ]
  },
  {
   "cell_type": "code",
   "execution_count": null,
   "id": "3807cbd6",
   "metadata": {},
   "outputs": [],
   "source": [
    "def rmse(x):\n",
    "    return np.sqrt(np.mean(x**2))\n",
    "\n",
    "cp_bclr_mses_tda = [rmse(bclr.post_k-40)  for bclr in bclr_tda_all]\n",
    "cp_bclr_mses_pca = [rmse(bclr.post_k-40)  for bclr in bclr_pca_all]"
   ]
  },
  {
   "cell_type": "code",
   "execution_count": null,
   "id": "155f128f",
   "metadata": {},
   "outputs": [],
   "source": [
    "bclr_modes_t = np.array([bclr.post_k_mode for bclr in bclr_tda_all])\n",
    "bclr_means_t = np.array([np.mean(bclr.post_k) for bclr in bclr_tda_all])"
   ]
  },
  {
   "cell_type": "code",
   "execution_count": null,
   "id": "73c406a4",
   "metadata": {},
   "outputs": [],
   "source": [
    "np.mean(np.abs(bclr_means_t-40))"
   ]
  },
  {
   "cell_type": "code",
   "execution_count": null,
   "id": "ae624090",
   "metadata": {},
   "outputs": [],
   "source": [
    "print(rmse(bclr_modes_t-40))\n",
    "\n",
    "print(rmse(bclr_means_t-40))"
   ]
  },
  {
   "cell_type": "code",
   "execution_count": null,
   "id": "0b2d3a60",
   "metadata": {},
   "outputs": [],
   "source": [
    "print(\"Mean RMSE: %0.3f\" % np.mean(cp_bclr_mses_tda))\n",
    "print(\"SE RMSE: %0.3f\" % np.std(cp_bclr_mses_tda))"
   ]
  },
  {
   "cell_type": "code",
   "execution_count": null,
   "id": "f7c5c1f0",
   "metadata": {},
   "outputs": [],
   "source": [
    "print(\"Mean RMSE: %0.3f\" % np.mean(cp_bclr_mses_pca))\n",
    "print(\"SE RMSE: %0.3f\" % np.std(cp_bclr_mses_pca))"
   ]
  },
  {
   "cell_type": "code",
   "execution_count": null,
   "id": "c9e914d2",
   "metadata": {},
   "outputs": [],
   "source": [
    "plt.hist(bclr_tda_all[4].k_draws_[2500:], bins=np.arange(1, 51))"
   ]
  },
  {
   "cell_type": "code",
   "execution_count": null,
   "id": "bece3f81",
   "metadata": {},
   "outputs": [],
   "source": [
    "print(kcp_tda_all[27])\n",
    "print(cf_tda_all[27])"
   ]
  },
  {
   "cell_type": "code",
   "execution_count": null,
   "id": "9cfb8ce1",
   "metadata": {},
   "outputs": [],
   "source": [
    "plt.plot(bclr_tda_all[27].k_draws_)"
   ]
  },
  {
   "cell_type": "code",
   "execution_count": null,
   "id": "d47a53e8",
   "metadata": {},
   "outputs": [],
   "source": [
    "hh = pd.DataFrame(bclr_tda_all[0].k_draws_[2500:]).value_counts(normalize=True)\n",
    "\n",
    "ind = np.where(hh.cumsum() > 1-0.05)[0][0]"
   ]
  },
  {
   "cell_type": "code",
   "execution_count": null,
   "id": "7c74bbb6",
   "metadata": {},
   "outputs": [],
   "source": [
    "def hpm(arr, alpha=0.05):\n",
    "    probs = pd.DataFrame(arr).value_counts(normalize=True)\n",
    "    ind = np.where(probs.cumsum() > 1-alpha)[0][0]\n",
    "    high_mass = np.array([i[0] for i in probs.index[:(ind+1)]])\n",
    "    return high_mass"
   ]
  },
  {
   "cell_type": "code",
   "execution_count": null,
   "id": "a28dc893",
   "metadata": {},
   "outputs": [],
   "source": [
    "bool(np.isin(40, hpm(bclr_tda_all[0].k_draws_[2500:], 0.05)))"
   ]
  },
  {
   "cell_type": "code",
   "execution_count": null,
   "id": "65a86a93",
   "metadata": {
    "scrolled": true
   },
   "outputs": [],
   "source": [
    "hpm(bclr_tda_all[0].k_draws_[2500:], 0.05)"
   ]
  },
  {
   "cell_type": "code",
   "execution_count": null,
   "id": "ec0fe65c",
   "metadata": {},
   "outputs": [],
   "source": [
    "hpm(bclr_tda_all[4].k_draws_[2500:])\n",
    "arr = bclr_tda_all[4].k_draws_[2500:]\n",
    "probs = pd.DataFrame(arr).value_counts(normalize=True)\n",
    "probs.cumsum()"
   ]
  },
  {
   "cell_type": "code",
   "execution_count": null,
   "id": "ac06faaf",
   "metadata": {},
   "outputs": [],
   "source": [
    "for al in [0.5, 0.2, 0.1, 0.05, 0.01]:    \n",
    "    m1_bclr_tda = [(np.quantile(bclr.k_draws_[2500:], al/2), np.quantile(bclr.k_draws_[2500:], 1-al/2)) for bclr in bclr_tda_all] \n",
    "    m2_bclr_tda = [bool(np.isin(40, hpm(bclr.k_draws_[2500:], al))) for bclr in bclr_tda_all]\n",
    "                  \n",
    "    print(1-al, np.mean([x[1] >= 40 and x[0] <= 40 for x in m1_bclr_tda]), \"tda quantile\")\n",
    "    print(1-al, np.mean(m2_bclr_tda), \"tda hpm\")              "
   ]
  },
  {
   "cell_type": "code",
   "execution_count": null,
   "id": "36edc56c",
   "metadata": {},
   "outputs": [],
   "source": [
    "m2_bclr_tda"
   ]
  },
  {
   "cell_type": "markdown",
   "id": "eaf3171c",
   "metadata": {},
   "source": [
    "What about Highest Posterior Density credible set? "
   ]
  },
  {
   "cell_type": "markdown",
   "id": "58d84198",
   "metadata": {},
   "source": [
    "### bclr changepoint detection"
   ]
  },
  {
   "cell_type": "code",
   "execution_count": null,
   "id": "00a82eb5",
   "metadata": {},
   "outputs": [],
   "source": [
    "rands= np.random.choice(np.arange(0, 1000), 9, replace=False)"
   ]
  },
  {
   "cell_type": "raw",
   "id": "39485a2e",
   "metadata": {},
   "source": [
    "fig, ax = plt.subplots(3,3, sharex=True, sharey=True)\n",
    "np.random.seed(1004903)\n",
    "rands= np.sort(np.random.choice(np.arange(0, 1000), 9, replace=False))\n",
    "for i in range(3):\n",
    "    for j in range(3):\n",
    "        ind = rands[3*i+j]\n",
    "        if i % 3 == 0:\n",
    "            ax[i,j].plot(bclr_tda_all[ind].k_draws_, color='black', alpha=1, lw=0.5)\n",
    "            ax[i,j].set_title(\"Simulation \"+str(ind), fontsize=10)\n",
    "        elif i % 3 == 1:\n",
    "            ax[i,j].plot(bclr_tda_all[ind].k_draws_, color='blue', alpha=1, lw=0.5)\n",
    "            ax[i,j].set_title(\"Simulation \"+str(ind), fontsize=10)\n",
    "        elif i % 3 == 2:\n",
    "            ax[i,j].plot(bclr_tda_all[ind].k_draws_, color='orange', alpha=1, lw=0.5)\n",
    "            ax[i,j].set_title(\"Simulation \"+str(ind), fontsize=10)\n",
    "        \n",
    "#fig.suptitle(\"Traceplots from simulation with changepoint at 40\", fontsize=16)\n",
    "fig.tight_layout(pad=1.0)\n",
    "plt.savefig(\"Traceplots40.pdf\")"
   ]
  },
  {
   "cell_type": "code",
   "execution_count": null,
   "id": "d31fdf07",
   "metadata": {},
   "outputs": [],
   "source": [
    "k_draws_after_burn = [bclr_tda_all[i].k_draws_[2500:] for i in range(1000)]"
   ]
  },
  {
   "cell_type": "code",
   "execution_count": null,
   "id": "55c1b172",
   "metadata": {},
   "outputs": [],
   "source": [
    "kdab = np.array(k_draws_after_burn).flatten()"
   ]
  },
  {
   "cell_type": "code",
   "execution_count": null,
   "id": "9f2803a4",
   "metadata": {},
   "outputs": [],
   "source": [
    "plt.hist(kdab, bins=np.arange(1, 51, 1))"
   ]
  },
  {
   "cell_type": "code",
   "execution_count": null,
   "id": "82436902",
   "metadata": {},
   "outputs": [],
   "source": [
    "cp_bclr_tda_mean = [np.mean(bclr.k_draws_[2500:], keepdims=False) for bclr in bclr_tda_all]"
   ]
  },
  {
   "cell_type": "code",
   "execution_count": null,
   "id": "5a2ded7a",
   "metadata": {},
   "outputs": [],
   "source": [
    "cp_bclr_tda = [mode(bclr.k_draws_[2500:], keepdims=False).mode for bclr in bclr_tda_all]\n",
    "cp_bclr_pca = [mode(bclr.k_draws_[2500:], keepdims=False).mode for bclr in bclr_pca_all]"
   ]
  },
  {
   "cell_type": "code",
   "execution_count": null,
   "id": "275cbb72",
   "metadata": {},
   "outputs": [],
   "source": [
    "cp_coverage = [(np.quantile(bclr.k_draws_[2500:], 0.05), np.quantile(bclr.k_draws_[2500:], 1)) for bclr in bclr_tda_all]"
   ]
  },
  {
   "cell_type": "code",
   "execution_count": null,
   "id": "03a2276f",
   "metadata": {},
   "outputs": [],
   "source": [
    "np.mean([i[0] <= 40 and i[1] >= 40 for i in cp_coverage])"
   ]
  },
  {
   "cell_type": "code",
   "execution_count": null,
   "id": "5143dd07",
   "metadata": {},
   "outputs": [],
   "source": [
    "hj = [np.mean(np.array([mode(bclr.k_draws_[2500:], keepdims=False).mode for bclr in bclr_tda_all if bclr.k_draws_[0] == j])==40) for j in range(1,51)]"
   ]
  },
  {
   "cell_type": "code",
   "execution_count": null,
   "id": "fd60c67f",
   "metadata": {},
   "outputs": [],
   "source": [
    "plt.bar(x=np.arange(1, 51), height=hj)"
   ]
  },
  {
   "cell_type": "code",
   "execution_count": null,
   "id": "43058b2f",
   "metadata": {},
   "outputs": [],
   "source": [
    "np.mean(np.array(cp_bclr_pca))"
   ]
  },
  {
   "cell_type": "code",
   "execution_count": null,
   "id": "70369c03",
   "metadata": {},
   "outputs": [],
   "source": [
    "plt.rcParams[\"font.family\"] = \"Nunito\""
   ]
  },
  {
   "cell_type": "code",
   "execution_count": null,
   "id": "d2ca6ade",
   "metadata": {},
   "outputs": [],
   "source": [
    "import seaborn as sns"
   ]
  },
  {
   "cell_type": "code",
   "execution_count": null,
   "id": "47e2f6de",
   "metadata": {},
   "outputs": [],
   "source": [
    "sns.set_style(\"whitegrid\")"
   ]
  },
  {
   "cell_type": "raw",
   "id": "02ca1e1d",
   "metadata": {
    "scrolled": false
   },
   "source": [
    "plt.hist(np.array(cp_bclr_pca), bins=np.arange(1, 52,1), color='#666666', ec='white')\n",
    "plt.title(\"Distribution of estimated changepoints for PCA features \\n(Changepoint at 40, bclr method)\", loc='left')\n",
    "plt.xlabel(\"Frame\")\n",
    "plt.ylabel(\"Count\")\n",
    "plt.savefig(\"HistPCA40.pdf\")"
   ]
  },
  {
   "cell_type": "code",
   "execution_count": null,
   "id": "75c796ff",
   "metadata": {
    "scrolled": true
   },
   "outputs": [],
   "source": [
    "print(\"RMSE for bclr, TDA features: %0.3f\" % np.sqrt(np.mean((np.array(cp_bclr_tda)-40)**2)))\n",
    "print(\"RMSE for bclr, PCA features: %0.3f\" % np.sqrt(np.mean((np.array(cp_bclr_pca)-40)**2)))\n",
    "\n",
    "print(\"\\n\")\n",
    "\n",
    "print(\"Probability k=40 for bclr, TDA features: %0.3f\" % np.mean(np.array(cp_bclr_tda)==40))\n",
    "print(\"Probability k=40 for bclr, PCA features: %0.3f\" % np.mean(np.array(cp_bclr_pca)==40))\n",
    "\n",
    "print(\"Std Err: Probability k=40 for bclr, TDA features: %0.3f\" % (np.std(np.array(cp_bclr_tda)==40)/np.sqrt(1000)))\n",
    "print(\"Std Err: Probability k=40 for bclr, PCA features: %0.3f\" % (np.std(np.array(cp_bclr_pca)==40)/np.sqrt(1000)))"
   ]
  },
  {
   "cell_type": "code",
   "execution_count": null,
   "id": "a7627cf7",
   "metadata": {},
   "outputs": [],
   "source": [
    "np.std(np.array(cp_bclr_tda)==40)/np.sqrt(1000)"
   ]
  },
  {
   "cell_type": "code",
   "execution_count": null,
   "id": "61f396d2",
   "metadata": {},
   "outputs": [],
   "source": [
    "print(\"Probability k=40 for bclr, TDA features (first 50): %0.3f\" % np.mean(np.array(cp_bclr_tda[:50])==40))"
   ]
  },
  {
   "cell_type": "code",
   "execution_count": null,
   "id": "dcb27f86",
   "metadata": {
    "scrolled": true
   },
   "outputs": [],
   "source": [
    "for i in range(5, 0, -1):\n",
    "    print(\"Probability \"+str(40-i)+\" <= k <= \"+str(40+i)+\" for bclr, TDA features: %0.3f\" % np.mean(\n",
    "        np.logical_and(np.array(cp_bclr_tda) <= 40+i, np.array(cp_bclr_tda) >= 40-i)))"
   ]
  },
  {
   "cell_type": "code",
   "execution_count": null,
   "id": "bd67f8f8",
   "metadata": {
    "scrolled": true
   },
   "outputs": [],
   "source": [
    "np.mean((np.array(cp_bclr_tda_mean)-40)**2)"
   ]
  },
  {
   "cell_type": "markdown",
   "id": "3d0605f7",
   "metadata": {},
   "source": [
    "Let's look at the beta coefficients"
   ]
  },
  {
   "cell_type": "code",
   "execution_count": null,
   "id": "cb0f8ffe",
   "metadata": {},
   "outputs": [],
   "source": [
    "cp_bclr_tda_beta = np.array([bclr.beta_draws_[2500:] for bclr in bclr_tda_all])\n",
    "names = ['mean_0_mid', 'variance_0_mid', 'skewness_0_mid', 'kurtosis_0_mid', 'median_0_mid', 'iqr_0_mid', 'q25_0_mid', 'q75_0_mid', 'pers_entr_0_life', 'alps_0_life', 'mean_0_life', 'variance_0_life','skewness_0_life', 'kurtosis_0_life', 'median_0_life', 'iqr_0_life', 'q25_0_life', 'q75_0_life', 'mean_1_mid', 'variance_1_mid', 'skewness_1_mid', 'kurtosis_1_mid', 'median_1_mid', 'iqr_1_mid','q25_1_mid', 'q75_1_mid', 'pers_entr_1_life', 'alps_1_life','mean_1_life', 'variance_1_life', 'skewness_1_life', 'kurtosis_1_life','median_1_life', 'iqr_1_life', 'q25_1_life', 'q75_1_life']\n",
    "beta_cors = np.array([np.corrcoef(bcbeta, rowvar=False) for bcbeta in cp_bclr_tda_beta])\n",
    "bcors = np.mean(beta_cors, axis=0)"
   ]
  },
  {
   "cell_type": "code",
   "execution_count": null,
   "id": "948987d0",
   "metadata": {},
   "outputs": [],
   "source": [
    "nam1 = []\n",
    "nam2 = []\n",
    "cors = []\n",
    "for i in range(35):\n",
    "    for j in range(i+1, 36):\n",
    "        nam1.append(names[i])\n",
    "        nam2.append(names[j])\n",
    "        cors.append(bcors[i,j])"
   ]
  },
  {
   "cell_type": "code",
   "execution_count": null,
   "id": "df09ea01",
   "metadata": {},
   "outputs": [],
   "source": [
    "cor_df = pd.DataFrame({'Var1': nam1, 'Var2': nam2, 'Corr': cors})\n",
    "cor_df.reindex(cor_df['Corr'].abs().sort_values(ascending=False).index)[:20]"
   ]
  },
  {
   "cell_type": "code",
   "execution_count": null,
   "id": "ca468879",
   "metadata": {},
   "outputs": [],
   "source": [
    "beta_snr = np.array([np.mean(bcbeta, axis=0)**2/np.var(bcbeta, axis=0) for bcbeta in cp_bclr_tda_beta])"
   ]
  },
  {
   "cell_type": "code",
   "execution_count": null,
   "id": "77c8f8ba",
   "metadata": {},
   "outputs": [],
   "source": [
    "abc = pd.Series(np.array(names)[np.argmax(beta_snr, axis=1)]).value_counts(normalize=True)\n",
    "prop_largest = abc.reindex(names).fillna(0)\n",
    "df_prop = pd.DataFrame({'names': names, 'mean_snr': np.mean(beta_snr, axis=0), 'sd_snr': np.std(beta_snr, axis=0),\n",
    "              'prop_highest': prop_largest}).sort_values(\"prop_highest\", ascending=False)"
   ]
  },
  {
   "cell_type": "code",
   "execution_count": null,
   "id": "b5be3a57",
   "metadata": {
    "scrolled": true
   },
   "outputs": [],
   "source": [
    "df_prop"
   ]
  },
  {
   "cell_type": "code",
   "execution_count": null,
   "id": "6c9e8f67",
   "metadata": {},
   "outputs": [],
   "source": [
    "nam_5 = list(df_prop.head(5).index)\n",
    "nam_list = np.array(names)"
   ]
  },
  {
   "cell_type": "code",
   "execution_count": null,
   "id": "750367df",
   "metadata": {},
   "outputs": [],
   "source": [
    "cor_index = [np.where(nam_list == nam)[0][0] for nam in nam_5]"
   ]
  },
  {
   "cell_type": "code",
   "execution_count": null,
   "id": "32170fdc",
   "metadata": {},
   "outputs": [],
   "source": [
    "for i in cor_index:\n",
    "    for j in cor_index:\n",
    "        if i<j:\n",
    "            print(nam_list[i], \"\\t\\t\", nam_list[j], \"\\t\\t\", np.round(bcors[i,j],3))"
   ]
  },
  {
   "cell_type": "markdown",
   "id": "83264bfc",
   "metadata": {},
   "source": [
    "### Changeforest changepoint detection"
   ]
  },
  {
   "cell_type": "code",
   "execution_count": null,
   "id": "5a37285f",
   "metadata": {
    "scrolled": true
   },
   "outputs": [],
   "source": [
    "cp_cf_tda = [a['best_split'] for a in cf_tda_all]\n",
    "cp_cf_pca = [a['best_split'] for a in cf_pca_all]\n",
    "\n",
    "print(\"RMSE for CF, TDA features: %0.3f\" % np.sqrt(np.mean((np.array(cp_cf_tda)-40)**2)))\n",
    "print(\"RMSE for CF, PCA features: %0.3f\" % np.sqrt(np.mean((np.array(cp_cf_pca)-40)**2)))"
   ]
  },
  {
   "cell_type": "code",
   "execution_count": null,
   "id": "b55b2072",
   "metadata": {
    "scrolled": true
   },
   "outputs": [],
   "source": [
    "print(\"Probability k=40 for CF, TDA features: %0.3f\" % np.mean(np.array(cp_cf_tda)==40))\n",
    "print(\"Probability k=40 for CF, PCA features: %0.3f\" % np.mean(np.array(cp_cf_pca)==40))\n",
    "\n",
    "print(\"Std Err: Probability k=40 for CF, TDA features: %0.3f\" % (np.std(np.array(cp_cf_tda)==40)/np.sqrt(1000)))\n",
    "print(\"Std Err: Probability k=40 for CF, PCA features: %0.3f\" % (np.std(np.array(cp_cf_pca)==40)/np.sqrt(1000)))"
   ]
  },
  {
   "cell_type": "code",
   "execution_count": null,
   "id": "4a55157d",
   "metadata": {},
   "outputs": [],
   "source": [
    "np.min(np.array(cp_cf_tda))"
   ]
  },
  {
   "cell_type": "code",
   "execution_count": null,
   "id": "0d1d42e5",
   "metadata": {},
   "outputs": [],
   "source": [
    "plt.hist(np.array(cp_cf_tda), bins=20)"
   ]
  },
  {
   "cell_type": "markdown",
   "id": "2a60904d",
   "metadata": {},
   "source": [
    "Kernel Changepoint detection using <code>ruptures</code> package"
   ]
  },
  {
   "cell_type": "code",
   "execution_count": null,
   "id": "aac816bc",
   "metadata": {},
   "outputs": [],
   "source": [
    "cp_kcp_tda = [a['changepoint'][0] for a in kcp_tda_all]\n",
    "cp_kcp_pca = [a['changepoint'][0] for a in kcp_pca_all]"
   ]
  },
  {
   "cell_type": "markdown",
   "id": "72bee724",
   "metadata": {},
   "source": [
    "Changepoint distribution for Kernel Changepoint detection and dynamic programming using TDA features"
   ]
  },
  {
   "cell_type": "code",
   "execution_count": null,
   "id": "a0744709",
   "metadata": {},
   "outputs": [],
   "source": [
    "cp_kcp_tda"
   ]
  },
  {
   "cell_type": "code",
   "execution_count": null,
   "id": "02096301",
   "metadata": {
    "scrolled": true
   },
   "outputs": [],
   "source": [
    "print(\"RMSE for KCP, TDA features: %0.3f\" % np.sqrt(np.mean((np.array(cp_kcp_tda)-40)**2)))\n",
    "print(\"RMSE for KCP, PCA features: %0.3f\" % np.sqrt(np.mean((np.array(cp_kcp_pca)-40)**2)))"
   ]
  },
  {
   "cell_type": "code",
   "execution_count": null,
   "id": "8929d76f",
   "metadata": {},
   "outputs": [],
   "source": [
    "print(\"Probability k=40 for KCP, TDA features: %0.3f\" % np.mean(np.array(cp_kcp_tda)==40))\n",
    "print(\"Probability k=40 for KCP, PCA features: %0.3f\" % np.mean(np.array(cp_kcp_pca)==40))\n",
    "\n",
    "print(\"Std Err: Probability k=40 for KCP, TDA features: %0.3f\" % (np.std(np.array(cp_kcp_tda)==40)/np.sqrt(1000)))\n",
    "print(\"Std Err: Probability k=40 for KCP, PCA features: %0.3f\" % (np.std(np.array(cp_kcp_pca)==40)/np.sqrt(1000)))"
   ]
  },
  {
   "cell_type": "code",
   "execution_count": null,
   "id": "8a65a83a",
   "metadata": {
    "scrolled": true
   },
   "outputs": [],
   "source": [
    "print(\"Worst deviation from actual KCP: \"+str(int(np.max(np.abs(np.array(cp_kcp_tda)-40)))))\n",
    "print(\"Worst deviation from actual CF: \"+str(int(np.max(np.abs(np.array(cp_cf_tda)-40)))))\n",
    "print(\"Worst deviation from actual bclr: \"+str(int(np.max(np.abs(np.array(cp_bclr_tda)-40)))))"
   ]
  },
  {
   "cell_type": "code",
   "execution_count": null,
   "id": "c1938a5e",
   "metadata": {},
   "outputs": [],
   "source": [
    "plt.hist(np.array(cp_kcp_tda), bins=20)"
   ]
  },
  {
   "cell_type": "markdown",
   "id": "d35a39a4",
   "metadata": {},
   "source": [
    "### How does it compare to the integration methods?"
   ]
  },
  {
   "cell_type": "code",
   "execution_count": null,
   "id": "86ed441c",
   "metadata": {},
   "outputs": [],
   "source": [
    "#289, 208, 318, 582, 956 are good ones...\n",
    "\n",
    "from scipy.stats import multivariate_normal\n",
    "\n",
    "#705, 902, 948 yield interesting behavior\n",
    "ind = np.random.randint(1, 1001, 1)[0]\n",
    "print(str(ind)+\"\\n\")\n",
    "\n",
    "#Small variance of coordinates works really well!!!\n",
    "prior_cov = np.diag(np.repeat(0.25, 36))\n",
    "\n",
    "#Could the sigma value = 2, be obstructing the behavior here? \n",
    "aa_k = bclr.BayesCC_kappa(bclr_tda_all[ind].X, prior_cov = prior_cov, n_iter = 5000, print_res=False)\n",
    "print(aa_k['probs'].idxmax(), \"\\n\\n\", aa_k['probs'].max())\n",
    "\n",
    "print(\"\\n\"+\"Changepoint from beta sim method (bclr): \"+str(cp_bclr_tda[ind]))\n",
    "\n",
    "print(\"\\n\"+\"Changepoint from KCP: \"+str(cp_kcp_tda[ind]))\n",
    "\n",
    "print(\"\\n\"+\"Changepoint from CF: \"+str(cp_cf_tda[ind]))\n"
   ]
  },
  {
   "cell_type": "markdown",
   "id": "26689cbe",
   "metadata": {},
   "source": [
    "### Below, we process the data for usage by the methods using R"
   ]
  },
  {
   "cell_type": "raw",
   "id": "3c9f7ccf",
   "metadata": {},
   "source": [
    "ims = np.load(\"Experiment2_Plus1_Images1000.npy\")"
   ]
  },
  {
   "cell_type": "raw",
   "id": "8ae2c7b8",
   "metadata": {},
   "source": [
    "import time\n",
    "\n",
    "t1 = time.time()\n",
    "def get_stats(im):\n",
    "    noise_std = im\n",
    "    noise_dt = dtda.ImageSeriesPlus(noise_std)\n",
    "    noise_dt.fit(sigma=2)\n",
    "    pers_stats = noise_dt.get_pers_stats()\n",
    "    pers_stats_std0 = StandardScaler().fit_transform(pers_stats)\n",
    "    \n",
    "    noise_data = np.reshape(noise_std, (50, -1))\n",
    "    noisePCA = PCA(n_components=36).fit_transform(noise_data)\n",
    "    return [pers_stats_std0, noisePCA]\n",
    "\n",
    "my_dat = Parallel(n_jobs=2)(delayed(get_stats)(im) for im in ims)\n",
    "print(time.time()-t1)"
   ]
  },
  {
   "cell_type": "raw",
   "id": "c1810005",
   "metadata": {},
   "source": [
    "file=open('pers_statsANDpca_exp2.pkl', 'wb')\n",
    "pickle.dump(my_dat, file)"
   ]
  },
  {
   "cell_type": "raw",
   "id": "cab2b7b7",
   "metadata": {},
   "source": [
    "a = my_dat[0][0]\n",
    "sim = np.repeat(1, 50)\n",
    "frame = np.arange(1, 51)\n",
    "for i in range(1,1000):\n",
    "    a = np.r_[a, my_dat[i][0]]\n",
    "    sim = np.concatenate([sim, np.repeat(i+1, 50)])\n",
    "    frame = np.concatenate([frame, np.arange(1,51)])"
   ]
  },
  {
   "cell_type": "raw",
   "id": "79102d24",
   "metadata": {},
   "source": [
    "pers_stats_df = pd.DataFrame(np.c_[sim, frame, a])\n",
    "pers_stats_df.columns = [\"simulation\", \"frame\", *names]"
   ]
  },
  {
   "cell_type": "raw",
   "id": "3e4cc267",
   "metadata": {},
   "source": [
    "pers_stats_df.to_csv(\"Persistence_Statistics_Simulation1000_Kappa40_Plus1.csv\")"
   ]
  },
  {
   "cell_type": "raw",
   "id": "1776ad83",
   "metadata": {},
   "source": [
    "b = my_dat[0][1]\n",
    "sim = np.repeat(1, 50)\n",
    "frame = np.arange(1, 51)\n",
    "for i in range(1,1000):\n",
    "    b = np.r_[b, my_dat[i][1]]\n",
    "    sim = np.concatenate([sim, np.repeat(i+1, 50)])\n",
    "    frame = np.concatenate([frame, np.arange(1,51)])"
   ]
  },
  {
   "cell_type": "raw",
   "id": "89f3f291",
   "metadata": {},
   "source": [
    "pca_df = pd.DataFrame(np.c_[sim, frame, b])\n",
    "pca_df.columns = [\"simulation\", \"frame\", *names]"
   ]
  },
  {
   "cell_type": "raw",
   "id": "af213da4",
   "metadata": {},
   "source": [
    "pca_df.to_csv(\"PCA_Simulation1000_Kappa40_Plus1.csv\")"
   ]
  }
 ],
 "metadata": {
  "kernelspec": {
   "display_name": "Python 3 (ipykernel)",
   "language": "python",
   "name": "python3"
  },
  "language_info": {
   "codemirror_mode": {
    "name": "ipython",
    "version": 3
   },
   "file_extension": ".py",
   "mimetype": "text/x-python",
   "name": "python",
   "nbconvert_exporter": "python",
   "pygments_lexer": "ipython3",
   "version": "3.12.0"
  }
 },
 "nbformat": 4,
 "nbformat_minor": 5
}
