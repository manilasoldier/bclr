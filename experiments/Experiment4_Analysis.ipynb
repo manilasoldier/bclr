{
 "cells": [
  {
   "cell_type": "code",
   "execution_count": 1,
   "id": "d703b4ef",
   "metadata": {},
   "outputs": [],
   "source": [
    "import pickle\n",
    "import pandas as pd\n",
    "import numpy as np\n",
    "import detectda as dtda\n",
    "import matplotlib.pyplot as plt\n",
    "from skimage import filters\n",
    "from sklearn.preprocessing import StandardScaler\n",
    "from sklearn.decomposition import PCA\n",
    "import sys\n",
    "from joblib import Parallel, delayed\n",
    "from scipy.stats import mode"
   ]
  },
  {
   "cell_type": "code",
   "execution_count": 2,
   "id": "9fd6fe18",
   "metadata": {},
   "outputs": [],
   "source": [
    "names_exp4_df = ['cp_bcc', 'bcc_beta1', 'bcc_beta2', 'bcc_beta3', 'bcc_beta4', 'bcc_beta5',\n",
    "                'rmse_bcc', 'cp_cf', 'pval_cf', 'cp_kcp', 'cp_kcp_std', 'cp_ecp', 'cp_ecp_std', 'cp_mean']\n",
    "exp4_df = pd.read_table('experiment4_data.txt', sep=',', header=None, names=names_exp4_df)"
   ]
  },
  {
   "cell_type": "code",
   "execution_count": 3,
   "id": "3e7d304f",
   "metadata": {},
   "outputs": [
    {
     "data": {
      "text/plain": [
       "(2500, 14)"
      ]
     },
     "execution_count": 3,
     "metadata": {},
     "output_type": "execute_result"
    }
   ],
   "source": [
    "exp4_df.shape"
   ]
  },
  {
   "cell_type": "code",
   "execution_count": 4,
   "id": "c0c142d8",
   "metadata": {},
   "outputs": [
    {
     "name": "stdout",
     "output_type": "stream",
     "text": [
      "P. Exact BCLR: 0.260\n",
      "P. Exact CF: 0.216\n",
      "P. Exact KCP: 0.102\n",
      "P. Exact KCP STD: 0.266\n",
      "P. Exact ECP: 0.003\n",
      "P. Exact ECP STD: 0.275\n",
      "P. Exact MEAN: 0.020\n"
     ]
    }
   ],
   "source": [
    "print('P. Exact BCLR: %0.3f' % np.mean(exp4_df['cp_bcc']==350))\n",
    "\n",
    "print('P. Exact CF: %0.3f' % np.mean(exp4_df['cp_cf']==350))\n",
    "\n",
    "print('P. Exact KCP: %0.3f' % np.mean(exp4_df['cp_kcp']==350))\n",
    "\n",
    "print('P. Exact KCP STD: %0.3f' % np.mean(exp4_df['cp_kcp_std']==350))\n",
    "\n",
    "print('P. Exact ECP: %0.3f' % np.mean(exp4_df['cp_ecp']==350))\n",
    "\n",
    "print('P. Exact ECP STD: %0.3f' % np.mean(exp4_df['cp_ecp_std']==350))\n",
    "\n",
    "print('P. Exact MEAN: %0.3f' % np.mean(exp4_df['cp_mean']==350))"
   ]
  },
  {
   "cell_type": "code",
   "execution_count": 21,
   "id": "514ee734",
   "metadata": {},
   "outputs": [
    {
     "name": "stdout",
     "output_type": "stream",
     "text": [
      "P. Exact BCLR: 0.009\n",
      "P. Exact CF: 0.008\n",
      "P. Exact KCP: 0.006\n",
      "P. Exact KCP STD: 0.009\n",
      "P. Exact ECP: 0.001\n",
      "P. Exact ECP STD: 0.009\n",
      "P. Exact MEAN: 0.003\n"
     ]
    }
   ],
   "source": [
    "print('P. Exact BCLR: %0.3f' % (np.std(exp4_df['cp_bcc']==350)/50))\n",
    "\n",
    "print('P. Exact CF: %0.3f' % (np.std(exp4_df['cp_cf']==350)/50))\n",
    "\n",
    "print('P. Exact KCP: %0.3f' % (np.std(exp4_df['cp_kcp']==350)/50))\n",
    "\n",
    "print('P. Exact KCP STD: %0.3f' % (np.std(exp4_df['cp_kcp_std']==350)/50))\n",
    "\n",
    "print('P. Exact ECP: %0.3f' % (np.std(exp4_df['cp_ecp']==350)/50))\n",
    "\n",
    "print('P. Exact ECP STD: %0.3f' % (np.std(exp4_df['cp_ecp_std']==350)/50))\n",
    "\n",
    "print('P. Exact MEAN: %0.3f' % (np.std(exp4_df['cp_mean']==350)/50))"
   ]
  },
  {
   "cell_type": "code",
   "execution_count": 24,
   "id": "a7e5e312",
   "metadata": {},
   "outputs": [
    {
     "name": "stdout",
     "output_type": "stream",
     "text": [
      "RMSE BCLR: 6.796\n",
      "RMSE CF: 11.306\n",
      "RMSE KCP: 54.153\n",
      "RMSE KCP STD: 6.581\n",
      "RMSE ECP: 167.851\n",
      "RMSE ECP STD: 6.375\n",
      "RMSE MEAN: 182.753\n"
     ]
    }
   ],
   "source": [
    "print('RMSE BCLR: %0.3f' % np.mean(exp4_df['rmse_bcc']))\n",
    "\n",
    "print('RMSE CF: %0.3f' % np.sqrt(np.mean((exp4_df['cp_cf']-350)**2)))\n",
    "\n",
    "print('RMSE KCP: %0.3f' % np.sqrt(np.mean((exp4_df['cp_kcp']-350)**2)))\n",
    "\n",
    "print('RMSE KCP STD: %0.3f' % np.sqrt(np.mean((exp4_df['cp_kcp_std']-350)**2)))\n",
    "\n",
    "print('RMSE ECP: %0.3f' % np.sqrt(np.mean((exp4_df['cp_ecp']-350)**2)))\n",
    "\n",
    "print('RMSE ECP STD: %0.3f' % np.sqrt(np.mean((exp4_df['cp_ecp_std']-350)**2)))\n",
    "\n",
    "print('RMSE MEAN: %0.3f' % np.sqrt(np.mean((exp4_df['cp_mean']-350)**2)))"
   ]
  },
  {
   "cell_type": "code",
   "execution_count": 26,
   "id": "3757cc92",
   "metadata": {},
   "outputs": [
    {
     "data": {
      "text/plain": [
       "5.436651374725569"
      ]
     },
     "execution_count": 26,
     "metadata": {},
     "output_type": "execute_result"
    }
   ],
   "source": [
    "np.std(exp4_df['rmse_bcc'])"
   ]
  },
  {
   "cell_type": "code",
   "execution_count": 9,
   "id": "7d3a70db",
   "metadata": {},
   "outputs": [
    {
     "data": {
      "text/plain": [
       "cp_bcc        349.000000\n",
       "bcc_beta1      -0.750830\n",
       "bcc_beta2       0.327116\n",
       "bcc_beta3      -0.002833\n",
       "bcc_beta4      -0.000269\n",
       "bcc_beta5       0.001309\n",
       "rmse_bcc        5.209256\n",
       "cp_cf         350.000000\n",
       "pval_cf         0.005000\n",
       "cp_kcp        350.000000\n",
       "cp_kcp_std    350.000000\n",
       "cp_ecp        323.000000\n",
       "cp_ecp_std    350.000000\n",
       "cp_mean       346.500000\n",
       "dtype: float64"
      ]
     },
     "execution_count": 9,
     "metadata": {},
     "output_type": "execute_result"
    }
   ],
   "source": [
    "exp4_df.median()"
   ]
  },
  {
   "cell_type": "code",
   "execution_count": 10,
   "id": "05d142bf",
   "metadata": {},
   "outputs": [
    {
     "data": {
      "text/plain": [
       "array([[-0.77746668,  0.30172657, -0.03955612, -0.09174445, -0.27050252],\n",
       "       [-0.70228412,  0.39965917, -0.13219989,  0.26415268,  0.10271429],\n",
       "       [-0.81245843,  0.29900179, -0.00616297,  0.00860656,  0.08285122],\n",
       "       ...,\n",
       "       [-0.86618597,  0.39181739,  0.08353874, -0.01353673,  0.05673851],\n",
       "       [-0.83934633,  0.2626963 , -0.03227819,  0.06738238,  0.04798791],\n",
       "       [-0.62093813,  0.53695645, -0.18342984,  0.0178554 , -0.11854228]])"
      ]
     },
     "execution_count": 10,
     "metadata": {},
     "output_type": "execute_result"
    }
   ],
   "source": [
    "exp4_df.iloc[:, 1:6].to_numpy()"
   ]
  },
  {
   "cell_type": "code",
   "execution_count": 23,
   "id": "5075b908",
   "metadata": {},
   "outputs": [
    {
     "data": {
      "image/png": "[encoded data removed]",
      "text/plain": [
       "<Figure size 640x480 with 1 Axes>"
      ]
     },
     "metadata": {},
     "output_type": "display_data"
    }
   ],
   "source": [
    "plt.rcParams[\"font.family\"] = \"Nunito\"\n",
    "\n",
    "names = [r'$x_1$', r'$x_2$', r'$x_3$', r'$x_4$', r'$x_5$']\n",
    "\n",
    "fig, ax = plt.subplots()\n",
    "ax.yaxis.grid(True)\n",
    "bp = ax.boxplot(x=exp4_df.iloc[:, 1:6].to_numpy(), labels=names, sym='*', patch_artist=True)\n",
    "plt.setp(bp['fliers'], markersize=1.0)\n",
    "plt.xticks(rotation=30)\n",
    "plt.setp(bp[\"boxes\"], facecolor=\"black\")\n",
    "plt.setp(bp[\"medians\"], color=\"white\")\n",
    "ax.set_title(\"Categorical change\\nBoxplot of posterior mean \"+str(r'$\\beta$')+\" coefficients over 2500 simulations\", loc='left')\n",
    "plt.savefig(\"BoxplotMixed.pdf\")"
   ]
  }
 ],
 "metadata": {
  "kernelspec": {
   "display_name": "Python 3 (ipykernel)",
   "language": "python",
   "name": "python3"
  },
  "language_info": {
   "codemirror_mode": {
    "name": "ipython",
    "version": 3
   },
   "file_extension": ".py",
   "mimetype": "text/x-python",
   "name": "python",
   "nbconvert_exporter": "python",
   "pygments_lexer": "ipython3",
   "version": "3.8.4"
  }
 },
 "nbformat": 4,
 "nbformat_minor": 5
}
