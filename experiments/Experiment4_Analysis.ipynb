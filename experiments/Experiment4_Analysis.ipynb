{
 "cells": [
  {
   "cell_type": "code",
   "execution_count": 1,
   "id": "dfc95f42",
   "metadata": {},
   "outputs": [],
   "source": [
    "import pickle\n",
    "import pandas as pd\n",
    "import numpy as np\n",
    "import detectda as dtda\n",
    "import matplotlib.pyplot as plt\n",
    "from skimage import filters\n",
    "from sklearn.preprocessing import StandardScaler\n",
    "from sklearn.decomposition import PCA\n",
    "import sys\n",
    "from joblib import Parallel, delayed\n",
    "from scipy.stats import mode"
   ]
  },
  {
   "cell_type": "code",
   "execution_count": 2,
   "id": "ca464141",
   "metadata": {},
   "outputs": [],
   "source": [
    "names_exp4_df = ['cp_bcc', 'bcc_beta1', 'bcc_beta2', 'bcc_beta3', 'bcc_beta4', 'bcc_beta5',\n",
    "                'rmse_bcc', 'cp_cf', 'pval_cf', 'cp_kcp', 'cp_kcp_std', 'cp_ecp', 'cp_ecp_std', 'cp_mean']\n",
    "exp4_df = pd.read_table('experiment4_data.txt', sep=',', header=None, names=names_exp4_df)"
   ]
  },
  {
   "cell_type": "code",
   "execution_count": 11,
   "id": "39949988",
   "metadata": {},
   "outputs": [
    {
     "name": "stdout",
     "output_type": "stream",
     "text": [
      "P. Exact BCLR: 0.275\n",
      "P. Exact CF: 0.205\n",
      "P. Exact KCP: 0.122\n",
      "P. Exact KCP STD: 0.269\n",
      "P. Exact ECP: 0.004\n",
      "P. Exact ECP STD: 0.271\n",
      "P. Exact MEAN: 0.024\n"
     ]
    }
   ],
   "source": [
    "print('P. Exact BCLR: %0.3f' % np.mean(exp4_df['cp_bcc']==350))\n",
    "\n",
    "print('P. Exact CF: %0.3f' % np.mean(exp4_df['cp_cf']==350))\n",
    "\n",
    "print('P. Exact KCP: %0.3f' % np.mean(exp4_df['cp_kcp']==350))\n",
    "\n",
    "print('P. Exact KCP STD: %0.3f' % np.mean(exp4_df['cp_kcp_std']==350))\n",
    "\n",
    "print('P. Exact ECP: %0.3f' % np.mean(exp4_df['cp_ecp']==350))\n",
    "\n",
    "print('P. Exact ECP STD: %0.3f' % np.mean(exp4_df['cp_ecp_std']==350))\n",
    "\n",
    "print('P. Exact MEAN: %0.3f' % np.mean(exp4_df['cp_mean']==350))"
   ]
  },
  {
   "cell_type": "code",
   "execution_count": 17,
   "id": "f8dab8a3",
   "metadata": {},
   "outputs": [
    {
     "name": "stdout",
     "output_type": "stream",
     "text": [
      "P. Exact BCLR: 0.009\n",
      "P. Exact CF: 0.008\n",
      "P. Exact KCP: 0.007\n",
      "P. Exact KCP STD: 0.009\n",
      "P. Exact ECP: 0.001\n",
      "P. Exact ECP STD: 0.009\n",
      "P. Exact MEAN: 0.003\n"
     ]
    }
   ],
   "source": [
    "print('P. Exact BCLR: %0.3f' % (np.std(exp4_df['cp_bcc']==350)/50))\n",
    "\n",
    "print('P. Exact CF: %0.3f' % (np.std(exp4_df['cp_cf']==350)/50))\n",
    "\n",
    "print('P. Exact KCP: %0.3f' % (np.std(exp4_df['cp_kcp']==350)/50))\n",
    "\n",
    "print('P. Exact KCP STD: %0.3f' % (np.std(exp4_df['cp_kcp_std']==350)/50))\n",
    "\n",
    "print('P. Exact ECP: %0.3f' % (np.std(exp4_df['cp_ecp']==350)/50))\n",
    "\n",
    "print('P. Exact ECP STD: %0.3f' % (np.std(exp4_df['cp_ecp_std']==350)/50))\n",
    "\n",
    "print('P. Exact MEAN: %0.3f' % (np.std(exp4_df['cp_mean']==350)/50))"
   ]
  },
  {
   "cell_type": "code",
   "execution_count": 13,
   "id": "d49b63c3",
   "metadata": {},
   "outputs": [
    {
     "name": "stdout",
     "output_type": "stream",
     "text": [
      "RMSE BCLR: 6.644\n",
      "RMSE CF: 11.452\n",
      "RMSE KCP: 56.396\n",
      "RMSE KCP STD: 6.081\n",
      "RMSE ECP: 172.019\n",
      "RMSE ECP STD: 5.622\n",
      "RMSE MEAN: 181.170\n"
     ]
    }
   ],
   "source": [
    "print('RMSE BCLR: %0.3f' % np.mean(exp4_df['rmse_bcc']))\n",
    "\n",
    "print('RMSE CF: %0.3f' % np.sqrt(np.mean((exp4_df['cp_cf']-350)**2)))\n",
    "\n",
    "print('RMSE KCP: %0.3f' % np.sqrt(np.mean((exp4_df['cp_kcp']-350)**2)))\n",
    "\n",
    "print('RMSE KCP STD: %0.3f' % np.sqrt(np.mean((exp4_df['cp_kcp_std']-350)**2)))\n",
    "\n",
    "print('RMSE ECP: %0.3f' % np.sqrt(np.mean((exp4_df['cp_ecp']-350)**2)))\n",
    "\n",
    "print('RMSE ECP STD: %0.3f' % np.sqrt(np.mean((exp4_df['cp_ecp_std']-350)**2)))\n",
    "\n",
    "print('RMSE MEAN: %0.3f' % np.sqrt(np.mean((exp4_df['cp_mean']-350)**2)))"
   ]
  },
  {
   "cell_type": "code",
   "execution_count": 14,
   "id": "2e266bfe",
   "metadata": {},
   "outputs": [
    {
     "data": {
      "text/plain": [
       "5.18937895774034"
      ]
     },
     "execution_count": 14,
     "metadata": {},
     "output_type": "execute_result"
    }
   ],
   "source": [
    "np.std(exp4_df['rmse_bcc'])"
   ]
  },
  {
   "cell_type": "code",
   "execution_count": 6,
   "id": "1a10994a",
   "metadata": {},
   "outputs": [
    {
     "data": {
      "text/plain": [
       "cp_bcc        150.000000\n",
       "bcc_beta1      -0.805058\n",
       "bcc_beta2       0.181331\n",
       "bcc_beta3       0.000142\n",
       "bcc_beta4       0.000654\n",
       "bcc_beta5      -0.003971\n",
       "rmse_bcc        6.425548\n",
       "cp_cf         149.000000\n",
       "pval_cf         0.005000\n",
       "cp_kcp        150.000000\n",
       "cp_kcp_std    149.000000\n",
       "cp_ecp        298.000000\n",
       "cp_ecp_std    150.000000\n",
       "cp_mean       171.500000\n",
       "dtype: float64"
      ]
     },
     "execution_count": 6,
     "metadata": {},
     "output_type": "execute_result"
    }
   ],
   "source": [
    "exp4_df.median()"
   ]
  },
  {
   "cell_type": "code",
   "execution_count": 10,
   "id": "7067fad7",
   "metadata": {},
   "outputs": [
    {
     "data": {
      "text/plain": [
       "array([[-6.44884560e-01,  3.00128183e-01, -4.84106897e-02,\n",
       "        -7.49265285e-02, -1.67776328e-01],\n",
       "       [-7.18556359e-01,  1.53050216e-01, -3.22858900e-04,\n",
       "         3.68829509e-02,  7.16532127e-02],\n",
       "       [-7.20926281e-01,  2.23778185e-01, -4.92111567e-02,\n",
       "        -2.56329966e-01, -1.48136992e-02],\n",
       "       ...,\n",
       "       [-6.85401806e-01,  2.18107549e-01, -6.55929428e-02,\n",
       "        -2.74296569e-02,  1.09745422e-02],\n",
       "       [-8.83924821e-01,  2.69385083e-01, -9.37180186e-03,\n",
       "        -2.37532725e-01, -2.00800146e-01],\n",
       "       [-8.44784002e-01,  1.46147459e-01,  1.27778849e-02,\n",
       "         9.35278153e-02,  8.63098503e-02]])"
      ]
     },
     "execution_count": 10,
     "metadata": {},
     "output_type": "execute_result"
    }
   ],
   "source": [
    "exp4_df.iloc[:, 1:6].to_numpy()"
   ]
  },
  {
   "cell_type": "code",
   "execution_count": 15,
   "id": "0d51e607",
   "metadata": {},
   "outputs": [
    {
     "data": {
      "image/png": "[encoded data removed]",
      "text/plain": [
       "<Figure size 640x480 with 1 Axes>"
      ]
     },
     "metadata": {},
     "output_type": "display_data"
    }
   ],
   "source": [
    "plt.rcParams[\"font.family\"] = \"Nunito\"\n",
    "\n",
    "names = [r'$x_1$', r'$x_2$', r'$x_3$', r'$x_4$', r'$x_5$']\n",
    "\n",
    "fig, ax = plt.subplots()\n",
    "ax.yaxis.grid(True)\n",
    "bp = ax.boxplot(x=exp4_df.iloc[:, 1:6].to_numpy(), labels=names, sym='*', patch_artist=True)\n",
    "plt.setp(bp['fliers'], markersize=1.0)\n",
    "plt.xticks(rotation=30)\n",
    "plt.setp(bp[\"boxes\"], facecolor=\"black\")\n",
    "plt.setp(bp[\"medians\"], color=\"white\")\n",
    "ax.set_title(\"Categorical change\\nBoxplot of posterior mean \"+str(r'$\\beta$')+\" coefficients over 2500 simulations\", loc='left')\n",
    "plt.savefig(\"BoxplotMixed.pdf\")"
   ]
  }
 ],
 "metadata": {
  "kernelspec": {
   "display_name": "Python 3 (ipykernel)",
   "language": "python",
   "name": "python3"
  },
  "language_info": {
   "codemirror_mode": {
    "name": "ipython",
    "version": 3
   },
   "file_extension": ".py",
   "mimetype": "text/x-python",
   "name": "python",
   "nbconvert_exporter": "python",
   "pygments_lexer": "ipython3",
   "version": "3.8.4"
  }
 },
 "nbformat": 4,
 "nbformat_minor": 5
}
