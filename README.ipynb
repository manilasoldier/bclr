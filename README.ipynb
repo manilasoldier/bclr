{
 "cells": [
  {
   "cell_type": "markdown",
   "id": "aa39c828-a8f3-46dd-af0c-c17c51861410",
   "metadata": {},
   "source": [
    "# <code>bclr</code>\n",
    "\n",
    "A package for Bayesian Changepoint detection via Logistic Regression. Method was developed in Thomas, Jauch, and Matteson (2025). [Link](https://arxiv.org/abs/2401.02917)"
   ]
  },
  {
   "cell_type": "markdown",
   "id": "6a074211-7a05-4233-a5bb-50016d5b8f60",
   "metadata": {},
   "source": [
    "## Installation\n",
    "\n",
    "To install the package (as of 1/14/25), clone the repository and then install via pip (Linux/Mac):\n",
    "\n",
    "```\n",
    "$ git clone https://github.com/manilasoldier/bclr.git\n",
    "$ cd bclr\n",
    "$ pip install .\n",
    "```\n",
    "\n",
    "or run\n",
    "\n",
    "```\n",
    "$ pip install git+https://github.com/manilasoldier/bclr.git\n",
    "```"
   ]
  },
  {
   "cell_type": "markdown",
   "id": "974c09f2-b0b6-4eed-a3e8-421fdd951fac",
   "metadata": {},
   "source": [
    "## Information on the package\n",
    "\n",
    "Brief tutorials (as well as replication of some of our experiemnts can be seen in <code>bclr_examples.ipynb</code> and <code>bclr_multi_examples.ipynb</code> for the single and multiple changepoint settings. The experiments folder contains the code necessary to replicate some of our experiments. However, not all of the data is available for Experiments 1 and 2 because of size constraints. It can be made available upon request.\n"
   ]
  },
  {
   "cell_type": "markdown",
   "id": "03863621-940f-45ef-85f4-1caca1d10e62",
   "metadata": {},
   "source": [
    "## Running the code"
   ]
  },
  {
   "cell_type": "code",
   "execution_count": 1,
   "id": "e8bf336a-121f-4851-a78c-a78454a09a08",
   "metadata": {},
   "outputs": [],
   "source": [
    "import bclr\n",
    "import numpy as np"
   ]
  },
  {
   "cell_type": "code",
   "execution_count": 245,
   "id": "9e6d00d8-71c9-4c98-ac8c-06f79dd37023",
   "metadata": {},
   "outputs": [],
   "source": [
    "np.random.seed(199203)\n",
    "b1 = np.random.randn(100, 10)\n",
    "b2 = np.random.randn(80, 10) + np.broadcast_to(np.random.randn(10), (80, 10))\n",
    "b3 = np.random.randn(140, 10) + np.broadcast_to(np.random.randn(10), (140, 10))\n",
    "b4 = np.random.randn(80, 10) + np.broadcast_to(np.random.randn(10), (80, 10))\n",
    "\n",
    "X = np.r_[b1, b2, b3, b4]"
   ]
  },
  {
   "cell_type": "markdown",
   "id": "4b98a008-9442-4525-91b7-483e337e401e",
   "metadata": {},
   "source": [
    "First, let's specify priors for $\\beta$ coefficients and specify $J = 10$ (i.e. <code>cps=10</code>). \n",
    "\n",
    "Then, we will go ahead and fit <code>bclr</code> to the data and estimate (predict) the changes."
   ]
  },
  {
   "cell_type": "code",
   "execution_count": 251,
   "id": "b0ba8a62-8596-46e4-bfd4-dfbffe7bca29",
   "metadata": {
    "scrolled": true
   },
   "outputs": [],
   "source": [
    "prior = np.diag(np.repeat(3, 10))\n",
    "bclrM = bclr.MultiBayesCC(X = X, cps = 10, \n",
    "                          prior_cov=prior, warnings=False)\n",
    "cps = bclrM.fit_predict()"
   ]
  },
  {
   "cell_type": "markdown",
   "id": "8b88530b-25fd-413f-b9ed-a974efc6cdc6",
   "metadata": {},
   "source": [
    "Now we can look at\n",
    "- where the changes are estimated to be located, \n",
    "- the posterior probability of the estimates, and \n",
    "- the normalized entropy of the segment distribution."
   ]
  },
  {
   "cell_type": "code",
   "execution_count": 255,
   "id": "42d27b04-16ca-40f4-8641-b9bbf448a2eb",
   "metadata": {
    "scrolled": true
   },
   "outputs": [
    {
     "name": "stdout",
     "output_type": "stream",
     "text": [
      "   Location  Posterior Probability  Normalized Entropy\n",
      "0      99.0                  0.944            0.048640\n",
      "1     180.0                  1.000            0.000000\n",
      "2     320.0                  0.996            0.005354\n"
     ]
    }
   ],
   "source": [
    "print(cps)"
   ]
  }
 ],
 "metadata": {
  "kernelspec": {
   "display_name": "Python 3 (ipykernel)",
   "language": "python",
   "name": "python3"
  },
  "language_info": {
   "codemirror_mode": {
    "name": "ipython",
    "version": 3
   },
   "file_extension": ".py",
   "mimetype": "text/x-python",
   "name": "python",
   "nbconvert_exporter": "python",
   "pygments_lexer": "ipython3",
   "version": "3.12.0"
  }
 },
 "nbformat": 4,
 "nbformat_minor": 5
}
