{
 "cells": [
  {
   "cell_type": "markdown",
   "id": "aa39c828-a8f3-46dd-af0c-c17c51861410",
   "metadata": {},
   "source": [
    "# <code>bclr</code>\n",
    "\n",
    "A package for <b>B</b>ayesian <b>C</b>hangepoint detection via <b>L</b>ogistic <b>R</b>egression.\n",
    "\n",
    "These methods were developed in [Thomas, Jauch, and Matteson (2025)](https://arxiv.org/abs/2401.02917)."
   ]
  },
  {
   "cell_type": "markdown",
   "id": "6a074211-7a05-4233-a5bb-50016d5b8f60",
   "metadata": {},
   "source": [
    "## Installation\n",
    "\n",
    "To install the package (as of 1/14/25), clone the repository and then install via pip (Linux/Mac):\n",
    "\n",
    "```\n",
    "$ git clone https://github.com/manilasoldier/bclr.git\n",
    "$ cd bclr\n",
    "$ pip install .\n",
    "```\n",
    "\n",
    "or run\n",
    "\n",
    "```\n",
    "$ pip install git+https://github.com/manilasoldier/bclr.git\n",
    "```"
   ]
  },
  {
   "cell_type": "markdown",
   "id": "974c09f2-b0b6-4eed-a3e8-421fdd951fac",
   "metadata": {},
   "source": [
    "## Information on the package\n",
    "\n",
    "Brief tutorials (as well as replication of some of our experiemnts can be seen in <code>bclr_examples.ipynb</code> and <code>bclr_multi_examples.ipynb</code> for the single and multiple changepoint settings. The experiments folder contains the code necessary to replicate some of our experiments. However, not all of the data is available for Experiments 1 and 2 because of size constraints. It can be made available upon request.\n"
   ]
  },
  {
   "cell_type": "markdown",
   "id": "03863621-940f-45ef-85f4-1caca1d10e62",
   "metadata": {},
   "source": [
    "## Running the code"
   ]
  },
  {
   "cell_type": "code",
   "execution_count": 1,
   "id": "e8bf336a-121f-4851-a78c-a78454a09a08",
   "metadata": {},
   "outputs": [],
   "source": [
    "import bclr\n",
    "import numpy as np"
   ]
  },
  {
   "cell_type": "code",
   "execution_count": 2,
   "id": "9e6d00d8-71c9-4c98-ac8c-06f79dd37023",
   "metadata": {},
   "outputs": [],
   "source": [
    "np.random.seed(800037)\n",
    "a1 = np.random.standard_t(10, size=(320, 6))\n",
    "a2 = np.random.standard_t(1.5, size=(480, 6))\n",
    "\n",
    "# \"Gaussian\" type embedding\n",
    "Xs = np.exp(-np.r_[a1, a2]**2)"
   ]
  },
  {
   "cell_type": "markdown",
   "id": "7133c160-705f-482e-a0a9-aff5963d40e2",
   "metadata": {},
   "source": [
    "Let's first investigate the single changepoint setup, before moving the multiple one. \n",
    "\n",
    "First, let's specify a prior for the $\\beta$ coefficients (we need to provide a mean and covariance for the single changepoint setup)."
   ]
  },
  {
   "cell_type": "markdown",
   "id": "11cfa79f-8a5d-4ef0-b07a-5e34ea0b907e",
   "metadata": {},
   "source": [
    "### Single changepoint setup"
   ]
  },
  {
   "cell_type": "code",
   "execution_count": 3,
   "id": "5393c494-056b-4675-8f68-6fb0a3674de9",
   "metadata": {
    "jp-MarkdownHeadingCollapsed": true
   },
   "outputs": [],
   "source": [
    "rng1 = np.random.default_rng(800037) #for reproducibility\n",
    "prior_covS = np.diag(np.repeat(3, 6))\n",
    "prior_mean = np.repeat(0, 6)\n",
    "\n",
    "bclrS = bclr.BayesCC(X = Xs, prior_mean = prior_mean, prior_cov = prior_covS, \n",
    "                     n_iter = 2000)\n",
    "bclrS.fit(rng = rng1)\n",
    "bclrS.transform(verbose=False)"
   ]
  },
  {
   "cell_type": "code",
   "execution_count": 4,
   "id": "07f5e609-da62-456b-8bca-7d2c2b7cf18f",
   "metadata": {
    "scrolled": true
   },
   "outputs": [
    {
     "data": {
      "image/png": "[encoded data removed]",
      "text/plain": [
       "<Figure size 640x480 with 1 Axes>"
      ]
     },
     "metadata": {},
     "output_type": "display_data"
    }
   ],
   "source": [
    "bclrS.plot_k()"
   ]
  },
  {
   "cell_type": "markdown",
   "id": "fbba32cf-4414-4cb5-b0d8-6772225a5bb5",
   "metadata": {},
   "source": [
    "### Multiple changepoint setup"
   ]
  },
  {
   "cell_type": "markdown",
   "id": "efa62fce-0371-4fb8-ba92-a5ae0d2e54e9",
   "metadata": {},
   "source": [
    "Now we consider the multiple changepoint setup and the whole series $X$, where specify $J = 10$ (i.e. <code>cps=10</code>). \n",
    "\n",
    "Then, we will go ahead and fit <code>bclr</code> to the data and estimate (predict) the changes. \n",
    "\n",
    "Note: there is no need to specify a prior_mean for the multiple changepoint setup."
   ]
  },
  {
   "cell_type": "code",
   "execution_count": 5,
   "id": "c075fb02-353a-4f72-a952-71f3aaf505ff",
   "metadata": {},
   "outputs": [],
   "source": [
    "np.random.seed(199203)\n",
    "b1 = np.random.randn(100, 10)\n",
    "b2 = np.random.randn(80, 10) + np.broadcast_to(np.random.randn(10), (80, 10))\n",
    "b3 = np.random.randn(140, 10) + np.broadcast_to(np.random.randn(10), (140, 10))\n",
    "b4 = np.random.randn(80, 10) + np.broadcast_to(np.random.randn(10), (80, 10))\n",
    "\n",
    "Xm = np.r_[b1, b2, b3, b4]"
   ]
  },
  {
   "cell_type": "code",
   "execution_count": 8,
   "id": "4d3dc4ed-2660-4f99-ada2-f917da2d7126",
   "metadata": {
    "scrolled": true
   },
   "outputs": [],
   "source": [
    "rng2 = np.random.default_rng(199203) #for reproducibility\n",
    "prior_covM = np.diag(np.repeat(3, 10))\n",
    "bclrM = bclr.MultiBayesCC(X = Xm, cps = 10, prior_cov = prior_covM, \n",
    "                          rng = rng2, warnings=False)\n",
    "cps = bclrM.fit_predict()"
   ]
  },
  {
   "cell_type": "markdown",
   "id": "8b88530b-25fd-413f-b9ed-a974efc6cdc6",
   "metadata": {},
   "source": [
    "Now we can look at\n",
    "- where the changes are estimated to be located, \n",
    "- the posterior probability of the estimates, and \n",
    "- the normalized entropy of the segment distribution."
   ]
  },
  {
   "cell_type": "code",
   "execution_count": 9,
   "id": "42d27b04-16ca-40f4-8641-b9bbf448a2eb",
   "metadata": {},
   "outputs": [
    {
     "name": "stdout",
     "output_type": "stream",
     "text": [
      "   Location  Posterior Probability  Normalized Entropy\n",
      "0      99.0                  0.946            0.047544\n",
      "1     180.0                  1.000            0.000000\n",
      "2     320.0                  0.996            0.005354\n"
     ]
    }
   ],
   "source": [
    "print(cps)"
   ]
  }
 ],
 "metadata": {
  "kernelspec": {
   "display_name": "Python 3 (ipykernel)",
   "language": "python",
   "name": "python3"
  },
  "language_info": {
   "codemirror_mode": {
    "name": "ipython",
    "version": 3
   },
   "file_extension": ".py",
   "mimetype": "text/x-python",
   "name": "python",
   "nbconvert_exporter": "python",
   "pygments_lexer": "ipython3",
   "version": "3.12.0"
  }
 },
 "nbformat": 4,
 "nbformat_minor": 5
}
