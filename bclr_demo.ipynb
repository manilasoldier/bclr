{
 "cells": [
  {
   "cell_type": "code",
   "execution_count": 5,
   "id": "e269cbe4",
   "metadata": {},
   "outputs": [],
   "source": [
    "import bclr\n",
    "import detectda as dtda\n",
    "import numpy as np"
   ]
  },
  {
   "cell_type": "code",
   "execution_count": 2,
   "id": "730bf5e1",
   "metadata": {},
   "outputs": [],
   "source": [
    "vid = bclr.gen_sim(1)[0] # generate a single 50 frame 50 x 50 video\n",
    "std_vid = bclr.std_video(vid) #standardize video to have framewise mean zero and variance 1"
   ]
  },
  {
   "cell_type": "code",
   "execution_count": 6,
   "id": "64b4de8b",
   "metadata": {},
   "outputs": [],
   "source": [
    "prior_mean = np.repeat(0, 36)\n",
    "prior_cov = np.diag(np.repeat(1, 36))"
   ]
  }
 ],
 "metadata": {
  "kernelspec": {
   "display_name": "Python 3 (ipykernel)",
   "language": "python",
   "name": "python3"
  },
  "language_info": {
   "codemirror_mode": {
    "name": "ipython",
    "version": 3
   },
   "file_extension": ".py",
   "mimetype": "text/x-python",
   "name": "python",
   "nbconvert_exporter": "python",
   "pygments_lexer": "ipython3",
   "version": "3.8.4"
  }
 },
 "nbformat": 4,
 "nbformat_minor": 5
}
